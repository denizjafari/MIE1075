{
 "cells": [
  {
   "cell_type": "code",
   "execution_count": null,
   "outputs": [],
   "source": [],
   "metadata": {
    "collapsed": false
   }
  },
  {
   "cell_type": "code",
   "execution_count": 1,
   "outputs": [],
   "source": [
    "from plotly import graph_objects as go\n",
    "import plotly.offline as pyo\n"
   ],
   "metadata": {
    "collapsed": false
   }
  },
  {
   "cell_type": "code",
   "execution_count": 7,
   "outputs": [],
   "source": [
    "import csv\n",
    "\n",
    "with open('velocity_data_to_plot.csv') as f:\n",
    "    h = csv.reader(f)\n",
    "    data = list(h)"
   ],
   "metadata": {
    "collapsed": false
   }
  },
  {
   "cell_type": "code",
   "execution_count": 8,
   "outputs": [
    {
     "data": {
      "text/plain": "[['type',\n  'stream',\n  'yperiod',\n  'line',\n  'xhoverformat',\n  'stackgaps',\n  'meta',\n  'x',\n  'dy',\n  'ids',\n  'textsrc',\n  'hoveron',\n  'xaxis',\n  'showlegend',\n  'error_x',\n  'ysrc',\n  'cliponaxis',\n  'xperiod',\n  'opacity',\n  'selected',\n  'xsrc',\n  'y0',\n  'error_y',\n  'groupnorm',\n  'texttemplate',\n  'hoverinfosrc',\n  'fill',\n  'xcalendar',\n  'xperiod0',\n  'legendwidth',\n  'y',\n  'hovertemplatesrc',\n  'yaxis',\n  'mode',\n  'customdatasrc',\n  'stackgroup',\n  'visible',\n  'textposition',\n  'text',\n  'hovertemplate',\n  'selectedpoints',\n  'legendgroup',\n  'uirevision',\n  'legendrank',\n  'fillcolor',\n  'fillpattern',\n  'textpositionsrc',\n  'ycalendar',\n  'yhoverformat',\n  'connectgaps',\n  'yperiod0',\n  'xperiodalignment',\n  'hovertext',\n  'hoverinfo',\n  'uid',\n  'dx',\n  'customdata',\n  'yperiodalignment',\n  'texttemplatesrc',\n  'legendgrouptitle',\n  'hovertextsrc',\n  'x0',\n  'name',\n  'idssrc',\n  'unselected',\n  'marker',\n  'orientation',\n  'textfont',\n  'metasrc',\n  'hoverlabel'],\n ['type',\n  'stream',\n  'yperiod',\n  'line',\n  'xhoverformat',\n  'stackgaps',\n  'meta',\n  'x',\n  'dy',\n  'ids',\n  'textsrc',\n  'hoveron',\n  'xaxis',\n  'showlegend',\n  'error_x',\n  'ysrc',\n  'cliponaxis',\n  'xperiod',\n  'opacity',\n  'selected',\n  'xsrc',\n  'y0',\n  'error_y',\n  'groupnorm',\n  'texttemplate',\n  'hoverinfosrc',\n  'fill',\n  'xcalendar',\n  'xperiod0',\n  'legendwidth',\n  'y',\n  'hovertemplatesrc',\n  'yaxis',\n  'mode',\n  'customdatasrc',\n  'stackgroup',\n  'visible',\n  'textposition',\n  'text',\n  'hovertemplate',\n  'selectedpoints',\n  'legendgroup',\n  'uirevision',\n  'legendrank',\n  'fillcolor',\n  'fillpattern',\n  'textpositionsrc',\n  'ycalendar',\n  'yhoverformat',\n  'connectgaps',\n  'yperiod0',\n  'xperiodalignment',\n  'hovertext',\n  'hoverinfo',\n  'uid',\n  'dx',\n  'customdata',\n  'yperiodalignment',\n  'texttemplatesrc',\n  'legendgrouptitle',\n  'hovertextsrc',\n  'x0',\n  'name',\n  'idssrc',\n  'unselected',\n  'marker',\n  'orientation',\n  'textfont',\n  'metasrc',\n  'hoverlabel'],\n ['type',\n  'stream',\n  'yperiod',\n  'line',\n  'xhoverformat',\n  'stackgaps',\n  'meta',\n  'x',\n  'dy',\n  'ids',\n  'textsrc',\n  'hoveron',\n  'xaxis',\n  'showlegend',\n  'error_x',\n  'ysrc',\n  'cliponaxis',\n  'xperiod',\n  'opacity',\n  'selected',\n  'xsrc',\n  'y0',\n  'error_y',\n  'groupnorm',\n  'texttemplate',\n  'hoverinfosrc',\n  'fill',\n  'xcalendar',\n  'xperiod0',\n  'legendwidth',\n  'y',\n  'hovertemplatesrc',\n  'yaxis',\n  'mode',\n  'customdatasrc',\n  'stackgroup',\n  'visible',\n  'textposition',\n  'text',\n  'hovertemplate',\n  'selectedpoints',\n  'legendgroup',\n  'uirevision',\n  'legendrank',\n  'fillcolor',\n  'fillpattern',\n  'textpositionsrc',\n  'ycalendar',\n  'yhoverformat',\n  'connectgaps',\n  'yperiod0',\n  'xperiodalignment',\n  'hovertext',\n  'hoverinfo',\n  'uid',\n  'dx',\n  'customdata',\n  'yperiodalignment',\n  'texttemplatesrc',\n  'legendgrouptitle',\n  'hovertextsrc',\n  'x0',\n  'name',\n  'idssrc',\n  'unselected',\n  'marker',\n  'orientation',\n  'textfont',\n  'metasrc',\n  'hoverlabel']]"
     },
     "execution_count": 8,
     "metadata": {},
     "output_type": "execute_result"
    }
   ],
   "source": [
    "data"
   ],
   "metadata": {
    "collapsed": false
   }
  },
  {
   "cell_type": "code",
   "execution_count": null,
   "outputs": [],
   "source": [
    "data = []\n",
    "\n",
    "value = go.Scatter(\n",
    "    y=y_1,\n",
    "    #y=df_result.value,\n",
    "    mode=\"lines\",\n",
    "    name=\"values\",\n",
    "    marker=dict(),\n",
    "   # text=df_result.index,\n",
    "    line=dict(color=\"rgba(0,0,0, 0.3)\"),\n",
    ")\n",
    "data.append(value)\n",
    "\n",
    "baseline = go.Scatter(\n",
    "    y=b_1,\n",
    "   # y=df_baseline.prediction,\n",
    "    mode=\"lines\",\n",
    "    line={\"dash\": \"dot\"},\n",
    "    name='Linear Regression Predictions',\n",
    "    marker=dict(),\n",
    "    #text=df_baseline.index,\n",
    "    opacity=0.8,\n",
    ")\n",
    "data.append(baseline)\n",
    "\n",
    "prediction = go.Scatter(\n",
    "     y=p_1,\n",
    "     mode=\"lines\",\n",
    "     line={\"dash\": \"dot\"},\n",
    "     name='LSTM Predictions',\n",
    "     marker=dict(),\n",
    "     #text=df_result.index,\n",
    "     opacity=0.8,\n",
    "     )\n",
    "data.append(prediction)\n",
    "layout = dict(\n",
    "    title=\"Predictions vs Actual Values for the dataset\",\n",
    "    xaxis=dict(title=\"Time\", ticklen=5, zeroline=False),\n",
    "    yaxis=dict(title=\"Right Knee Motor Velocity\", ticklen=5, zeroline=False),\n",
    ")\n",
    "\n",
    "fig = dict(data=data, layout=layout)\n",
    "pyo.iplot(fig)\n"
   ],
   "metadata": {
    "collapsed": false
   }
  }
 ],
 "metadata": {
  "kernelspec": {
   "display_name": "Python 3",
   "language": "python",
   "name": "python3"
  },
  "language_info": {
   "codemirror_mode": {
    "name": "ipython",
    "version": 2
   },
   "file_extension": ".py",
   "mimetype": "text/x-python",
   "name": "python",
   "nbconvert_exporter": "python",
   "pygments_lexer": "ipython2",
   "version": "2.7.6"
  }
 },
 "nbformat": 4,
 "nbformat_minor": 0
}
