{
 "cells": [
  {
   "cell_type": "markdown",
   "source": [
    "## Setup"
   ],
   "metadata": {
    "collapsed": false
   }
  },
  {
   "cell_type": "code",
   "execution_count": 1,
   "outputs": [],
   "source": [
    "import os\n",
    "import datetime\n",
    "\n",
    "import IPython\n",
    "import IPython.display\n",
    "import matplotlib as mpl\n",
    "import matplotlib.pyplot as plt\n",
    "import numpy as np\n",
    "import pandas as pd\n",
    "import seaborn as sns\n",
    "import torch\n",
    "\n",
    "#mpl.rcParams['figure.figsize'] = (8, 6)\n",
    "#mpl.rcParams['axes.grid'] = False"
   ],
   "metadata": {
    "collapsed": false
   }
  },
  {
   "cell_type": "code",
   "execution_count": 14,
   "outputs": [
    {
     "name": "stdout",
     "output_type": "stream",
     "text": [
      "22\n"
     ]
    },
    {
     "data": {
      "text/plain": "['./data/preliminary_testing_walking_18_0_2022_12_12-20_19_01.csv',\n './data/preliminary_testing_walking_18_15_2022_12_12-20_24_50.csv',\n './data/preliminary_testing_walking_08_15_2022_12_12-20_22_39.csv',\n './data/preliminary_testing_walking_17_0_2022_12_12-20_18_30.csv',\n './data/preliminary_testing_walking_15_0_2022_12_12-20_16_35.csv',\n './data/preliminary_testing_walking_15_15_2022_12_12-20_24_17.csv',\n './data/preliminary_testing_walking_16_0_2022_12_12-20_20_55.csv',\n './data/preliminary_testing_walking_07_15_2022_12_12-20_25_23.csv',\n './data/preliminary_testing_walking_11_0_2022_12_12-20_20_26.csv',\n './data/preliminary_testing_stairup_0_0_2022_12_12-20_34_19.csv',\n './data/preliminary_testing_walking_05_15_2022_12_12-20_22_04.csv',\n './data/preliminary_testing_walking_08_0_2022_12_12-20_15_29.csv',\n './data/preliminary_testing_walking_10_0_2022_12_12-20_16_02.csv',\n './data/preliminary_testing_walking_10_15_2022_12_12-20_23_18.csv',\n './data/preliminary_testing_walking_13_15_2022_12_12-20_23_49.csv',\n './data/preliminary_testing_walking_13_0_2022_12_12-20_19_30.csv',\n './data/preliminary_testing_walking_09_0_2022_12_12-20_19_58.csv',\n './data/preliminary_testing_stairdown_0_0_2022_12_12-20_34_54.csv',\n './data/preliminary_testing_stairup_2_0_2022_12_12-20_51_35.csv',\n './data/preliminary_testing_stairdown_2_0_2022_12_12-20_52_08.csv',\n './data/preliminary_testing_walking_12_0_2022_12_12-20_17_31.csv',\n './data/preliminary_testing_walking_13_0_2022_12_12-20_18_01.csv']"
     },
     "execution_count": 14,
     "metadata": {},
     "output_type": "execute_result"
    }
   ],
   "source": [
    "# Reading/Creating the paths to Figshare dataset\n",
    "path = r'./data/'\n",
    "#path = r'/home/ubuntu/MIE1075/data/'\n",
    "dir = []\n",
    "for filename in os.listdir(path):\n",
    "\n",
    "    if os.path.isfile(os.path.join(path, filename)):\n",
    "        if 'walking_' in filename or '_stairup_' in filename or '_stairdown' in filename:\n",
    "            dir.append(os.path.join(path, filename))\n",
    "print(len(dir))\n",
    "dir"
   ],
   "metadata": {
    "collapsed": false
   }
  },
  {
   "cell_type": "code",
   "execution_count": 15,
   "outputs": [],
   "source": [
    "columns_tofilter = ['position_1','position_2','position_3','position_4', 'velocity_1', 'velocity_2','velocity_3','velocity_4','att_w','att_x','att_y','att_z','rate_dps_x',\n",
    "                        'rate_dps_y','rate_dps_z','accel_mps2_x','accel_mps2_y','accel_mps2_z','euler_rad_x','euler_rad_y','euler_rad_z']"
   ],
   "metadata": {
    "collapsed": false
   }
  },
  {
   "cell_type": "code",
   "execution_count": 16,
   "outputs": [],
   "source": [
    "from scipy import signal\n",
    "\n",
    "# function for butterworth '\n",
    "def butter_filt(signal_data):\n",
    "    fs = 38\n",
    "    fc = 8  # Cut-off frequency of the filter\n",
    "    w = fc / (fs / 2) # Normalize the frequency\n",
    "    b, a = signal.butter(6, w/2, 'lowpass')\n",
    "    return signal.filtfilt(b, a, signal_data)\n"
   ],
   "metadata": {
    "collapsed": false
   }
  },
  {
   "cell_type": "code",
   "execution_count": 17,
   "outputs": [],
   "source": [
    "def df_to_datapoints(df, num_input=40, prediction_offset=1,stride =38,  output_column=None, filter=True):\n",
    "    x_list = []\n",
    "    y_list = []\n",
    "    df = df.drop(['timestamp'], axis=1)\n",
    "    if filter == True:\n",
    "        df[columns_tofilter] = df[columns_tofilter].apply(butter_filt)\n",
    "\n",
    "    for i in range(((len(df) - num_input - prediction_offset)//stride)-1, stride):\n",
    "        x = df[i:i+num_input]\n",
    "        y = df.iloc[[i + num_input + prediction_offset]]\n",
    "\n",
    "\n",
    "        if output_column is not None:\n",
    "            y = y[output_column]\n",
    "\n",
    "        x_list.append(x.values)\n",
    "        y_list.append(y.values)\n",
    "\n",
    "    return x_list, y_list\n",
    "\n",
    "#sample_df = pd.read_csv('/home/ubuntu/MIE1075/data/preliminary_testing_normalwalk_0_0_2022_12_12-20_53_28.csv')\n",
    "#df_to_datapoints(sample_df, output_column=['position_1', 'velocity_1','position_3', 'velocity_3'])"
   ],
   "metadata": {
    "collapsed": false
   }
  },
  {
   "cell_type": "code",
   "execution_count": 20,
   "outputs": [
    {
     "name": "stdout",
     "output_type": "stream",
     "text": [
      "./data/preliminary_testing_walking_18_15_2022_12_12-20_24_50.csv\n",
      "./data/preliminary_testing_walking_08_15_2022_12_12-20_22_39.csv\n",
      "./data/preliminary_testing_walking_15_15_2022_12_12-20_24_17.csv\n",
      "./data/preliminary_testing_walking_07_15_2022_12_12-20_25_23.csv\n",
      "./data/preliminary_testing_walking_05_15_2022_12_12-20_22_04.csv\n",
      "./data/preliminary_testing_walking_10_15_2022_12_12-20_23_18.csv\n",
      "./data/preliminary_testing_walking_13_15_2022_12_12-20_23_49.csv\n",
      "352 352 89 89\n",
      "(40, 22) (1, 4) (40, 22) (1, 4)\n"
     ]
    }
   ],
   "source": [
    "# intentions are 1 = LEVEL GROUND WALKING | 2 = RAMP UP | 3 = STAIRS UP | 4 = STAIRS DOWN\n",
    "# Reading the dataset\n",
    "\n",
    "\n",
    "x_train_all = []\n",
    "y_train_all = []\n",
    "x_val_all = []\n",
    "y_val_all = []\n",
    "'''\n",
    "x_walk = []\n",
    "y_walk = []\n",
    "x_ramp = []\n",
    "y_ramp = []\n",
    "x_stairup = []\n",
    "y_stairup = []\n",
    "x_stairdown = []\n",
    "y_stairdown = []\n",
    "'''\n",
    "for f in dir:\n",
    "\n",
    "\n",
    "    if 'walking_' in f and '_0_' in f:\n",
    "\n",
    "        temp = pd.read_csv(f, index_col=None, header=0)\n",
    "        temp['intent'] = 0\n",
    "\n",
    "\n",
    "    elif 'walking_' in f and '_15_2022' in f:\n",
    "        print(f)\n",
    "        temp = pd.read_csv(f, index_col=None, header=0)\n",
    "        temp['intent'] = 1\n",
    "\n",
    "    x, y = df_to_datapoints(temp, num_input=40, prediction_offset=1,stride=38, output_column=['position_1', 'velocity_1','position_3', 'velocity_3'])\n",
    "    n = len(x)\n",
    "    x_train = x[0:int(n*0.8)]\n",
    "    y_train = y[0:int(n*0.8)]\n",
    "    x_val = x[int(n*0.8):]\n",
    "    y_val = y[int(n*0.8):]\n",
    "    x_train_all += x_train\n",
    "    y_train_all += y_train\n",
    "    x_val_all += x_val\n",
    "    y_val_all += y_val\n",
    "\n",
    "\n",
    "    # https://stackoverflow.com/questions/4601373/better-way-to-shuffle-two-numpy-arrays-in-unison\n",
    "\n",
    "    #df_list.append(temp)\n",
    "#df = pd.concat(df_list, axis=0, ignore_index=True)\n",
    "#df.to_csv(path+'merged_recorded_data.csv')\n",
    "print(len(x_train_all),len(y_train_all),len(x_val_all),len(y_val_all))\n",
    "print(x_train_all[0].shape, y_train_all[0].shape,x_val_all[0].shape, y_val_all[0].shape)"
   ],
   "metadata": {
    "collapsed": false
   }
  },
  {
   "cell_type": "code",
   "execution_count": 30,
   "outputs": [
    {
     "name": "stdout",
     "output_type": "stream",
     "text": [
      "./data/preliminary_testing_walking_18_0_2022_12_12-20_19_01.csv\n",
      "hreh hrehrhe\n",
      "20\n",
      "./data/preliminary_testing_walking_18_15_2022_12_12-20_24_50.csv\n",
      "here\n",
      "20\n",
      "./data/preliminary_testing_walking_08_15_2022_12_12-20_22_39.csv\n",
      "here\n",
      "20\n",
      "./data/preliminary_testing_walking_17_0_2022_12_12-20_18_30.csv\n",
      "hreh hrehrhe\n",
      "20\n",
      "./data/preliminary_testing_walking_15_0_2022_12_12-20_16_35.csv\n",
      "hreh hrehrhe\n",
      "20\n",
      "./data/preliminary_testing_walking_15_15_2022_12_12-20_24_17.csv\n",
      "here\n",
      "20\n",
      "./data/preliminary_testing_walking_16_0_2022_12_12-20_20_55.csv\n",
      "hreh hrehrhe\n",
      "20\n",
      "./data/preliminary_testing_walking_07_15_2022_12_12-20_25_23.csv\n",
      "here\n",
      "20\n",
      "./data/preliminary_testing_walking_11_0_2022_12_12-20_20_26.csv\n",
      "hreh hrehrhe\n",
      "20\n",
      "20\n",
      "./data/preliminary_testing_walking_05_15_2022_12_12-20_22_04.csv\n",
      "here\n",
      "20\n",
      "./data/preliminary_testing_walking_08_0_2022_12_12-20_15_29.csv\n",
      "hreh hrehrhe\n",
      "20\n",
      "./data/preliminary_testing_walking_10_0_2022_12_12-20_16_02.csv\n",
      "hreh hrehrhe\n",
      "20\n",
      "./data/preliminary_testing_walking_10_15_2022_12_12-20_23_18.csv\n",
      "here\n",
      "20\n",
      "./data/preliminary_testing_walking_13_15_2022_12_12-20_23_49.csv\n",
      "here\n",
      "20\n",
      "./data/preliminary_testing_walking_13_0_2022_12_12-20_19_30.csv\n",
      "hreh hrehrhe\n",
      "21\n",
      "./data/preliminary_testing_walking_09_0_2022_12_12-20_19_58.csv\n",
      "hreh hrehrhe\n",
      "20\n",
      "20\n",
      "20\n",
      "20\n",
      "./data/preliminary_testing_walking_12_0_2022_12_12-20_17_31.csv\n",
      "hreh hrehrhe\n",
      "20\n",
      "./data/preliminary_testing_walking_13_0_2022_12_12-20_18_01.csv\n",
      "hreh hrehrhe\n",
      "20\n",
      "352 352 89 89\n",
      "(40, 22) (1, 4) (40, 22) (1, 4)\n"
     ]
    }
   ],
   "source": [
    "# intentions are 1 = LEVEL GROUND WALKING | 2 = RAMP UP | 3 = STAIRS UP | 4 = STAIRS DOWN\n",
    "# Reading the dataset\n",
    "\n",
    "\n",
    "x_train_all = []\n",
    "y_train_all = []\n",
    "x_val_all = []\n",
    "y_val_all = []\n",
    "'''\n",
    "x_walk = []\n",
    "y_walk = []\n",
    "x_ramp = []\n",
    "y_ramp = []\n",
    "x_stairup = []\n",
    "y_stairup = []\n",
    "x_stairdown = []\n",
    "y_stairdown = []\n",
    "'''\n",
    "for f in dir:\n",
    "\n",
    "\n",
    "\n",
    "    if 'walking_' in f:\n",
    "        print(f)\n",
    "        temp = pd.read_csv(f, index_col=None, header=0)\n",
    "        if '_15_2022' in f:\n",
    "            temp['intent'] = 1\n",
    "            print('here')\n",
    "        elif '_0_' in f:\n",
    "            temp['intent'] = 0\n",
    "            print('hreh hrehrhe')\n",
    "        else:\n",
    "            pass\n",
    "\n",
    "\n",
    "\n",
    "    x, y = df_to_datapoints(temp, num_input=40, prediction_offset=1,stride=38, output_column=['position_1', 'velocity_1','position_3', 'velocity_3'])\n",
    "    n = len(x)\n",
    "    print(len(x))\n",
    "    x_train = x[0:int(n*0.8)]\n",
    "    y_train = y[0:int(n*0.8)]\n",
    "    x_val = x[int(n*0.8):]\n",
    "    y_val = y[int(n*0.8):]\n",
    "    x_train_all += x_train\n",
    "    y_train_all += y_train\n",
    "    x_val_all += x_val\n",
    "    y_val_all += y_val\n",
    "\n",
    "\n",
    "    # https://stackoverflow.com/questions/4601373/better-way-to-shuffle-two-numpy-arrays-in-unison\n",
    "\n",
    "    #df_list.append(temp)\n",
    "#df = pd.concat(df_list, axis=0, ignore_index=True)\n",
    "#df.to_csv(path+'merged_recorded_data.csv')\n",
    "print(len(x_train_all),len(y_train_all),len(x_val_all),len(y_val_all))\n",
    "print(x_train_all[0].shape, y_train_all[0].shape,x_val_all[0].shape, y_val_all[0].shape)"
   ],
   "metadata": {
    "collapsed": false
   }
  },
  {
   "cell_type": "code",
   "execution_count": null,
   "outputs": [],
   "source": [
    "print(np.shape(x_train_all), np.shape(y_train_all))"
   ],
   "metadata": {
    "collapsed": false
   }
  },
  {
   "cell_type": "code",
   "execution_count": 31,
   "outputs": [
    {
     "data": {
      "text/plain": "360"
     },
     "execution_count": 31,
     "metadata": {},
     "output_type": "execute_result"
    }
   ],
   "source": [
    "18*20"
   ],
   "metadata": {
    "collapsed": false
   }
  },
  {
   "cell_type": "code",
   "execution_count": null,
   "outputs": [],
   "source": [
    "print(np.shape(x_val_all), np.shape(y_val_all))"
   ],
   "metadata": {
    "collapsed": false
   }
  },
  {
   "cell_type": "code",
   "execution_count": null,
   "outputs": [],
   "source": [
    "print(np.shape(x_train_all[0]))"
   ],
   "metadata": {
    "collapsed": false
   }
  },
  {
   "cell_type": "code",
   "execution_count": null,
   "outputs": [],
   "source": [
    "y_train_all[0]"
   ],
   "metadata": {
    "collapsed": false
   }
  },
  {
   "cell_type": "code",
   "execution_count": null,
   "outputs": [],
   "source": [
    "from sklearn.preprocessing import StandardScaler\n",
    "# write a for loop to do over all the data\n",
    "scalar = StandardScaler()\n",
    "x_train_all_std = []\n",
    "for i in x_train_all:\n",
    "    temp = scalar.fit_transform(i)\n",
    "    x_train_all_std.append(temp)\n"
   ],
   "metadata": {
    "collapsed": false
   }
  },
  {
   "cell_type": "code",
   "execution_count": null,
   "outputs": [],
   "source": [
    "print(np.shape(x_train_all_std[0]))\n",
    "len(x_train_all_std)\n"
   ],
   "metadata": {
    "collapsed": false
   }
  },
  {
   "cell_type": "code",
   "execution_count": null,
   "outputs": [],
   "source": [
    "from sklearn.preprocessing import MinMaxScaler, StandardScaler, MaxAbsScaler, RobustScaler\n",
    "\n",
    "def get_scaler(scaler):\n",
    "    scalers = {\n",
    "        \"minmax\": MinMaxScaler,\n",
    "        \"standard\": StandardScaler,\n",
    "        \"maxabs\": MaxAbsScaler,\n",
    "        \"robust\": RobustScaler,\n",
    "    }\n",
    "    return scalers.get(scaler.lower())()\n",
    "\n",
    "scaler = get_scaler('robust')"
   ],
   "metadata": {
    "collapsed": false
   }
  },
  {
   "cell_type": "code",
   "execution_count": null,
   "outputs": [],
   "source": [
    "from torch.utils.data import TensorDataset, DataLoader\n",
    "\n",
    "batch_size = 16\n",
    "batch_size_val = 1\n",
    "torch.manual_seed(101)\n",
    "train_features = torch.Tensor(x_train_all)\n",
    "train_targets = torch.Tensor(y_train_all)\n",
    "val_features = torch.Tensor(x_val_all)\n",
    "val_targets = torch.Tensor(y_val_all)\n",
    "\n",
    "train = TensorDataset(train_features, train_targets)\n",
    "val = TensorDataset(val_features, val_targets)\n",
    "\n",
    "train_loader = DataLoader(train, batch_size=batch_size, shuffle=True, drop_last=True)\n",
    "val_loader = DataLoader(val, batch_size=batch_size_val, shuffle=False, drop_last=True)\n"
   ],
   "metadata": {
    "collapsed": false
   }
  },
  {
   "cell_type": "code",
   "execution_count": null,
   "outputs": [],
   "source": [
    "a, b = next(iter(val_loader))\n",
    "b.shape"
   ],
   "metadata": {
    "collapsed": false
   }
  },
  {
   "cell_type": "code",
   "execution_count": null,
   "outputs": [],
   "source": [
    "class RNNModel(nn.Module):\n",
    "    def __init__(self, input_dim, hidden_dim, layer_dim, output_dim, dropout_prob):\n",
    "        super(RNNModel, self).__init__()\n",
    "\n",
    "        # Defining the number of layers and the nodes in each layer\n",
    "        self.hidden_dim = hidden_dim\n",
    "        self.layer_dim = layer_dim\n",
    "\n",
    "        # RNN layers\n",
    "        self.rnn = nn.RNN(\n",
    "            input_dim, hidden_dim, layer_dim, batch_first=True, dropout=dropout_prob\n",
    "        )\n",
    "        # Fully connected layer\n",
    "        self.fc = nn.Linear(hidden_dim, output_dim)\n",
    "\n",
    "    def forward(self, x):\n",
    "        # Initializing hidden state for first input with zeros\n",
    "        h0 = torch.zeros(self.layer_dim, x.size(0), self.hidden_dim).requires_grad_()\n",
    "\n",
    "        # Forward propagation by passing in the input and hidden state into the model\n",
    "        out, h0 = self.rnn(x, h0.detach())\n",
    "\n",
    "        # Reshaping the outputs in the shape of (batch_size, seq_length, hidden_size)\n",
    "        # so that it can fit into the fully connected layer\n",
    "        out = out[:, -1, :]\n",
    "\n",
    "        # Convert the final state to our desired output shape (batch_size, output_dim)\n",
    "        out = self.fc(out)\n",
    "        return out"
   ],
   "metadata": {
    "collapsed": false
   }
  },
  {
   "cell_type": "code",
   "execution_count": null,
   "outputs": [],
   "source": [
    "class LSTMModel(nn.Module):\n",
    "    def __init__(self, input_dim, hidden_dim, layer_dim, output_dim, dropout_prob):\n",
    "        super(LSTMModel, self).__init__()\n",
    "\n",
    "        # Defining the number of layers and the nodes in each layer\n",
    "        self.hidden_dim = hidden_dim\n",
    "        self.layer_dim = layer_dim\n",
    "\n",
    "        # LSTM layers\n",
    "        self.lstm = nn.LSTM(\n",
    "            input_dim, hidden_dim, layer_dim, batch_first=True, dropout=dropout_prob\n",
    "        )\n",
    "\n",
    "        # Fully connected layer\n",
    "        self.fc = nn.Linear(hidden_dim, output_dim)\n",
    "\n",
    "    def forward(self, x):\n",
    "        # Initializing hidden state for first input with zeros\n",
    "        h0 = torch.zeros(self.layer_dim, x.size(0), self.hidden_dim).requires_grad_()\n",
    "\n",
    "        # Initializing cell state for first input with zeros\n",
    "        c0 = torch.zeros(self.layer_dim, x.size(0), self.hidden_dim).requires_grad_()\n",
    "\n",
    "        # We need to detach as we are doing truncated backpropagation through time (BPTT)\n",
    "        # If we don't, we'll backprop all the way to the start even after going through another batch\n",
    "        # Forward propagation by passing in the input, hidden state, and cell state into the model\n",
    "        out, (hn, cn) = self.lstm(x, (h0.detach(), c0.detach()))\n",
    "\n",
    "        # Reshaping the outputs in the shape of (batch_size, seq_length, hidden_size)\n",
    "        # so that it can fit into the fully connected layer\n",
    "        out = out[:, -1, :]\n",
    "\n",
    "        # Convert the final state to our desired output shape (batch_size, output_dim)\n",
    "        out = self.fc(out)\n",
    "\n",
    "        return out"
   ],
   "metadata": {
    "collapsed": false
   }
  },
  {
   "cell_type": "code",
   "execution_count": null,
   "outputs": [],
   "source": [
    "class GRUModel(nn.Module):\n",
    "    def __init__(self, input_dim, hidden_dim, layer_dim, output_dim, dropout_prob):\n",
    "        super(GRUModel, self).__init__()\n",
    "\n",
    "        # Defining the number of layers and the nodes in each layer\n",
    "        self.layer_dim = layer_dim\n",
    "        self.hidden_dim = hidden_dim\n",
    "\n",
    "        # GRU layers\n",
    "        self.gru = nn.GRU(\n",
    "            input_dim, hidden_dim, layer_dim, batch_first=True, dropout=dropout_prob\n",
    "        )\n",
    "\n",
    "        # Fully connected layer\n",
    "        self.fc = nn.Linear(hidden_dim, output_dim)\n",
    "\n",
    "    def forward(self, x):\n",
    "        # Initializing hidden state for first input with zeros\n",
    "        h0 = torch.zeros(self.layer_dim, x.size(0), self.hidden_dim).requires_grad_()\n",
    "\n",
    "        # Forward propagation by passing in the input and hidden state into the model\n",
    "        out, _ = self.gru(x, h0.detach())\n",
    "\n",
    "        # Reshaping the outputs in the shape of (batch_size, seq_length, hidden_size)\n",
    "        # so that it can fit into the fully connected layer\n",
    "        out = out[:, -1, :]\n",
    "\n",
    "        # Convert the final state to our desired output shape (batch_size, output_dim)\n",
    "        out = self.fc(out)\n",
    "\n",
    "        return out"
   ],
   "metadata": {
    "collapsed": false
   }
  },
  {
   "cell_type": "code",
   "execution_count": null,
   "outputs": [],
   "source": [
    "def get_model(model, model_params):\n",
    "    models = {\n",
    "        \"rnn\": RNNModel,\n",
    "        \"lstm\": LSTMModel,\n",
    "        \"gru\": GRUModel,\n",
    "    }\n",
    "    return models.get(model.lower())(**model_params)"
   ],
   "metadata": {
    "collapsed": false
   }
  },
  {
   "cell_type": "code",
   "execution_count": null,
   "outputs": [],
   "source": [
    "class Optimization:\n",
    "    def __init__(self, model, loss_fn, optimizer):\n",
    "        self.model = model\n",
    "        self.loss_fn = loss_fn\n",
    "        self.optimizer = optimizer\n",
    "        self.train_losses = []\n",
    "        self.val_losses = []\n",
    "\n",
    "    def train_step(self, x, y):\n",
    "        # Sets model to train mode\n",
    "        self.model.train()\n",
    "\n",
    "        # Makes predictions\n",
    "        yhat = self.model(x)\n",
    "        #print('shape of y_hat is: ',yhat.shape)\n",
    "        #print('shape of y is: ',y.shape)\n",
    "        # Computes loss\n",
    "        loss = self.loss_fn(y, yhat)\n",
    "\n",
    "        # Computes gradients\n",
    "        loss.backward()\n",
    "\n",
    "        # Updates parameters and zeroes gradients\n",
    "        self.optimizer.step()\n",
    "        self.optimizer.zero_grad()\n",
    "\n",
    "        # Returns the loss\n",
    "        return loss.item()"
   ],
   "metadata": {
    "collapsed": false
   }
  },
  {
   "cell_type": "code",
   "execution_count": null,
   "outputs": [],
   "source": [
    "from datetime import datetime\n",
    "device = torch.device(\"cpu\")\n",
    "def train(self, train_loader, val_loader, batch_size=64, n_epochs=50, n_features=1):\n",
    "        model_path = f'models/{self.model}_{datetime.now().strftime(\"%Y-%m-%d %H:%M:%S\")}'\n",
    "\n",
    "        for epoch in range(1, n_epochs + 1):\n",
    "            batch_losses = []\n",
    "            for x_batch, y_batch in train_loader:\n",
    "                x_batch = x_batch.view([batch_size, -1, n_features]).to(device)\n",
    "                #y_batch = y_batch.view([batch_size, -1, 4]).to(device)\n",
    "                y_batch = y_batch.reshape(batch_size,-1).to(device)\n",
    "                #print(x_batch.shape,y_batch.shape)\n",
    "                loss = self.train_step(x_batch, y_batch)\n",
    "                batch_losses.append(loss)\n",
    "            training_loss = np.mean(batch_losses)\n",
    "            self.train_losses.append(training_loss)\n",
    "\n",
    "            with torch.no_grad():\n",
    "                batch_val_losses = []\n",
    "                for x_val, y_val in val_loader:\n",
    "                    x_val = x_val.view([batch_size, -1, n_features]).to(device)\n",
    "                    #y_val = y_val.view([batch_size, -1, 4]).to(device)\n",
    "                    y_val = y_val.reshape(batch_size,-1).to(device)\n",
    "                    self.model.eval()\n",
    "                    yhat = self.model(x_val)\n",
    "                    val_loss = self.loss_fn(y_val, yhat).item()\n",
    "                    batch_val_losses.append(val_loss)\n",
    "                validation_loss = np.mean(batch_val_losses)\n",
    "                self.val_losses.append(validation_loss)\n",
    "\n",
    "            if (epoch <= 10) | (epoch % 50 == 0):\n",
    "                print(\n",
    "                    f\"[{epoch}/{n_epochs}] Training loss: {training_loss:.4f}\\t Validation loss: {validation_loss:.4f}\"\n",
    "                )\n",
    "\n",
    "        torch.save(self.model.state_dict(), model_path)\n",
    "\n",
    "Optimization.train = train"
   ],
   "metadata": {
    "collapsed": false
   }
  },
  {
   "cell_type": "code",
   "execution_count": null,
   "outputs": [],
   "source": [
    "for x_val, y_val in val_loader:\n",
    "    continue\n",
    "print(x_val.shape,y_val.shape, y_val.view([batch_size, -1, 4]).shape)"
   ],
   "metadata": {
    "collapsed": false
   }
  },
  {
   "cell_type": "code",
   "execution_count": null,
   "outputs": [],
   "source": [
    "for x_train, y_train in train_loader:\n",
    "    break\n",
    "print(x_train.shape,y_train.shape, y_train.view([batch_size, -1, 4]).shape)"
   ],
   "metadata": {
    "collapsed": false
   }
  },
  {
   "cell_type": "code",
   "execution_count": null,
   "outputs": [],
   "source": [
    "def evaluate(self, test_loader, batch_size=1, n_features=1):\n",
    "        with torch.no_grad():\n",
    "            predictions = []\n",
    "            values = []\n",
    "            for x_test, y_test in test_loader:\n",
    "\n",
    "                x_test = x_test.view([batch_size, -1, n_features]).to(device)\n",
    "                y_test = y_test.reshape(batch_size,-1).to(device)\n",
    "                #print('x_test and y_test shapes are : ',x_test.shape, y_test.shape)\n",
    "                self.model.eval()\n",
    "                yhat = self.model(x_test)\n",
    "                print(yhat.shape)\n",
    "                print()\n",
    "                predictions.append(yhat.to(device).detach().numpy())\n",
    "                values.append(y_test.to(device).detach().numpy())\n",
    "\n",
    "        return predictions, values\n",
    "\n",
    "Optimization.evaluate = evaluate"
   ],
   "metadata": {
    "collapsed": false
   }
  },
  {
   "cell_type": "code",
   "execution_count": null,
   "outputs": [],
   "source": [
    " def plot_losses(self):\n",
    "    plt.plot(self.train_losses, label=\"Training loss\")\n",
    "    plt.plot(self.val_losses, label=\"Validation loss\")\n",
    "    plt.legend()\n",
    "    plt.title(\"Losses\")\n",
    "    plt.show()\n",
    "    plt.close()\n",
    "\n",
    "Optimization.plot_losses = plot_losses"
   ],
   "metadata": {
    "collapsed": false
   }
  },
  {
   "cell_type": "code",
   "execution_count": null,
   "outputs": [],
   "source": [
    "import torch.optim as optim\n",
    "\n",
    "input_dim = 22\n",
    "output_dim = 4\n",
    "hidden_dim = 8\n",
    "layer_dim = 3\n",
    "batch_size = 16\n",
    "dropout = 0.1\n",
    "n_epochs = 1000\n",
    "learning_rate = 1e-1\n",
    "weight_decay = 1e-6\n",
    "\n",
    "model_params = {'input_dim': input_dim,\n",
    "                'hidden_dim' : hidden_dim,\n",
    "                'layer_dim' : layer_dim,\n",
    "                'output_dim' : output_dim,\n",
    "                'dropout_prob' : dropout}\n",
    "\n",
    "model = get_model('lstm', model_params)\n",
    "\n",
    "loss_fn = nn.MSELoss(reduction=\"mean\")\n",
    "#optimizer = optim.Adam(model.parameters(), lr=learning_rate, weight_decay=weight_decay)\n",
    "optimizer = optim.SGD(model.parameters(), lr =learning_rate, momentum=0.2, weight_decay=weight_decay)\n",
    "opt = Optimization(model=model, loss_fn=loss_fn, optimizer=optimizer)\n",
    "opt.train(train_loader, val_loader, batch_size=batch_size, n_epochs=n_epochs, n_features=input_dim)\n",
    "opt.plot_losses()\n"
   ],
   "metadata": {
    "collapsed": false
   }
  },
  {
   "cell_type": "code",
   "execution_count": null,
   "outputs": [],
   "source": [
    "predictions, values = opt.evaluate(val_loader, batch_size=1, n_features=input_dim)\n"
   ],
   "metadata": {
    "collapsed": false
   }
  },
  {
   "cell_type": "code",
   "execution_count": 356,
   "outputs": [
    {
     "data": {
      "text/plain": "LSTMModel(\n  (lstm): LSTM(22, 8, num_layers=3, batch_first=True, dropout=0.1)\n  (fc): Linear(in_features=8, out_features=4, bias=True)\n)"
     },
     "execution_count": 356,
     "metadata": {},
     "output_type": "execute_result"
    }
   ],
   "source": [
    "model"
   ],
   "metadata": {
    "collapsed": false
   }
  },
  {
   "cell_type": "code",
   "execution_count": null,
   "outputs": [],
   "source": [
    "print(predictions[0].shape,len(predictions),values[0].shape,len(values))"
   ],
   "metadata": {
    "collapsed": false
   }
  },
  {
   "cell_type": "code",
   "execution_count": null,
   "outputs": [],
   "source": [
    "values = [y.reshape(-1) for y in values]\n",
    "predictions = [y.reshape(-1) for y in predictions]"
   ],
   "metadata": {
    "collapsed": false
   }
  },
  {
   "cell_type": "code",
   "execution_count": null,
   "outputs": [],
   "source": [
    "p_0 = list(zip(*predictions))[0]\n",
    "p_1 = list(zip(*predictions))[1]\n",
    "p_2 = list(zip(*predictions))[2]\n",
    "p_3 = list(zip(*predictions))[3]\n",
    "print(len(p_0),len(p_1),len(p_2),len(p_3))\n",
    "print(p_0[0],p_1[0],p_2[0],p_3[0])"
   ],
   "metadata": {
    "collapsed": false
   }
  },
  {
   "cell_type": "code",
   "execution_count": null,
   "outputs": [],
   "source": [
    "                                                                                                                                                             train_features = torch.Tensor(x_train_all)\n",
    "train_targets = torch.Tensor(y_train_all)\n",
    "val_features = torch.Tensor(x_val_all)\n",
    "val_targets = torch.Tensor(y_val_all)"
   ],
   "metadata": {
    "collapsed": false
   }
  },
  {
   "cell_type": "code",
   "execution_count": null,
   "outputs": [],
   "source": [
    "from sklearn.metrics import mean_absolute_error, mean_squared_error, r2_score\n",
    "\n",
    "def calculate_metrics(y, y_hat):\n",
    "    return {'mae' : mean_absolute_error(df.value, df.prediction),\n",
    "            'rmse' : mean_squared_error(df.value, df.prediction) ** 0.5,\n",
    "            'r2' : r2_score(df.value, df.prediction)}\n",
    "\n",
    "# result_metrics = calculate_metrics(df_result)"
   ],
   "metadata": {
    "collapsed": false
   }
  },
  {
   "cell_type": "code",
   "execution_count": 374,
   "outputs": [],
   "source": [
    "def calculate_prediction_results(prediction, ground_truth):\n",
    "    prediction = np.array(prediction)\n",
    "    ground_truth = np.array(ground_truth)\n",
    "    squared_error = np.square(prediction - ground_truth)\n",
    "    mse = squared_error.mean(axis=None)\n",
    "    std = squared_error.std(axis=None)\n",
    "    print(f'{mse} ± {std}')\n",
    "    return mse, std"
   ],
   "metadata": {
    "collapsed": false
   }
  },
  {
   "cell_type": "code",
   "execution_count": 376,
   "outputs": [
    {
     "name": "stdout",
     "output_type": "stream",
     "text": [
      "0.01352962239349458 ± 0.013402873554495251\n",
      "0.786242508900766 ± 2.002830150356002\n",
      "0.02396993578213799 ± 0.03981948673537908\n",
      "0.8720320361224081 ± 1.6599422847571033\n"
     ]
    },
    {
     "data": {
      "text/plain": "(0.8720320361224081, 1.6599422847571033)"
     },
     "execution_count": 376,
     "metadata": {},
     "output_type": "execute_result"
    }
   ],
   "source": [
    "calculate_prediction_results(p_0, y_0)\n",
    "calculate_prediction_results(p_1, y_1)\n",
    "calculate_prediction_results(p_2, y_2)\n",
    "calculate_prediction_results(p_3, y_3)"
   ],
   "metadata": {
    "collapsed": false
   }
  },
  {
   "cell_type": "code",
   "execution_count": 377,
   "outputs": [
    {
     "name": "stdout",
     "output_type": "stream",
     "text": [
      "0.1064326608673524 ± 0.14163580906447734\n",
      "5.958845052822763 ± 6.01116957740363\n",
      "0.04876057121882698 ± 0.07286724208327428\n",
      "3.3769863060935092 ± 3.5970750169255563\n"
     ]
    },
    {
     "data": {
      "text/plain": "(3.3769863060935092, 3.5970750169255563)"
     },
     "execution_count": 377,
     "metadata": {},
     "output_type": "execute_result"
    }
   ],
   "source": [
    "calculate_prediction_results(b_0, y_0)\n",
    "calculate_prediction_results(b_1, y_1)\n",
    "calculate_prediction_results(b_2, y_2)\n",
    "calculate_prediction_results(b_3, y_3)"
   ],
   "metadata": {
    "collapsed": false
   }
  },
  {
   "cell_type": "code",
   "execution_count": null,
   "outputs": [],
   "source": [
    "from sklearn.linear_model import LinearRegression\n",
    "\n",
    "def build_baseline_model(X_train, y_train, X_test, y_test):\n",
    "\n",
    "    # X, y = feature_label_split(df, target_col)\n",
    "    # X_train, X_test, y_train, y_test = train_test_split(\n",
    "    #     X, y, test_size=test_ratio, shuffle=False\n",
    "    # )\n",
    "    result = []\n",
    "    X_train = np.mean(X_train, axis=1)\n",
    "    #print(X_train[0].shape)\n",
    "    y_train = [y.reshape(-1) for y in y_train]\n",
    "    #print(y_train[0].shape)\n",
    "    #print(len(X_train),len(y_train))\n",
    "    X_test = np.mean(X_test, axis=1)\n",
    "    y_test = [y.reshape(-1) for y in y_test]\n",
    "    model = LinearRegression()\n",
    "    #print(y_train[0].shape)\n",
    "    model.fit(X_train, y_train)\n",
    "    prediction = model.predict(X_test)\n",
    "\n",
    "    #print(prediction.shape, type(prediction))\n",
    "\n",
    "    #result+=prediction\n",
    "    return prediction\n",
    "\n",
    "baseline = build_baseline_model(x_train_all, y_train_all, x_val_all, y_val_all)\n",
    "#baseline_metrics = calculate_metrics(df_baseline)"
   ],
   "metadata": {
    "collapsed": false
   }
  },
  {
   "cell_type": "code",
   "execution_count": null,
   "outputs": [],
   "source": [],
   "metadata": {
    "collapsed": false
   }
  },
  {
   "cell_type": "code",
   "execution_count": null,
   "outputs": [],
   "source": [
    "print(baseline[0].shape,baseline.shape, type(baseline))"
   ],
   "metadata": {
    "collapsed": false
   }
  },
  {
   "cell_type": "code",
   "execution_count": null,
   "outputs": [],
   "source": [
    "y_hat = [y.reshape(-1) for y in y_val_all]\n",
    "y_hat[0].shape"
   ],
   "metadata": {
    "collapsed": false
   }
  },
  {
   "cell_type": "code",
   "execution_count": null,
   "outputs": [],
   "source": [
    "y_0 = list(zip(*y_hat))[0]\n",
    "y_1 = list(zip(*y_hat))[1]\n",
    "y_2 = list(zip(*y_hat))[2]\n",
    "y_3 = list(zip(*y_hat))[3]\n",
    "print(len(y_0),len(y_1),len(y_2),len(y_3))\n",
    "print(y_0[0],y_1[0],y_2[0],y_3[0])"
   ],
   "metadata": {
    "collapsed": false
   }
  },
  {
   "cell_type": "code",
   "execution_count": null,
   "outputs": [],
   "source": [
    "b_0 = list(zip(*baseline))[0]\n",
    "b_1 = list(zip(*baseline))[1]\n",
    "b_2 = list(zip(*baseline))[2]\n",
    "b_3 = list(zip(*baseline))[3]\n",
    "print(len(b_0),len(b_1),len(b_2),len(b_3))\n",
    "print(b_0[0],b_1[0],b_2[0],b_3[0])"
   ],
   "metadata": {
    "collapsed": false
   }
  },
  {
   "cell_type": "code",
   "execution_count": null,
   "outputs": [],
   "source": [
    "output_column=['position_1', 'velocity_1','position_3', 'velocity_3']"
   ],
   "metadata": {
    "collapsed": false
   }
  },
  {
   "cell_type": "code",
   "execution_count": 367,
   "outputs": [],
   "source": [
    "from plotly import graph_objects as go\n",
    "\n",
    "data = []\n",
    "\n",
    "value = go.Scatter(\n",
    "    y=y_0,\n",
    "    #y=df_result.value,\n",
    "    mode=\"lines\",\n",
    "    name=\"Ground Truth\",\n",
    "    marker=dict(),\n",
    "   # text=df_result.index,\n",
    "    line=dict(color=\"rgba(0,0,0, 0.3)\"),\n",
    ")\n",
    "data.append(value)\n",
    "\n",
    "baseline = go.Scatter(\n",
    "    y=b_0,\n",
    "   # y=df_baseline.prediction,\n",
    "    mode=\"lines\",\n",
    "    line={\"dash\": \"dot\"},\n",
    "    name='Linear Regression Predictions',\n",
    "    marker=dict(),\n",
    "    #text=df_baseline.index,\n",
    "    opacity=0.8,\n",
    ")\n",
    "\n",
    "data.append(baseline)\n",
    "\n",
    "prediction = go.Scatter(\n",
    "     y=p_0,\n",
    "     mode=\"lines\",\n",
    "     line={\"dash\": \"dot\"},\n",
    "     name='LSTM Predictions',\n",
    "     marker=dict(),\n",
    "     #text=df_result.index,\n",
    "     opacity=0.8,\n",
    "     )\n",
    "data.append(prediction)"
   ],
   "metadata": {
    "collapsed": false
   }
  },
  {
   "cell_type": "code",
   "execution_count": 358,
   "outputs": [],
   "source": [
    "import plotly.offline as pyo"
   ],
   "metadata": {
    "collapsed": false
   }
  },
  {
   "cell_type": "code",
   "execution_count": 368,
   "outputs": [
    {
     "name": "stdout",
     "output_type": "stream",
     "text": [
      "Figure({\n",
      "    'data': [{'line': {'color': 'rgba(0,0,0, 0.3)'},\n",
      "              'mode': 'lines',\n",
      "              'name': 'Ground Truth',\n",
      "              'type': 'scatter',\n",
      "              'y': [-0.16569294332887366, -0.17270999583908758,\n",
      "                    -0.17903153181634995, -0.18418577985678694,\n",
      "                    -0.16569294332887366, -0.17270999583908758,\n",
      "                    -0.17903153181634995, -0.18418577985678694,\n",
      "                    -0.16569294332887366, -0.17270999583908758,\n",
      "                    -0.17903153181634995, -0.18418577985678694,\n",
      "                    -0.24987841031194857, -0.2662375869403939, -0.2850009571913125,\n",
      "                    -0.304456422323713, -0.28975545863210783, -0.29002412518184,\n",
      "                    -0.2939764936945983, -0.2996667799161248, -0.28975545863210783,\n",
      "                    -0.29002412518184, -0.2939764936945983, -0.2996667799161248,\n",
      "                    -0.19148620391640306, -0.18641336441091724,\n",
      "                    -0.18167863367789525, -0.1802165984004754,\n",
      "                    -0.19148620391640306, -0.18641336441091724,\n",
      "                    -0.18167863367789525, -0.1802165984004754, -0.1312741223307152,\n",
      "                    -0.13320653784335967, -0.141701531603264, -0.15863624319215422,\n",
      "                    -0.1312741223307152, -0.13320653784335967, -0.141701531603264,\n",
      "                    -0.15863624319215422, -0.1312741223307152,\n",
      "                    -0.13320653784335967, -0.141701531603264, -0.15863624319215422,\n",
      "                    -1.5664752428547386, -1.6768505318589064, -1.7459784311608528,\n",
      "                    -1.7688160311833607, -1.250073395853043, -1.1497520876502403,\n",
      "                    -1.0584818031124938, -0.9735529514164034, -1.250073395853043,\n",
      "                    -1.1497520876502403, -1.0584818031124938, -0.9735529514164034,\n",
      "                    -1.250073395853043, -1.1497520876502403, -1.0584818031124938,\n",
      "                    -0.9735529514164034, -0.04089647340959069,\n",
      "                    -0.062053003921390876, -0.08984843854421908,\n",
      "                    -0.11838744146695575, -0.1430532257427612,\n",
      "                    -0.36269707989816086, -0.4047130881346038, -0.447632320482938,\n",
      "                    -0.49317691020622234, -0.36269707989816086,\n",
      "                    -0.4047130881346038, -0.447632320482938, -0.49317691020622234,\n",
      "                    -0.36269707989816086, -0.4047130881346038, -0.447632320482938,\n",
      "                    -0.49317691020622234, -0.36269707989816086,\n",
      "                    -0.4047130881346038, -0.447632320482938, -0.49317691020622234,\n",
      "                    -0.20467156808154482, -0.20677175382931165,\n",
      "                    -0.2091354864909558, -0.21138802996463243,\n",
      "                    -0.21806542121656208, -0.21943524294532238,\n",
      "                    -0.22082403278344592, -0.22221924082454064]},\n",
      "             {'line': {'dash': 'dot'},\n",
      "              'mode': 'lines',\n",
      "              'name': 'Linear Regression Predictions',\n",
      "              'opacity': 0.8,\n",
      "              'type': 'scatter',\n",
      "              'y': [-0.17954999002188643, -0.2410357798961904,\n",
      "                    -0.2991970182290551, -0.3321098051095941, -0.17954999002188643,\n",
      "                    -0.2410357798961904, -0.2991970182290551, -0.3321098051095941,\n",
      "                    -0.17954999002188643, -0.2410357798961904, -0.2991970182290551,\n",
      "                    -0.3321098051095941, 0.27562950360784555, 0.3956848632496488,\n",
      "                    0.47537378720405954, 0.5171878818261515, -0.42798505792767827,\n",
      "                    -0.4402196998362147, -0.44852111910980064,\n",
      "                    -0.45599696263783684, -0.42798505792767827,\n",
      "                    -0.4402196998362147, -0.44852111910980064,\n",
      "                    -0.45599696263783684, -0.34195403084834197,\n",
      "                    -0.42967179149349555, -0.5239927950226893, -0.6234574381100835,\n",
      "                    -0.34195403084834197, -0.42967179149349555,\n",
      "                    -0.5239927950226893, -0.6234574381100835, 0.04418653487150159,\n",
      "                    0.04903212107246091, 0.04085684435658621, 0.015162902673953482,\n",
      "                    0.04418653487150159, 0.04903212107246091, 0.04085684435658621,\n",
      "                    0.015162902673953482, 0.04418653487150159, 0.04903212107246091,\n",
      "                    0.04085684435658621, 0.015162902673953482, -1.2313917895385256,\n",
      "                    -1.3078333887675342, -1.3708369454054061, -1.4235631328993392,\n",
      "                    -1.5352897295710761, -1.5540838835042265, -1.5848693297653522,\n",
      "                    -1.6119547940104137, -1.5352897295710761, -1.5540838835042265,\n",
      "                    -1.5848693297653522, -1.6119547940104137, -1.5352897295710761,\n",
      "                    -1.5540838835042265, -1.5848693297653522, -1.6119547940104137,\n",
      "                    -0.1395306774666416, -0.09157720613012543,\n",
      "                    -0.05442677870756718, -0.03760129947199076,\n",
      "                    -0.04602242054050443, -0.34258236821003507,\n",
      "                    -0.2996207348074691, -0.23187575478006117,\n",
      "                    -0.15414478237136642, -0.34258236821003507,\n",
      "                    -0.2996207348074691, -0.23187575478006117,\n",
      "                    -0.15414478237136642, -0.34258236821003507,\n",
      "                    -0.2996207348074691, -0.23187575478006117,\n",
      "                    -0.15414478237136642, -0.34258236821003507,\n",
      "                    -0.2996207348074691, -0.23187575478006117,\n",
      "                    -0.15414478237136642, 0.2655121050274065, 0.36830383675145306,\n",
      "                    0.44067372351021206, 0.4758319855872788, 0.06341599401573106,\n",
      "                    0.1268278372099747, 0.18166535499022451, 0.2295546381128286]},\n",
      "             {'line': {'dash': 'dot'},\n",
      "              'mode': 'lines',\n",
      "              'name': 'LSTM Predictions',\n",
      "              'opacity': 0.8,\n",
      "              'type': 'scatter',\n",
      "              'y': [-0.2892898619174957, -0.3120144009590149,\n",
      "                    -0.34425780177116394, -0.3344804644584656, -0.2892898619174957,\n",
      "                    -0.3120144009590149, -0.34425780177116394, -0.3344804644584656,\n",
      "                    -0.2892898619174957, -0.3120144009590149, -0.34425780177116394,\n",
      "                    -0.3344804644584656, -0.27878671884536743, -0.2751641273498535,\n",
      "                    -0.27312490344047546, -0.27469632029533386,\n",
      "                    -0.16182708740234375, -0.1326635479927063,\n",
      "                    -0.12340354919433594, -0.15944141149520874,\n",
      "                    -0.16182708740234375, -0.1326635479927063,\n",
      "                    -0.12340354919433594, -0.15944141149520874,\n",
      "                    -0.19427144527435303, -0.21452060341835022,\n",
      "                    -0.22875966131687164, -0.20010308921337128,\n",
      "                    -0.19427144527435303, -0.21452060341835022,\n",
      "                    -0.22875966131687164, -0.20010308921337128,\n",
      "                    -0.2417624592781067, -0.2630845010280609, -0.28333181142807007,\n",
      "                    -0.30014169216156006, -0.2417624592781067, -0.2630845010280609,\n",
      "                    -0.28333181142807007, -0.30014169216156006,\n",
      "                    -0.2417624592781067, -0.2630845010280609, -0.28333181142807007,\n",
      "                    -0.30014169216156006, -1.6946020126342773, -1.7695086002349854,\n",
      "                    -1.7325310707092285, -1.6408805847167969, -1.477278470993042,\n",
      "                    -1.363373041152954, -1.1547825336456299, -0.9147967100143433,\n",
      "                    -1.477278470993042, -1.363373041152954, -1.1547825336456299,\n",
      "                    -0.9147967100143433, -1.477278470993042, -1.363373041152954,\n",
      "                    -1.1547825336456299, -0.9147967100143433, -0.11878398060798645,\n",
      "                    -0.14751744270324707, -0.13283544778823853,\n",
      "                    -0.08274823427200317, -0.027173638343811035,\n",
      "                    -0.3630951941013336, -0.3985896408557892, -0.45219576358795166,\n",
      "                    -0.5225802659988403, -0.3630951941013336, -0.3985896408557892,\n",
      "                    -0.45219576358795166, -0.5225802659988403, -0.3630951941013336,\n",
      "                    -0.3985896408557892, -0.45219576358795166, -0.5225802659988403,\n",
      "                    -0.3630951941013336, -0.3985896408557892, -0.45219576358795166,\n",
      "                    -0.5225802659988403, -0.13186001777648926,\n",
      "                    -0.11294269561767578, -0.08378353714942932,\n",
      "                    -0.06478428840637207, -0.08388221263885498,\n",
      "                    -0.07000160217285156, -0.05614420771598816,\n",
      "                    -0.04745367169380188]}],\n",
      "    'layout': {'template': '...',\n",
      "               'xaxis': {'ticklen': 5, 'title': {'text': 'Time'}, 'zeroline': False},\n",
      "               'yaxis': {'ticklen': 5, 'title': {'text': 'Right Knee Motor Position'}, 'zeroline': False}}\n",
      "})\n"
     ]
    },
    {
     "data": {
      "application/vnd.plotly.v1+json": {
       "data": [
        {
         "line": {
          "color": "rgba(0,0,0, 0.3)"
         },
         "mode": "lines",
         "name": "Ground Truth",
         "y": [
          -0.16569294332887366,
          -0.17270999583908758,
          -0.17903153181634995,
          -0.18418577985678694,
          -0.16569294332887366,
          -0.17270999583908758,
          -0.17903153181634995,
          -0.18418577985678694,
          -0.16569294332887366,
          -0.17270999583908758,
          -0.17903153181634995,
          -0.18418577985678694,
          -0.24987841031194857,
          -0.2662375869403939,
          -0.2850009571913125,
          -0.304456422323713,
          -0.28975545863210783,
          -0.29002412518184,
          -0.2939764936945983,
          -0.2996667799161248,
          -0.28975545863210783,
          -0.29002412518184,
          -0.2939764936945983,
          -0.2996667799161248,
          -0.19148620391640306,
          -0.18641336441091724,
          -0.18167863367789525,
          -0.1802165984004754,
          -0.19148620391640306,
          -0.18641336441091724,
          -0.18167863367789525,
          -0.1802165984004754,
          -0.1312741223307152,
          -0.13320653784335967,
          -0.141701531603264,
          -0.15863624319215422,
          -0.1312741223307152,
          -0.13320653784335967,
          -0.141701531603264,
          -0.15863624319215422,
          -0.1312741223307152,
          -0.13320653784335967,
          -0.141701531603264,
          -0.15863624319215422,
          -1.5664752428547386,
          -1.6768505318589064,
          -1.7459784311608528,
          -1.7688160311833607,
          -1.250073395853043,
          -1.1497520876502403,
          -1.0584818031124938,
          -0.9735529514164034,
          -1.250073395853043,
          -1.1497520876502403,
          -1.0584818031124938,
          -0.9735529514164034,
          -1.250073395853043,
          -1.1497520876502403,
          -1.0584818031124938,
          -0.9735529514164034,
          -0.04089647340959069,
          -0.062053003921390876,
          -0.08984843854421908,
          -0.11838744146695575,
          -0.1430532257427612,
          -0.36269707989816086,
          -0.4047130881346038,
          -0.447632320482938,
          -0.49317691020622234,
          -0.36269707989816086,
          -0.4047130881346038,
          -0.447632320482938,
          -0.49317691020622234,
          -0.36269707989816086,
          -0.4047130881346038,
          -0.447632320482938,
          -0.49317691020622234,
          -0.36269707989816086,
          -0.4047130881346038,
          -0.447632320482938,
          -0.49317691020622234,
          -0.20467156808154482,
          -0.20677175382931165,
          -0.2091354864909558,
          -0.21138802996463243,
          -0.21806542121656208,
          -0.21943524294532238,
          -0.22082403278344592,
          -0.22221924082454064
         ],
         "type": "scatter"
        },
        {
         "line": {
          "dash": "dot"
         },
         "mode": "lines",
         "name": "Linear Regression Predictions",
         "opacity": 0.8,
         "y": [
          -0.17954999002188643,
          -0.2410357798961904,
          -0.2991970182290551,
          -0.3321098051095941,
          -0.17954999002188643,
          -0.2410357798961904,
          -0.2991970182290551,
          -0.3321098051095941,
          -0.17954999002188643,
          -0.2410357798961904,
          -0.2991970182290551,
          -0.3321098051095941,
          0.27562950360784555,
          0.3956848632496488,
          0.47537378720405954,
          0.5171878818261515,
          -0.42798505792767827,
          -0.4402196998362147,
          -0.44852111910980064,
          -0.45599696263783684,
          -0.42798505792767827,
          -0.4402196998362147,
          -0.44852111910980064,
          -0.45599696263783684,
          -0.34195403084834197,
          -0.42967179149349555,
          -0.5239927950226893,
          -0.6234574381100835,
          -0.34195403084834197,
          -0.42967179149349555,
          -0.5239927950226893,
          -0.6234574381100835,
          0.04418653487150159,
          0.04903212107246091,
          0.04085684435658621,
          0.015162902673953482,
          0.04418653487150159,
          0.04903212107246091,
          0.04085684435658621,
          0.015162902673953482,
          0.04418653487150159,
          0.04903212107246091,
          0.04085684435658621,
          0.015162902673953482,
          -1.2313917895385256,
          -1.3078333887675342,
          -1.3708369454054061,
          -1.4235631328993392,
          -1.5352897295710761,
          -1.5540838835042265,
          -1.5848693297653522,
          -1.6119547940104137,
          -1.5352897295710761,
          -1.5540838835042265,
          -1.5848693297653522,
          -1.6119547940104137,
          -1.5352897295710761,
          -1.5540838835042265,
          -1.5848693297653522,
          -1.6119547940104137,
          -0.1395306774666416,
          -0.09157720613012543,
          -0.05442677870756718,
          -0.03760129947199076,
          -0.04602242054050443,
          -0.34258236821003507,
          -0.2996207348074691,
          -0.23187575478006117,
          -0.15414478237136642,
          -0.34258236821003507,
          -0.2996207348074691,
          -0.23187575478006117,
          -0.15414478237136642,
          -0.34258236821003507,
          -0.2996207348074691,
          -0.23187575478006117,
          -0.15414478237136642,
          -0.34258236821003507,
          -0.2996207348074691,
          -0.23187575478006117,
          -0.15414478237136642,
          0.2655121050274065,
          0.36830383675145306,
          0.44067372351021206,
          0.4758319855872788,
          0.06341599401573106,
          0.1268278372099747,
          0.18166535499022451,
          0.2295546381128286
         ],
         "type": "scatter"
        },
        {
         "line": {
          "dash": "dot"
         },
         "mode": "lines",
         "name": "LSTM Predictions",
         "opacity": 0.8,
         "y": [
          -0.2892898619174957,
          -0.3120144009590149,
          -0.34425780177116394,
          -0.3344804644584656,
          -0.2892898619174957,
          -0.3120144009590149,
          -0.34425780177116394,
          -0.3344804644584656,
          -0.2892898619174957,
          -0.3120144009590149,
          -0.34425780177116394,
          -0.3344804644584656,
          -0.27878671884536743,
          -0.2751641273498535,
          -0.27312490344047546,
          -0.27469632029533386,
          -0.16182708740234375,
          -0.1326635479927063,
          -0.12340354919433594,
          -0.15944141149520874,
          -0.16182708740234375,
          -0.1326635479927063,
          -0.12340354919433594,
          -0.15944141149520874,
          -0.19427144527435303,
          -0.21452060341835022,
          -0.22875966131687164,
          -0.20010308921337128,
          -0.19427144527435303,
          -0.21452060341835022,
          -0.22875966131687164,
          -0.20010308921337128,
          -0.2417624592781067,
          -0.2630845010280609,
          -0.28333181142807007,
          -0.30014169216156006,
          -0.2417624592781067,
          -0.2630845010280609,
          -0.28333181142807007,
          -0.30014169216156006,
          -0.2417624592781067,
          -0.2630845010280609,
          -0.28333181142807007,
          -0.30014169216156006,
          -1.6946020126342773,
          -1.7695086002349854,
          -1.7325310707092285,
          -1.6408805847167969,
          -1.477278470993042,
          -1.363373041152954,
          -1.1547825336456299,
          -0.9147967100143433,
          -1.477278470993042,
          -1.363373041152954,
          -1.1547825336456299,
          -0.9147967100143433,
          -1.477278470993042,
          -1.363373041152954,
          -1.1547825336456299,
          -0.9147967100143433,
          -0.11878398060798645,
          -0.14751744270324707,
          -0.13283544778823853,
          -0.08274823427200317,
          -0.027173638343811035,
          -0.3630951941013336,
          -0.3985896408557892,
          -0.45219576358795166,
          -0.5225802659988403,
          -0.3630951941013336,
          -0.3985896408557892,
          -0.45219576358795166,
          -0.5225802659988403,
          -0.3630951941013336,
          -0.3985896408557892,
          -0.45219576358795166,
          -0.5225802659988403,
          -0.3630951941013336,
          -0.3985896408557892,
          -0.45219576358795166,
          -0.5225802659988403,
          -0.13186001777648926,
          -0.11294269561767578,
          -0.08378353714942932,
          -0.06478428840637207,
          -0.08388221263885498,
          -0.07000160217285156,
          -0.05614420771598816,
          -0.04745367169380188
         ],
         "type": "scatter"
        }
       ],
       "layout": {
        "xaxis": {
         "ticklen": 5,
         "title": {
          "text": "Time"
         },
         "zeroline": false
        },
        "yaxis": {
         "ticklen": 5,
         "title": {
          "text": "Right Knee Motor Position"
         },
         "zeroline": false
        },
        "template": {
         "data": {
          "histogram2dcontour": [
           {
            "type": "histogram2dcontour",
            "colorbar": {
             "outlinewidth": 0,
             "ticks": ""
            },
            "colorscale": [
             [
              0.0,
              "#0d0887"
             ],
             [
              0.1111111111111111,
              "#46039f"
             ],
             [
              0.2222222222222222,
              "#7201a8"
             ],
             [
              0.3333333333333333,
              "#9c179e"
             ],
             [
              0.4444444444444444,
              "#bd3786"
             ],
             [
              0.5555555555555556,
              "#d8576b"
             ],
             [
              0.6666666666666666,
              "#ed7953"
             ],
             [
              0.7777777777777778,
              "#fb9f3a"
             ],
             [
              0.8888888888888888,
              "#fdca26"
             ],
             [
              1.0,
              "#f0f921"
             ]
            ]
           }
          ],
          "choropleth": [
           {
            "type": "choropleth",
            "colorbar": {
             "outlinewidth": 0,
             "ticks": ""
            }
           }
          ],
          "histogram2d": [
           {
            "type": "histogram2d",
            "colorbar": {
             "outlinewidth": 0,
             "ticks": ""
            },
            "colorscale": [
             [
              0.0,
              "#0d0887"
             ],
             [
              0.1111111111111111,
              "#46039f"
             ],
             [
              0.2222222222222222,
              "#7201a8"
             ],
             [
              0.3333333333333333,
              "#9c179e"
             ],
             [
              0.4444444444444444,
              "#bd3786"
             ],
             [
              0.5555555555555556,
              "#d8576b"
             ],
             [
              0.6666666666666666,
              "#ed7953"
             ],
             [
              0.7777777777777778,
              "#fb9f3a"
             ],
             [
              0.8888888888888888,
              "#fdca26"
             ],
             [
              1.0,
              "#f0f921"
             ]
            ]
           }
          ],
          "heatmap": [
           {
            "type": "heatmap",
            "colorbar": {
             "outlinewidth": 0,
             "ticks": ""
            },
            "colorscale": [
             [
              0.0,
              "#0d0887"
             ],
             [
              0.1111111111111111,
              "#46039f"
             ],
             [
              0.2222222222222222,
              "#7201a8"
             ],
             [
              0.3333333333333333,
              "#9c179e"
             ],
             [
              0.4444444444444444,
              "#bd3786"
             ],
             [
              0.5555555555555556,
              "#d8576b"
             ],
             [
              0.6666666666666666,
              "#ed7953"
             ],
             [
              0.7777777777777778,
              "#fb9f3a"
             ],
             [
              0.8888888888888888,
              "#fdca26"
             ],
             [
              1.0,
              "#f0f921"
             ]
            ]
           }
          ],
          "heatmapgl": [
           {
            "type": "heatmapgl",
            "colorbar": {
             "outlinewidth": 0,
             "ticks": ""
            },
            "colorscale": [
             [
              0.0,
              "#0d0887"
             ],
             [
              0.1111111111111111,
              "#46039f"
             ],
             [
              0.2222222222222222,
              "#7201a8"
             ],
             [
              0.3333333333333333,
              "#9c179e"
             ],
             [
              0.4444444444444444,
              "#bd3786"
             ],
             [
              0.5555555555555556,
              "#d8576b"
             ],
             [
              0.6666666666666666,
              "#ed7953"
             ],
             [
              0.7777777777777778,
              "#fb9f3a"
             ],
             [
              0.8888888888888888,
              "#fdca26"
             ],
             [
              1.0,
              "#f0f921"
             ]
            ]
           }
          ],
          "contourcarpet": [
           {
            "type": "contourcarpet",
            "colorbar": {
             "outlinewidth": 0,
             "ticks": ""
            }
           }
          ],
          "contour": [
           {
            "type": "contour",
            "colorbar": {
             "outlinewidth": 0,
             "ticks": ""
            },
            "colorscale": [
             [
              0.0,
              "#0d0887"
             ],
             [
              0.1111111111111111,
              "#46039f"
             ],
             [
              0.2222222222222222,
              "#7201a8"
             ],
             [
              0.3333333333333333,
              "#9c179e"
             ],
             [
              0.4444444444444444,
              "#bd3786"
             ],
             [
              0.5555555555555556,
              "#d8576b"
             ],
             [
              0.6666666666666666,
              "#ed7953"
             ],
             [
              0.7777777777777778,
              "#fb9f3a"
             ],
             [
              0.8888888888888888,
              "#fdca26"
             ],
             [
              1.0,
              "#f0f921"
             ]
            ]
           }
          ],
          "surface": [
           {
            "type": "surface",
            "colorbar": {
             "outlinewidth": 0,
             "ticks": ""
            },
            "colorscale": [
             [
              0.0,
              "#0d0887"
             ],
             [
              0.1111111111111111,
              "#46039f"
             ],
             [
              0.2222222222222222,
              "#7201a8"
             ],
             [
              0.3333333333333333,
              "#9c179e"
             ],
             [
              0.4444444444444444,
              "#bd3786"
             ],
             [
              0.5555555555555556,
              "#d8576b"
             ],
             [
              0.6666666666666666,
              "#ed7953"
             ],
             [
              0.7777777777777778,
              "#fb9f3a"
             ],
             [
              0.8888888888888888,
              "#fdca26"
             ],
             [
              1.0,
              "#f0f921"
             ]
            ]
           }
          ],
          "mesh3d": [
           {
            "type": "mesh3d",
            "colorbar": {
             "outlinewidth": 0,
             "ticks": ""
            }
           }
          ],
          "scatter": [
           {
            "fillpattern": {
             "fillmode": "overlay",
             "size": 10,
             "solidity": 0.2
            },
            "type": "scatter"
           }
          ],
          "parcoords": [
           {
            "type": "parcoords",
            "line": {
             "colorbar": {
              "outlinewidth": 0,
              "ticks": ""
             }
            }
           }
          ],
          "scatterpolargl": [
           {
            "type": "scatterpolargl",
            "marker": {
             "colorbar": {
              "outlinewidth": 0,
              "ticks": ""
             }
            }
           }
          ],
          "bar": [
           {
            "error_x": {
             "color": "#2a3f5f"
            },
            "error_y": {
             "color": "#2a3f5f"
            },
            "marker": {
             "line": {
              "color": "#E5ECF6",
              "width": 0.5
             },
             "pattern": {
              "fillmode": "overlay",
              "size": 10,
              "solidity": 0.2
             }
            },
            "type": "bar"
           }
          ],
          "scattergeo": [
           {
            "type": "scattergeo",
            "marker": {
             "colorbar": {
              "outlinewidth": 0,
              "ticks": ""
             }
            }
           }
          ],
          "scatterpolar": [
           {
            "type": "scatterpolar",
            "marker": {
             "colorbar": {
              "outlinewidth": 0,
              "ticks": ""
             }
            }
           }
          ],
          "histogram": [
           {
            "marker": {
             "pattern": {
              "fillmode": "overlay",
              "size": 10,
              "solidity": 0.2
             }
            },
            "type": "histogram"
           }
          ],
          "scattergl": [
           {
            "type": "scattergl",
            "marker": {
             "colorbar": {
              "outlinewidth": 0,
              "ticks": ""
             }
            }
           }
          ],
          "scatter3d": [
           {
            "type": "scatter3d",
            "line": {
             "colorbar": {
              "outlinewidth": 0,
              "ticks": ""
             }
            },
            "marker": {
             "colorbar": {
              "outlinewidth": 0,
              "ticks": ""
             }
            }
           }
          ],
          "scattermapbox": [
           {
            "type": "scattermapbox",
            "marker": {
             "colorbar": {
              "outlinewidth": 0,
              "ticks": ""
             }
            }
           }
          ],
          "scatterternary": [
           {
            "type": "scatterternary",
            "marker": {
             "colorbar": {
              "outlinewidth": 0,
              "ticks": ""
             }
            }
           }
          ],
          "scattercarpet": [
           {
            "type": "scattercarpet",
            "marker": {
             "colorbar": {
              "outlinewidth": 0,
              "ticks": ""
             }
            }
           }
          ],
          "carpet": [
           {
            "aaxis": {
             "endlinecolor": "#2a3f5f",
             "gridcolor": "white",
             "linecolor": "white",
             "minorgridcolor": "white",
             "startlinecolor": "#2a3f5f"
            },
            "baxis": {
             "endlinecolor": "#2a3f5f",
             "gridcolor": "white",
             "linecolor": "white",
             "minorgridcolor": "white",
             "startlinecolor": "#2a3f5f"
            },
            "type": "carpet"
           }
          ],
          "table": [
           {
            "cells": {
             "fill": {
              "color": "#EBF0F8"
             },
             "line": {
              "color": "white"
             }
            },
            "header": {
             "fill": {
              "color": "#C8D4E3"
             },
             "line": {
              "color": "white"
             }
            },
            "type": "table"
           }
          ],
          "barpolar": [
           {
            "marker": {
             "line": {
              "color": "#E5ECF6",
              "width": 0.5
             },
             "pattern": {
              "fillmode": "overlay",
              "size": 10,
              "solidity": 0.2
             }
            },
            "type": "barpolar"
           }
          ],
          "pie": [
           {
            "automargin": true,
            "type": "pie"
           }
          ]
         },
         "layout": {
          "autotypenumbers": "strict",
          "colorway": [
           "#636efa",
           "#EF553B",
           "#00cc96",
           "#ab63fa",
           "#FFA15A",
           "#19d3f3",
           "#FF6692",
           "#B6E880",
           "#FF97FF",
           "#FECB52"
          ],
          "font": {
           "color": "#2a3f5f"
          },
          "hovermode": "closest",
          "hoverlabel": {
           "align": "left"
          },
          "paper_bgcolor": "white",
          "plot_bgcolor": "#E5ECF6",
          "polar": {
           "bgcolor": "#E5ECF6",
           "angularaxis": {
            "gridcolor": "white",
            "linecolor": "white",
            "ticks": ""
           },
           "radialaxis": {
            "gridcolor": "white",
            "linecolor": "white",
            "ticks": ""
           }
          },
          "ternary": {
           "bgcolor": "#E5ECF6",
           "aaxis": {
            "gridcolor": "white",
            "linecolor": "white",
            "ticks": ""
           },
           "baxis": {
            "gridcolor": "white",
            "linecolor": "white",
            "ticks": ""
           },
           "caxis": {
            "gridcolor": "white",
            "linecolor": "white",
            "ticks": ""
           }
          },
          "coloraxis": {
           "colorbar": {
            "outlinewidth": 0,
            "ticks": ""
           }
          },
          "colorscale": {
           "sequential": [
            [
             0.0,
             "#0d0887"
            ],
            [
             0.1111111111111111,
             "#46039f"
            ],
            [
             0.2222222222222222,
             "#7201a8"
            ],
            [
             0.3333333333333333,
             "#9c179e"
            ],
            [
             0.4444444444444444,
             "#bd3786"
            ],
            [
             0.5555555555555556,
             "#d8576b"
            ],
            [
             0.6666666666666666,
             "#ed7953"
            ],
            [
             0.7777777777777778,
             "#fb9f3a"
            ],
            [
             0.8888888888888888,
             "#fdca26"
            ],
            [
             1.0,
             "#f0f921"
            ]
           ],
           "sequentialminus": [
            [
             0.0,
             "#0d0887"
            ],
            [
             0.1111111111111111,
             "#46039f"
            ],
            [
             0.2222222222222222,
             "#7201a8"
            ],
            [
             0.3333333333333333,
             "#9c179e"
            ],
            [
             0.4444444444444444,
             "#bd3786"
            ],
            [
             0.5555555555555556,
             "#d8576b"
            ],
            [
             0.6666666666666666,
             "#ed7953"
            ],
            [
             0.7777777777777778,
             "#fb9f3a"
            ],
            [
             0.8888888888888888,
             "#fdca26"
            ],
            [
             1.0,
             "#f0f921"
            ]
           ],
           "diverging": [
            [
             0,
             "#8e0152"
            ],
            [
             0.1,
             "#c51b7d"
            ],
            [
             0.2,
             "#de77ae"
            ],
            [
             0.3,
             "#f1b6da"
            ],
            [
             0.4,
             "#fde0ef"
            ],
            [
             0.5,
             "#f7f7f7"
            ],
            [
             0.6,
             "#e6f5d0"
            ],
            [
             0.7,
             "#b8e186"
            ],
            [
             0.8,
             "#7fbc41"
            ],
            [
             0.9,
             "#4d9221"
            ],
            [
             1,
             "#276419"
            ]
           ]
          },
          "xaxis": {
           "gridcolor": "white",
           "linecolor": "white",
           "ticks": "",
           "title": {
            "standoff": 15
           },
           "zerolinecolor": "white",
           "automargin": true,
           "zerolinewidth": 2
          },
          "yaxis": {
           "gridcolor": "white",
           "linecolor": "white",
           "ticks": "",
           "title": {
            "standoff": 15
           },
           "zerolinecolor": "white",
           "automargin": true,
           "zerolinewidth": 2
          },
          "scene": {
           "xaxis": {
            "backgroundcolor": "#E5ECF6",
            "gridcolor": "white",
            "linecolor": "white",
            "showbackground": true,
            "ticks": "",
            "zerolinecolor": "white",
            "gridwidth": 2
           },
           "yaxis": {
            "backgroundcolor": "#E5ECF6",
            "gridcolor": "white",
            "linecolor": "white",
            "showbackground": true,
            "ticks": "",
            "zerolinecolor": "white",
            "gridwidth": 2
           },
           "zaxis": {
            "backgroundcolor": "#E5ECF6",
            "gridcolor": "white",
            "linecolor": "white",
            "showbackground": true,
            "ticks": "",
            "zerolinecolor": "white",
            "gridwidth": 2
           }
          },
          "shapedefaults": {
           "line": {
            "color": "#2a3f5f"
           }
          },
          "annotationdefaults": {
           "arrowcolor": "#2a3f5f",
           "arrowhead": 0,
           "arrowwidth": 1
          },
          "geo": {
           "bgcolor": "white",
           "landcolor": "#E5ECF6",
           "subunitcolor": "white",
           "showland": true,
           "showlakes": true,
           "lakecolor": "white"
          },
          "title": {
           "x": 0.05
          },
          "mapbox": {
           "style": "light"
          }
         }
        }
       },
       "config": {
        "plotlyServerURL": "https://plot.ly"
       }
      },
      "text/html": "<div>                            <div id=\"773e7fc5-8631-4a03-933e-4eb527b60340\" class=\"plotly-graph-div\" style=\"height:525px; width:100%;\"></div>            <script type=\"text/javascript\">                require([\"plotly\"], function(Plotly) {                    window.PLOTLYENV=window.PLOTLYENV || {};                                    if (document.getElementById(\"773e7fc5-8631-4a03-933e-4eb527b60340\")) {                    Plotly.newPlot(                        \"773e7fc5-8631-4a03-933e-4eb527b60340\",                        [{\"line\":{\"color\":\"rgba(0,0,0, 0.3)\"},\"mode\":\"lines\",\"name\":\"Ground Truth\",\"y\":[-0.16569294332887366,-0.17270999583908758,-0.17903153181634995,-0.18418577985678694,-0.16569294332887366,-0.17270999583908758,-0.17903153181634995,-0.18418577985678694,-0.16569294332887366,-0.17270999583908758,-0.17903153181634995,-0.18418577985678694,-0.24987841031194857,-0.2662375869403939,-0.2850009571913125,-0.304456422323713,-0.28975545863210783,-0.29002412518184,-0.2939764936945983,-0.2996667799161248,-0.28975545863210783,-0.29002412518184,-0.2939764936945983,-0.2996667799161248,-0.19148620391640306,-0.18641336441091724,-0.18167863367789525,-0.1802165984004754,-0.19148620391640306,-0.18641336441091724,-0.18167863367789525,-0.1802165984004754,-0.1312741223307152,-0.13320653784335967,-0.141701531603264,-0.15863624319215422,-0.1312741223307152,-0.13320653784335967,-0.141701531603264,-0.15863624319215422,-0.1312741223307152,-0.13320653784335967,-0.141701531603264,-0.15863624319215422,-1.5664752428547386,-1.6768505318589064,-1.7459784311608528,-1.7688160311833607,-1.250073395853043,-1.1497520876502403,-1.0584818031124938,-0.9735529514164034,-1.250073395853043,-1.1497520876502403,-1.0584818031124938,-0.9735529514164034,-1.250073395853043,-1.1497520876502403,-1.0584818031124938,-0.9735529514164034,-0.04089647340959069,-0.062053003921390876,-0.08984843854421908,-0.11838744146695575,-0.1430532257427612,-0.36269707989816086,-0.4047130881346038,-0.447632320482938,-0.49317691020622234,-0.36269707989816086,-0.4047130881346038,-0.447632320482938,-0.49317691020622234,-0.36269707989816086,-0.4047130881346038,-0.447632320482938,-0.49317691020622234,-0.36269707989816086,-0.4047130881346038,-0.447632320482938,-0.49317691020622234,-0.20467156808154482,-0.20677175382931165,-0.2091354864909558,-0.21138802996463243,-0.21806542121656208,-0.21943524294532238,-0.22082403278344592,-0.22221924082454064],\"type\":\"scatter\"},{\"line\":{\"dash\":\"dot\"},\"mode\":\"lines\",\"name\":\"Linear Regression Predictions\",\"opacity\":0.8,\"y\":[-0.17954999002188643,-0.2410357798961904,-0.2991970182290551,-0.3321098051095941,-0.17954999002188643,-0.2410357798961904,-0.2991970182290551,-0.3321098051095941,-0.17954999002188643,-0.2410357798961904,-0.2991970182290551,-0.3321098051095941,0.27562950360784555,0.3956848632496488,0.47537378720405954,0.5171878818261515,-0.42798505792767827,-0.4402196998362147,-0.44852111910980064,-0.45599696263783684,-0.42798505792767827,-0.4402196998362147,-0.44852111910980064,-0.45599696263783684,-0.34195403084834197,-0.42967179149349555,-0.5239927950226893,-0.6234574381100835,-0.34195403084834197,-0.42967179149349555,-0.5239927950226893,-0.6234574381100835,0.04418653487150159,0.04903212107246091,0.04085684435658621,0.015162902673953482,0.04418653487150159,0.04903212107246091,0.04085684435658621,0.015162902673953482,0.04418653487150159,0.04903212107246091,0.04085684435658621,0.015162902673953482,-1.2313917895385256,-1.3078333887675342,-1.3708369454054061,-1.4235631328993392,-1.5352897295710761,-1.5540838835042265,-1.5848693297653522,-1.6119547940104137,-1.5352897295710761,-1.5540838835042265,-1.5848693297653522,-1.6119547940104137,-1.5352897295710761,-1.5540838835042265,-1.5848693297653522,-1.6119547940104137,-0.1395306774666416,-0.09157720613012543,-0.05442677870756718,-0.03760129947199076,-0.04602242054050443,-0.34258236821003507,-0.2996207348074691,-0.23187575478006117,-0.15414478237136642,-0.34258236821003507,-0.2996207348074691,-0.23187575478006117,-0.15414478237136642,-0.34258236821003507,-0.2996207348074691,-0.23187575478006117,-0.15414478237136642,-0.34258236821003507,-0.2996207348074691,-0.23187575478006117,-0.15414478237136642,0.2655121050274065,0.36830383675145306,0.44067372351021206,0.4758319855872788,0.06341599401573106,0.1268278372099747,0.18166535499022451,0.2295546381128286],\"type\":\"scatter\"},{\"line\":{\"dash\":\"dot\"},\"mode\":\"lines\",\"name\":\"LSTM Predictions\",\"opacity\":0.8,\"y\":[-0.2892898619174957,-0.3120144009590149,-0.34425780177116394,-0.3344804644584656,-0.2892898619174957,-0.3120144009590149,-0.34425780177116394,-0.3344804644584656,-0.2892898619174957,-0.3120144009590149,-0.34425780177116394,-0.3344804644584656,-0.27878671884536743,-0.2751641273498535,-0.27312490344047546,-0.27469632029533386,-0.16182708740234375,-0.1326635479927063,-0.12340354919433594,-0.15944141149520874,-0.16182708740234375,-0.1326635479927063,-0.12340354919433594,-0.15944141149520874,-0.19427144527435303,-0.21452060341835022,-0.22875966131687164,-0.20010308921337128,-0.19427144527435303,-0.21452060341835022,-0.22875966131687164,-0.20010308921337128,-0.2417624592781067,-0.2630845010280609,-0.28333181142807007,-0.30014169216156006,-0.2417624592781067,-0.2630845010280609,-0.28333181142807007,-0.30014169216156006,-0.2417624592781067,-0.2630845010280609,-0.28333181142807007,-0.30014169216156006,-1.6946020126342773,-1.7695086002349854,-1.7325310707092285,-1.6408805847167969,-1.477278470993042,-1.363373041152954,-1.1547825336456299,-0.9147967100143433,-1.477278470993042,-1.363373041152954,-1.1547825336456299,-0.9147967100143433,-1.477278470993042,-1.363373041152954,-1.1547825336456299,-0.9147967100143433,-0.11878398060798645,-0.14751744270324707,-0.13283544778823853,-0.08274823427200317,-0.027173638343811035,-0.3630951941013336,-0.3985896408557892,-0.45219576358795166,-0.5225802659988403,-0.3630951941013336,-0.3985896408557892,-0.45219576358795166,-0.5225802659988403,-0.3630951941013336,-0.3985896408557892,-0.45219576358795166,-0.5225802659988403,-0.3630951941013336,-0.3985896408557892,-0.45219576358795166,-0.5225802659988403,-0.13186001777648926,-0.11294269561767578,-0.08378353714942932,-0.06478428840637207,-0.08388221263885498,-0.07000160217285156,-0.05614420771598816,-0.04745367169380188],\"type\":\"scatter\"}],                        {\"xaxis\":{\"ticklen\":5,\"title\":{\"text\":\"Time\"},\"zeroline\":false},\"yaxis\":{\"ticklen\":5,\"title\":{\"text\":\"Right Knee Motor Position\"},\"zeroline\":false},\"template\":{\"data\":{\"histogram2dcontour\":[{\"type\":\"histogram2dcontour\",\"colorbar\":{\"outlinewidth\":0,\"ticks\":\"\"},\"colorscale\":[[0.0,\"#0d0887\"],[0.1111111111111111,\"#46039f\"],[0.2222222222222222,\"#7201a8\"],[0.3333333333333333,\"#9c179e\"],[0.4444444444444444,\"#bd3786\"],[0.5555555555555556,\"#d8576b\"],[0.6666666666666666,\"#ed7953\"],[0.7777777777777778,\"#fb9f3a\"],[0.8888888888888888,\"#fdca26\"],[1.0,\"#f0f921\"]]}],\"choropleth\":[{\"type\":\"choropleth\",\"colorbar\":{\"outlinewidth\":0,\"ticks\":\"\"}}],\"histogram2d\":[{\"type\":\"histogram2d\",\"colorbar\":{\"outlinewidth\":0,\"ticks\":\"\"},\"colorscale\":[[0.0,\"#0d0887\"],[0.1111111111111111,\"#46039f\"],[0.2222222222222222,\"#7201a8\"],[0.3333333333333333,\"#9c179e\"],[0.4444444444444444,\"#bd3786\"],[0.5555555555555556,\"#d8576b\"],[0.6666666666666666,\"#ed7953\"],[0.7777777777777778,\"#fb9f3a\"],[0.8888888888888888,\"#fdca26\"],[1.0,\"#f0f921\"]]}],\"heatmap\":[{\"type\":\"heatmap\",\"colorbar\":{\"outlinewidth\":0,\"ticks\":\"\"},\"colorscale\":[[0.0,\"#0d0887\"],[0.1111111111111111,\"#46039f\"],[0.2222222222222222,\"#7201a8\"],[0.3333333333333333,\"#9c179e\"],[0.4444444444444444,\"#bd3786\"],[0.5555555555555556,\"#d8576b\"],[0.6666666666666666,\"#ed7953\"],[0.7777777777777778,\"#fb9f3a\"],[0.8888888888888888,\"#fdca26\"],[1.0,\"#f0f921\"]]}],\"heatmapgl\":[{\"type\":\"heatmapgl\",\"colorbar\":{\"outlinewidth\":0,\"ticks\":\"\"},\"colorscale\":[[0.0,\"#0d0887\"],[0.1111111111111111,\"#46039f\"],[0.2222222222222222,\"#7201a8\"],[0.3333333333333333,\"#9c179e\"],[0.4444444444444444,\"#bd3786\"],[0.5555555555555556,\"#d8576b\"],[0.6666666666666666,\"#ed7953\"],[0.7777777777777778,\"#fb9f3a\"],[0.8888888888888888,\"#fdca26\"],[1.0,\"#f0f921\"]]}],\"contourcarpet\":[{\"type\":\"contourcarpet\",\"colorbar\":{\"outlinewidth\":0,\"ticks\":\"\"}}],\"contour\":[{\"type\":\"contour\",\"colorbar\":{\"outlinewidth\":0,\"ticks\":\"\"},\"colorscale\":[[0.0,\"#0d0887\"],[0.1111111111111111,\"#46039f\"],[0.2222222222222222,\"#7201a8\"],[0.3333333333333333,\"#9c179e\"],[0.4444444444444444,\"#bd3786\"],[0.5555555555555556,\"#d8576b\"],[0.6666666666666666,\"#ed7953\"],[0.7777777777777778,\"#fb9f3a\"],[0.8888888888888888,\"#fdca26\"],[1.0,\"#f0f921\"]]}],\"surface\":[{\"type\":\"surface\",\"colorbar\":{\"outlinewidth\":0,\"ticks\":\"\"},\"colorscale\":[[0.0,\"#0d0887\"],[0.1111111111111111,\"#46039f\"],[0.2222222222222222,\"#7201a8\"],[0.3333333333333333,\"#9c179e\"],[0.4444444444444444,\"#bd3786\"],[0.5555555555555556,\"#d8576b\"],[0.6666666666666666,\"#ed7953\"],[0.7777777777777778,\"#fb9f3a\"],[0.8888888888888888,\"#fdca26\"],[1.0,\"#f0f921\"]]}],\"mesh3d\":[{\"type\":\"mesh3d\",\"colorbar\":{\"outlinewidth\":0,\"ticks\":\"\"}}],\"scatter\":[{\"fillpattern\":{\"fillmode\":\"overlay\",\"size\":10,\"solidity\":0.2},\"type\":\"scatter\"}],\"parcoords\":[{\"type\":\"parcoords\",\"line\":{\"colorbar\":{\"outlinewidth\":0,\"ticks\":\"\"}}}],\"scatterpolargl\":[{\"type\":\"scatterpolargl\",\"marker\":{\"colorbar\":{\"outlinewidth\":0,\"ticks\":\"\"}}}],\"bar\":[{\"error_x\":{\"color\":\"#2a3f5f\"},\"error_y\":{\"color\":\"#2a3f5f\"},\"marker\":{\"line\":{\"color\":\"#E5ECF6\",\"width\":0.5},\"pattern\":{\"fillmode\":\"overlay\",\"size\":10,\"solidity\":0.2}},\"type\":\"bar\"}],\"scattergeo\":[{\"type\":\"scattergeo\",\"marker\":{\"colorbar\":{\"outlinewidth\":0,\"ticks\":\"\"}}}],\"scatterpolar\":[{\"type\":\"scatterpolar\",\"marker\":{\"colorbar\":{\"outlinewidth\":0,\"ticks\":\"\"}}}],\"histogram\":[{\"marker\":{\"pattern\":{\"fillmode\":\"overlay\",\"size\":10,\"solidity\":0.2}},\"type\":\"histogram\"}],\"scattergl\":[{\"type\":\"scattergl\",\"marker\":{\"colorbar\":{\"outlinewidth\":0,\"ticks\":\"\"}}}],\"scatter3d\":[{\"type\":\"scatter3d\",\"line\":{\"colorbar\":{\"outlinewidth\":0,\"ticks\":\"\"}},\"marker\":{\"colorbar\":{\"outlinewidth\":0,\"ticks\":\"\"}}}],\"scattermapbox\":[{\"type\":\"scattermapbox\",\"marker\":{\"colorbar\":{\"outlinewidth\":0,\"ticks\":\"\"}}}],\"scatterternary\":[{\"type\":\"scatterternary\",\"marker\":{\"colorbar\":{\"outlinewidth\":0,\"ticks\":\"\"}}}],\"scattercarpet\":[{\"type\":\"scattercarpet\",\"marker\":{\"colorbar\":{\"outlinewidth\":0,\"ticks\":\"\"}}}],\"carpet\":[{\"aaxis\":{\"endlinecolor\":\"#2a3f5f\",\"gridcolor\":\"white\",\"linecolor\":\"white\",\"minorgridcolor\":\"white\",\"startlinecolor\":\"#2a3f5f\"},\"baxis\":{\"endlinecolor\":\"#2a3f5f\",\"gridcolor\":\"white\",\"linecolor\":\"white\",\"minorgridcolor\":\"white\",\"startlinecolor\":\"#2a3f5f\"},\"type\":\"carpet\"}],\"table\":[{\"cells\":{\"fill\":{\"color\":\"#EBF0F8\"},\"line\":{\"color\":\"white\"}},\"header\":{\"fill\":{\"color\":\"#C8D4E3\"},\"line\":{\"color\":\"white\"}},\"type\":\"table\"}],\"barpolar\":[{\"marker\":{\"line\":{\"color\":\"#E5ECF6\",\"width\":0.5},\"pattern\":{\"fillmode\":\"overlay\",\"size\":10,\"solidity\":0.2}},\"type\":\"barpolar\"}],\"pie\":[{\"automargin\":true,\"type\":\"pie\"}]},\"layout\":{\"autotypenumbers\":\"strict\",\"colorway\":[\"#636efa\",\"#EF553B\",\"#00cc96\",\"#ab63fa\",\"#FFA15A\",\"#19d3f3\",\"#FF6692\",\"#B6E880\",\"#FF97FF\",\"#FECB52\"],\"font\":{\"color\":\"#2a3f5f\"},\"hovermode\":\"closest\",\"hoverlabel\":{\"align\":\"left\"},\"paper_bgcolor\":\"white\",\"plot_bgcolor\":\"#E5ECF6\",\"polar\":{\"bgcolor\":\"#E5ECF6\",\"angularaxis\":{\"gridcolor\":\"white\",\"linecolor\":\"white\",\"ticks\":\"\"},\"radialaxis\":{\"gridcolor\":\"white\",\"linecolor\":\"white\",\"ticks\":\"\"}},\"ternary\":{\"bgcolor\":\"#E5ECF6\",\"aaxis\":{\"gridcolor\":\"white\",\"linecolor\":\"white\",\"ticks\":\"\"},\"baxis\":{\"gridcolor\":\"white\",\"linecolor\":\"white\",\"ticks\":\"\"},\"caxis\":{\"gridcolor\":\"white\",\"linecolor\":\"white\",\"ticks\":\"\"}},\"coloraxis\":{\"colorbar\":{\"outlinewidth\":0,\"ticks\":\"\"}},\"colorscale\":{\"sequential\":[[0.0,\"#0d0887\"],[0.1111111111111111,\"#46039f\"],[0.2222222222222222,\"#7201a8\"],[0.3333333333333333,\"#9c179e\"],[0.4444444444444444,\"#bd3786\"],[0.5555555555555556,\"#d8576b\"],[0.6666666666666666,\"#ed7953\"],[0.7777777777777778,\"#fb9f3a\"],[0.8888888888888888,\"#fdca26\"],[1.0,\"#f0f921\"]],\"sequentialminus\":[[0.0,\"#0d0887\"],[0.1111111111111111,\"#46039f\"],[0.2222222222222222,\"#7201a8\"],[0.3333333333333333,\"#9c179e\"],[0.4444444444444444,\"#bd3786\"],[0.5555555555555556,\"#d8576b\"],[0.6666666666666666,\"#ed7953\"],[0.7777777777777778,\"#fb9f3a\"],[0.8888888888888888,\"#fdca26\"],[1.0,\"#f0f921\"]],\"diverging\":[[0,\"#8e0152\"],[0.1,\"#c51b7d\"],[0.2,\"#de77ae\"],[0.3,\"#f1b6da\"],[0.4,\"#fde0ef\"],[0.5,\"#f7f7f7\"],[0.6,\"#e6f5d0\"],[0.7,\"#b8e186\"],[0.8,\"#7fbc41\"],[0.9,\"#4d9221\"],[1,\"#276419\"]]},\"xaxis\":{\"gridcolor\":\"white\",\"linecolor\":\"white\",\"ticks\":\"\",\"title\":{\"standoff\":15},\"zerolinecolor\":\"white\",\"automargin\":true,\"zerolinewidth\":2},\"yaxis\":{\"gridcolor\":\"white\",\"linecolor\":\"white\",\"ticks\":\"\",\"title\":{\"standoff\":15},\"zerolinecolor\":\"white\",\"automargin\":true,\"zerolinewidth\":2},\"scene\":{\"xaxis\":{\"backgroundcolor\":\"#E5ECF6\",\"gridcolor\":\"white\",\"linecolor\":\"white\",\"showbackground\":true,\"ticks\":\"\",\"zerolinecolor\":\"white\",\"gridwidth\":2},\"yaxis\":{\"backgroundcolor\":\"#E5ECF6\",\"gridcolor\":\"white\",\"linecolor\":\"white\",\"showbackground\":true,\"ticks\":\"\",\"zerolinecolor\":\"white\",\"gridwidth\":2},\"zaxis\":{\"backgroundcolor\":\"#E5ECF6\",\"gridcolor\":\"white\",\"linecolor\":\"white\",\"showbackground\":true,\"ticks\":\"\",\"zerolinecolor\":\"white\",\"gridwidth\":2}},\"shapedefaults\":{\"line\":{\"color\":\"#2a3f5f\"}},\"annotationdefaults\":{\"arrowcolor\":\"#2a3f5f\",\"arrowhead\":0,\"arrowwidth\":1},\"geo\":{\"bgcolor\":\"white\",\"landcolor\":\"#E5ECF6\",\"subunitcolor\":\"white\",\"showland\":true,\"showlakes\":true,\"lakecolor\":\"white\"},\"title\":{\"x\":0.05},\"mapbox\":{\"style\":\"light\"}}}},                        {\"responsive\": true}                    ).then(function(){\n                            \nvar gd = document.getElementById('773e7fc5-8631-4a03-933e-4eb527b60340');\nvar x = new MutationObserver(function (mutations, observer) {{\n        var display = window.getComputedStyle(gd).display;\n        if (!display || display === 'none') {{\n            console.log([gd, 'removed!']);\n            Plotly.purge(gd);\n            observer.disconnect();\n        }}\n}});\n\n// Listen for the removal of the full notebook cells\nvar notebookContainer = gd.closest('#notebook-container');\nif (notebookContainer) {{\n    x.observe(notebookContainer, {childList: true});\n}}\n\n// Listen for the clearing of the current output cell\nvar outputEl = gd.closest('.output');\nif (outputEl) {{\n    x.observe(outputEl, {childList: true});\n}}\n\n                        })                };                });            </script>        </div>"
     },
     "metadata": {},
     "output_type": "display_data"
    }
   ],
   "source": [
    "layout = dict(\n",
    "   # title=\"Predictions vs Actual Values\",\n",
    "    xaxis=dict(title=\"Time\", ticklen=5, zeroline=False),\n",
    "    yaxis=dict(title=\"Right Knee Motor Position\", ticklen=5, zeroline=False),\n",
    ")\n",
    "\n",
    "fig = dict(data=data, layout=layout)\n",
    "#a = pyo.iplot(fig)\n",
    "f = go.Figure(data=data, layout=layout)\n",
    "print(f)\n",
    "f.show()"
   ],
   "metadata": {
    "collapsed": false
   }
  },
  {
   "cell_type": "code",
   "execution_count": 334,
   "outputs": [
    {
     "data": {
      "application/vnd.plotly.v1+json": {
       "data": [
        {
         "line": {
          "color": "rgba(0,0,0, 0.3)"
         },
         "mode": "lines",
         "name": "values",
         "y": [
          -0.26055479735860115,
          -0.25048955747071655,
          -0.19114718577526216,
          -0.1440775034390125,
          -0.26055479735860115,
          -0.25048955747071655,
          -0.19114718577526216,
          -0.1440775034390125,
          -0.26055479735860115,
          -0.25048955747071655,
          -0.19114718577526216,
          -0.1440775034390125,
          -0.49727273364068203,
          -0.6622887640791392,
          -0.7503221406476543,
          -0.7764009379021695,
          0.13432827154237179,
          -0.036715170882026894,
          -0.15949266507095677,
          -0.206270030848638,
          0.13432827154237179,
          -0.036715170882026894,
          -0.15949266507095677,
          -0.206270030848638,
          0.038144679704148726,
          0.2132372658109778,
          0.1953334991729834,
          0.06391230599109501,
          0.038144679704148726,
          0.2132372658109778,
          0.1953334991729834,
          0.06391230599109501,
          0.02921824077989078,
          -0.12523543885434188,
          -0.36821154734291883,
          -0.6704676851186981,
          0.02921824077989078,
          -0.12523543885434188,
          -0.36821154734291883,
          -0.6704676851186981,
          0.02921824077989078,
          -0.12523543885434188,
          -0.36821154734291883,
          -0.6704676851186981,
          -5.07121477154731,
          -3.71848462226673,
          -2.0266016375545957,
          -0.25982520995756003,
          4.147509613085527,
          3.7971124255076503,
          3.5062753663129658,
          3.3304240485194376,
          4.147509613085527,
          3.7971124255076503,
          3.5062753663129658,
          3.3304240485194376,
          4.147509613085527,
          3.7971124255076503,
          3.5062753663129658,
          3.3304240485194376,
          -0.5179582565095469,
          -0.946589352339389,
          -1.081577861642847,
          -0.9903869921315126,
          -0.7541312299186069,
          -1.5455564647247566,
          -1.6655484202354094,
          -1.7830334558455443,
          -1.9898199396454108,
          -1.5455564647247566,
          -1.6655484202354094,
          -1.7830334558455443,
          -1.9898199396454108,
          -1.5455564647247566,
          -1.6655484202354094,
          -1.7830334558455443,
          -1.9898199396454108,
          -1.5455564647247566,
          -1.6655484202354094,
          -1.7830334558455443,
          -1.9898199396454108,
          -0.08289944721718522,
          -0.10212853135059384,
          -0.10324259042207577,
          -0.08829996598012961,
          -0.057850550891597394,
          -0.05473957445585432,
          -0.06082664834839095,
          -0.06691569611685909
         ],
         "type": "scatter"
        },
        {
         "line": {
          "dash": "dot"
         },
         "mode": "lines",
         "name": "Linear Regression Predictions",
         "opacity": 0.8,
         "y": [
          -0.8929328724843799,
          -1.159788458212006,
          -1.308454231752421,
          -1.3280688318964167,
          -0.8929328724843799,
          -1.159788458212006,
          -1.308454231752421,
          -1.3280688318964167,
          -0.8929328724843799,
          -1.159788458212006,
          -1.308454231752421,
          -1.3280688318964167,
          1.6281286839450786,
          1.5400566405247673,
          1.1751778728234967,
          0.5991316062727492,
          1.2850552495824559,
          1.635067569036437,
          2.035108868937641,
          2.459568323850931,
          1.2850552495824559,
          1.635067569036437,
          2.035108868937641,
          2.459568323850931,
          -2.545692131000237,
          -3.0378562374412468,
          -3.694601273587523,
          -4.4277078859157655,
          -2.545692131000237,
          -3.0378562374412468,
          -3.694601273587523,
          -4.4277078859157655,
          -1.8097652269028686,
          -2.858265256491336,
          -3.952415270807819,
          -5.061530481021691,
          -1.8097652269028686,
          -2.858265256491336,
          -3.952415270807819,
          -5.061530481021691,
          -1.8097652269028686,
          -2.858265256491336,
          -3.952415270807819,
          -5.061530481021691,
          -2.7522075502031385,
          -1.936341028462266,
          -0.9862335345532074,
          0.016519275946961898,
          5.955261911109119,
          6.147850731796552,
          6.318186838254178,
          6.604071062936782,
          5.955261911109119,
          6.147850731796552,
          6.318186838254178,
          6.604071062936782,
          5.955261911109119,
          6.147850731796552,
          6.318186838254178,
          6.604071062936782,
          -4.102578356331037,
          -4.931472133619991,
          -5.404288525943002,
          -5.601094376618107,
          -5.630925935901246,
          -1.1533060971693203,
          -0.6724891576379832,
          -0.06795129485749385,
          0.503072503010344,
          -1.1533060971693203,
          -0.6724891576379832,
          -0.06795129485749385,
          0.503072503010344,
          -1.1533060971693203,
          -0.6724891576379832,
          -0.06795129485749385,
          0.503072503010344,
          -1.1533060971693203,
          -0.6724891576379832,
          -0.06795129485749385,
          0.503072503010344,
          -0.42887833051588586,
          -0.877355734283924,
          -1.694213306931033,
          -2.851485389067193,
          0.7072521890189591,
          0.5776521622470909,
          0.3009542288467628,
          -0.13151114794641217
         ],
         "type": "scatter"
        },
        {
         "line": {
          "dash": "dot"
         },
         "mode": "lines",
         "name": "LSTM Predictions",
         "opacity": 0.8,
         "y": [
          -0.031191706657409668,
          -0.02363896369934082,
          0.027567803859710693,
          0.095173180103302,
          -0.031191706657409668,
          -0.02363896369934082,
          0.027567803859710693,
          0.095173180103302,
          -0.031191706657409668,
          -0.02363896369934082,
          0.027567803859710693,
          0.095173180103302,
          0.1314517855644226,
          0.11340868473052979,
          0.08416110277175903,
          0.03205984830856323,
          0.1462804079055786,
          0.04544675350189209,
          0.021587133407592773,
          0.08807802200317383,
          0.1462804079055786,
          0.04544675350189209,
          0.021587133407592773,
          0.08807802200317383,
          -0.04409688711166382,
          0.08318585157394409,
          0.09848272800445557,
          0.055703818798065186,
          -0.04409688711166382,
          0.08318585157394409,
          0.09848272800445557,
          0.055703818798065186,
          0.057504117488861084,
          0.04892373085021973,
          0.03894615173339844,
          -0.043122172355651855,
          0.057504117488861084,
          0.04892373085021973,
          0.03894615173339844,
          -0.043122172355651855,
          0.057504117488861084,
          0.04892373085021973,
          0.03894615173339844,
          -0.043122172355651855,
          -4.891411304473877,
          -3.777897834777832,
          -3.1119089126586914,
          -2.6014866828918457,
          4.596823692321777,
          5.103517055511475,
          5.841755390167236,
          6.4269843101501465,
          4.596823692321777,
          5.103517055511475,
          5.841755390167236,
          6.4269843101501465,
          4.596823692321777,
          5.103517055511475,
          5.841755390167236,
          6.4269843101501465,
          -0.7563457489013672,
          -1.552540898323059,
          -1.9879378080368042,
          -2.026305675506592,
          -1.7523990869522095,
          -1.6452184915542603,
          -2.016892910003662,
          -2.3870129585266113,
          -2.704672336578369,
          -1.6452184915542603,
          -2.016892910003662,
          -2.3870129585266113,
          -2.704672336578369,
          -1.6452184915542603,
          -2.016892910003662,
          -2.3870129585266113,
          -2.704672336578369,
          -1.6452184915542603,
          -2.016892910003662,
          -2.3870129585266113,
          -2.704672336578369,
          -0.07963836193084717,
          -0.11644625663757324,
          -0.12976586818695068,
          -0.09733891487121582,
          -0.09257519245147705,
          -0.058722853660583496,
          -0.028036534786224365,
          -0.00889277458190918
         ],
         "type": "scatter"
        }
       ],
       "layout": {
        "template": {
         "data": {
          "barpolar": [
           {
            "marker": {
             "line": {
              "color": "#E5ECF6",
              "width": 0.5
             },
             "pattern": {
              "fillmode": "overlay",
              "size": 10,
              "solidity": 0.2
             }
            },
            "type": "barpolar"
           }
          ],
          "bar": [
           {
            "error_x": {
             "color": "#2a3f5f"
            },
            "error_y": {
             "color": "#2a3f5f"
            },
            "marker": {
             "line": {
              "color": "#E5ECF6",
              "width": 0.5
             },
             "pattern": {
              "fillmode": "overlay",
              "size": 10,
              "solidity": 0.2
             }
            },
            "type": "bar"
           }
          ],
          "carpet": [
           {
            "aaxis": {
             "endlinecolor": "#2a3f5f",
             "gridcolor": "white",
             "linecolor": "white",
             "minorgridcolor": "white",
             "startlinecolor": "#2a3f5f"
            },
            "baxis": {
             "endlinecolor": "#2a3f5f",
             "gridcolor": "white",
             "linecolor": "white",
             "minorgridcolor": "white",
             "startlinecolor": "#2a3f5f"
            },
            "type": "carpet"
           }
          ],
          "choropleth": [
           {
            "colorbar": {
             "outlinewidth": 0,
             "ticks": ""
            },
            "type": "choropleth"
           }
          ],
          "contourcarpet": [
           {
            "colorbar": {
             "outlinewidth": 0,
             "ticks": ""
            },
            "type": "contourcarpet"
           }
          ],
          "contour": [
           {
            "colorbar": {
             "outlinewidth": 0,
             "ticks": ""
            },
            "colorscale": [
             [
              0.0,
              "#0d0887"
             ],
             [
              0.1111111111111111,
              "#46039f"
             ],
             [
              0.2222222222222222,
              "#7201a8"
             ],
             [
              0.3333333333333333,
              "#9c179e"
             ],
             [
              0.4444444444444444,
              "#bd3786"
             ],
             [
              0.5555555555555556,
              "#d8576b"
             ],
             [
              0.6666666666666666,
              "#ed7953"
             ],
             [
              0.7777777777777778,
              "#fb9f3a"
             ],
             [
              0.8888888888888888,
              "#fdca26"
             ],
             [
              1.0,
              "#f0f921"
             ]
            ],
            "type": "contour"
           }
          ],
          "heatmapgl": [
           {
            "colorbar": {
             "outlinewidth": 0,
             "ticks": ""
            },
            "colorscale": [
             [
              0.0,
              "#0d0887"
             ],
             [
              0.1111111111111111,
              "#46039f"
             ],
             [
              0.2222222222222222,
              "#7201a8"
             ],
             [
              0.3333333333333333,
              "#9c179e"
             ],
             [
              0.4444444444444444,
              "#bd3786"
             ],
             [
              0.5555555555555556,
              "#d8576b"
             ],
             [
              0.6666666666666666,
              "#ed7953"
             ],
             [
              0.7777777777777778,
              "#fb9f3a"
             ],
             [
              0.8888888888888888,
              "#fdca26"
             ],
             [
              1.0,
              "#f0f921"
             ]
            ],
            "type": "heatmapgl"
           }
          ],
          "heatmap": [
           {
            "colorbar": {
             "outlinewidth": 0,
             "ticks": ""
            },
            "colorscale": [
             [
              0.0,
              "#0d0887"
             ],
             [
              0.1111111111111111,
              "#46039f"
             ],
             [
              0.2222222222222222,
              "#7201a8"
             ],
             [
              0.3333333333333333,
              "#9c179e"
             ],
             [
              0.4444444444444444,
              "#bd3786"
             ],
             [
              0.5555555555555556,
              "#d8576b"
             ],
             [
              0.6666666666666666,
              "#ed7953"
             ],
             [
              0.7777777777777778,
              "#fb9f3a"
             ],
             [
              0.8888888888888888,
              "#fdca26"
             ],
             [
              1.0,
              "#f0f921"
             ]
            ],
            "type": "heatmap"
           }
          ],
          "histogram2dcontour": [
           {
            "colorbar": {
             "outlinewidth": 0,
             "ticks": ""
            },
            "colorscale": [
             [
              0.0,
              "#0d0887"
             ],
             [
              0.1111111111111111,
              "#46039f"
             ],
             [
              0.2222222222222222,
              "#7201a8"
             ],
             [
              0.3333333333333333,
              "#9c179e"
             ],
             [
              0.4444444444444444,
              "#bd3786"
             ],
             [
              0.5555555555555556,
              "#d8576b"
             ],
             [
              0.6666666666666666,
              "#ed7953"
             ],
             [
              0.7777777777777778,
              "#fb9f3a"
             ],
             [
              0.8888888888888888,
              "#fdca26"
             ],
             [
              1.0,
              "#f0f921"
             ]
            ],
            "type": "histogram2dcontour"
           }
          ],
          "histogram2d": [
           {
            "colorbar": {
             "outlinewidth": 0,
             "ticks": ""
            },
            "colorscale": [
             [
              0.0,
              "#0d0887"
             ],
             [
              0.1111111111111111,
              "#46039f"
             ],
             [
              0.2222222222222222,
              "#7201a8"
             ],
             [
              0.3333333333333333,
              "#9c179e"
             ],
             [
              0.4444444444444444,
              "#bd3786"
             ],
             [
              0.5555555555555556,
              "#d8576b"
             ],
             [
              0.6666666666666666,
              "#ed7953"
             ],
             [
              0.7777777777777778,
              "#fb9f3a"
             ],
             [
              0.8888888888888888,
              "#fdca26"
             ],
             [
              1.0,
              "#f0f921"
             ]
            ],
            "type": "histogram2d"
           }
          ],
          "histogram": [
           {
            "marker": {
             "pattern": {
              "fillmode": "overlay",
              "size": 10,
              "solidity": 0.2
             }
            },
            "type": "histogram"
           }
          ],
          "mesh3d": [
           {
            "colorbar": {
             "outlinewidth": 0,
             "ticks": ""
            },
            "type": "mesh3d"
           }
          ],
          "parcoords": [
           {
            "line": {
             "colorbar": {
              "outlinewidth": 0,
              "ticks": ""
             }
            },
            "type": "parcoords"
           }
          ],
          "pie": [
           {
            "automargin": true,
            "type": "pie"
           }
          ],
          "scatter3d": [
           {
            "line": {
             "colorbar": {
              "outlinewidth": 0,
              "ticks": ""
             }
            },
            "marker": {
             "colorbar": {
              "outlinewidth": 0,
              "ticks": ""
             }
            },
            "type": "scatter3d"
           }
          ],
          "scattercarpet": [
           {
            "marker": {
             "colorbar": {
              "outlinewidth": 0,
              "ticks": ""
             }
            },
            "type": "scattercarpet"
           }
          ],
          "scattergeo": [
           {
            "marker": {
             "colorbar": {
              "outlinewidth": 0,
              "ticks": ""
             }
            },
            "type": "scattergeo"
           }
          ],
          "scattergl": [
           {
            "marker": {
             "colorbar": {
              "outlinewidth": 0,
              "ticks": ""
             }
            },
            "type": "scattergl"
           }
          ],
          "scattermapbox": [
           {
            "marker": {
             "colorbar": {
              "outlinewidth": 0,
              "ticks": ""
             }
            },
            "type": "scattermapbox"
           }
          ],
          "scatterpolargl": [
           {
            "marker": {
             "colorbar": {
              "outlinewidth": 0,
              "ticks": ""
             }
            },
            "type": "scatterpolargl"
           }
          ],
          "scatterpolar": [
           {
            "marker": {
             "colorbar": {
              "outlinewidth": 0,
              "ticks": ""
             }
            },
            "type": "scatterpolar"
           }
          ],
          "scatter": [
           {
            "fillpattern": {
             "fillmode": "overlay",
             "size": 10,
             "solidity": 0.2
            },
            "type": "scatter"
           }
          ],
          "scatterternary": [
           {
            "marker": {
             "colorbar": {
              "outlinewidth": 0,
              "ticks": ""
             }
            },
            "type": "scatterternary"
           }
          ],
          "surface": [
           {
            "colorbar": {
             "outlinewidth": 0,
             "ticks": ""
            },
            "colorscale": [
             [
              0.0,
              "#0d0887"
             ],
             [
              0.1111111111111111,
              "#46039f"
             ],
             [
              0.2222222222222222,
              "#7201a8"
             ],
             [
              0.3333333333333333,
              "#9c179e"
             ],
             [
              0.4444444444444444,
              "#bd3786"
             ],
             [
              0.5555555555555556,
              "#d8576b"
             ],
             [
              0.6666666666666666,
              "#ed7953"
             ],
             [
              0.7777777777777778,
              "#fb9f3a"
             ],
             [
              0.8888888888888888,
              "#fdca26"
             ],
             [
              1.0,
              "#f0f921"
             ]
            ],
            "type": "surface"
           }
          ],
          "table": [
           {
            "cells": {
             "fill": {
              "color": "#EBF0F8"
             },
             "line": {
              "color": "white"
             }
            },
            "header": {
             "fill": {
              "color": "#C8D4E3"
             },
             "line": {
              "color": "white"
             }
            },
            "type": "table"
           }
          ]
         },
         "layout": {
          "annotationdefaults": {
           "arrowcolor": "#2a3f5f",
           "arrowhead": 0,
           "arrowwidth": 1
          },
          "autotypenumbers": "strict",
          "coloraxis": {
           "colorbar": {
            "outlinewidth": 0,
            "ticks": ""
           }
          },
          "colorscale": {
           "diverging": [
            [
             0,
             "#8e0152"
            ],
            [
             0.1,
             "#c51b7d"
            ],
            [
             0.2,
             "#de77ae"
            ],
            [
             0.3,
             "#f1b6da"
            ],
            [
             0.4,
             "#fde0ef"
            ],
            [
             0.5,
             "#f7f7f7"
            ],
            [
             0.6,
             "#e6f5d0"
            ],
            [
             0.7,
             "#b8e186"
            ],
            [
             0.8,
             "#7fbc41"
            ],
            [
             0.9,
             "#4d9221"
            ],
            [
             1,
             "#276419"
            ]
           ],
           "sequential": [
            [
             0.0,
             "#0d0887"
            ],
            [
             0.1111111111111111,
             "#46039f"
            ],
            [
             0.2222222222222222,
             "#7201a8"
            ],
            [
             0.3333333333333333,
             "#9c179e"
            ],
            [
             0.4444444444444444,
             "#bd3786"
            ],
            [
             0.5555555555555556,
             "#d8576b"
            ],
            [
             0.6666666666666666,
             "#ed7953"
            ],
            [
             0.7777777777777778,
             "#fb9f3a"
            ],
            [
             0.8888888888888888,
             "#fdca26"
            ],
            [
             1.0,
             "#f0f921"
            ]
           ],
           "sequentialminus": [
            [
             0.0,
             "#0d0887"
            ],
            [
             0.1111111111111111,
             "#46039f"
            ],
            [
             0.2222222222222222,
             "#7201a8"
            ],
            [
             0.3333333333333333,
             "#9c179e"
            ],
            [
             0.4444444444444444,
             "#bd3786"
            ],
            [
             0.5555555555555556,
             "#d8576b"
            ],
            [
             0.6666666666666666,
             "#ed7953"
            ],
            [
             0.7777777777777778,
             "#fb9f3a"
            ],
            [
             0.8888888888888888,
             "#fdca26"
            ],
            [
             1.0,
             "#f0f921"
            ]
           ]
          },
          "colorway": [
           "#636efa",
           "#EF553B",
           "#00cc96",
           "#ab63fa",
           "#FFA15A",
           "#19d3f3",
           "#FF6692",
           "#B6E880",
           "#FF97FF",
           "#FECB52"
          ],
          "font": {
           "color": "#2a3f5f"
          },
          "geo": {
           "bgcolor": "white",
           "lakecolor": "white",
           "landcolor": "#E5ECF6",
           "showlakes": true,
           "showland": true,
           "subunitcolor": "white"
          },
          "hoverlabel": {
           "align": "left"
          },
          "hovermode": "closest",
          "mapbox": {
           "style": "light"
          },
          "paper_bgcolor": "white",
          "plot_bgcolor": "#E5ECF6",
          "polar": {
           "angularaxis": {
            "gridcolor": "white",
            "linecolor": "white",
            "ticks": ""
           },
           "bgcolor": "#E5ECF6",
           "radialaxis": {
            "gridcolor": "white",
            "linecolor": "white",
            "ticks": ""
           }
          },
          "scene": {
           "xaxis": {
            "backgroundcolor": "#E5ECF6",
            "gridcolor": "white",
            "gridwidth": 2,
            "linecolor": "white",
            "showbackground": true,
            "ticks": "",
            "zerolinecolor": "white"
           },
           "yaxis": {
            "backgroundcolor": "#E5ECF6",
            "gridcolor": "white",
            "gridwidth": 2,
            "linecolor": "white",
            "showbackground": true,
            "ticks": "",
            "zerolinecolor": "white"
           },
           "zaxis": {
            "backgroundcolor": "#E5ECF6",
            "gridcolor": "white",
            "gridwidth": 2,
            "linecolor": "white",
            "showbackground": true,
            "ticks": "",
            "zerolinecolor": "white"
           }
          },
          "shapedefaults": {
           "line": {
            "color": "#2a3f5f"
           }
          },
          "ternary": {
           "aaxis": {
            "gridcolor": "white",
            "linecolor": "white",
            "ticks": ""
           },
           "baxis": {
            "gridcolor": "white",
            "linecolor": "white",
            "ticks": ""
           },
           "bgcolor": "#E5ECF6",
           "caxis": {
            "gridcolor": "white",
            "linecolor": "white",
            "ticks": ""
           }
          },
          "title": {
           "x": 0.05
          },
          "xaxis": {
           "automargin": true,
           "gridcolor": "white",
           "linecolor": "white",
           "ticks": "",
           "title": {
            "standoff": 15
           },
           "zerolinecolor": "white",
           "zerolinewidth": 2
          },
          "yaxis": {
           "automargin": true,
           "gridcolor": "white",
           "linecolor": "white",
           "ticks": "",
           "title": {
            "standoff": 15
           },
           "zerolinecolor": "white",
           "zerolinewidth": 2
          }
         }
        },
        "title": {
         "text": "Predictions vs Actual Values for the dataset"
        },
        "xaxis": {
         "ticklen": 5,
         "title": {
          "text": "Time"
         },
         "zeroline": false
        },
        "yaxis": {
         "ticklen": 5,
         "title": {
          "text": "Right Knee Motor Velocity"
         },
         "zeroline": false
        }
       },
       "config": {
        "showLink": false,
        "linkText": "Export to plot.ly",
        "plotlyServerURL": "https://plot.ly"
       }
      },
      "text/html": "<div>                            <div id=\"007c8776-c378-4421-822c-845ccb1afc03\" class=\"plotly-graph-div\" style=\"height:525px; width:100%;\"></div>            <script type=\"text/javascript\">                require([\"plotly\"], function(Plotly) {                    window.PLOTLYENV=window.PLOTLYENV || {};                                    if (document.getElementById(\"007c8776-c378-4421-822c-845ccb1afc03\")) {                    Plotly.newPlot(                        \"007c8776-c378-4421-822c-845ccb1afc03\",                        [{\"line\":{\"color\":\"rgba(0,0,0, 0.3)\"},\"mode\":\"lines\",\"name\":\"values\",\"y\":[-0.26055479735860115,-0.25048955747071655,-0.19114718577526216,-0.1440775034390125,-0.26055479735860115,-0.25048955747071655,-0.19114718577526216,-0.1440775034390125,-0.26055479735860115,-0.25048955747071655,-0.19114718577526216,-0.1440775034390125,-0.49727273364068203,-0.6622887640791392,-0.7503221406476543,-0.7764009379021695,0.13432827154237179,-0.036715170882026894,-0.15949266507095677,-0.206270030848638,0.13432827154237179,-0.036715170882026894,-0.15949266507095677,-0.206270030848638,0.038144679704148726,0.2132372658109778,0.1953334991729834,0.06391230599109501,0.038144679704148726,0.2132372658109778,0.1953334991729834,0.06391230599109501,0.02921824077989078,-0.12523543885434188,-0.36821154734291883,-0.6704676851186981,0.02921824077989078,-0.12523543885434188,-0.36821154734291883,-0.6704676851186981,0.02921824077989078,-0.12523543885434188,-0.36821154734291883,-0.6704676851186981,-5.07121477154731,-3.71848462226673,-2.0266016375545957,-0.25982520995756003,4.147509613085527,3.7971124255076503,3.5062753663129658,3.3304240485194376,4.147509613085527,3.7971124255076503,3.5062753663129658,3.3304240485194376,4.147509613085527,3.7971124255076503,3.5062753663129658,3.3304240485194376,-0.5179582565095469,-0.946589352339389,-1.081577861642847,-0.9903869921315126,-0.7541312299186069,-1.5455564647247566,-1.6655484202354094,-1.7830334558455443,-1.9898199396454108,-1.5455564647247566,-1.6655484202354094,-1.7830334558455443,-1.9898199396454108,-1.5455564647247566,-1.6655484202354094,-1.7830334558455443,-1.9898199396454108,-1.5455564647247566,-1.6655484202354094,-1.7830334558455443,-1.9898199396454108,-0.08289944721718522,-0.10212853135059384,-0.10324259042207577,-0.08829996598012961,-0.057850550891597394,-0.05473957445585432,-0.06082664834839095,-0.06691569611685909],\"type\":\"scatter\"},{\"line\":{\"dash\":\"dot\"},\"mode\":\"lines\",\"name\":\"Linear Regression Predictions\",\"opacity\":0.8,\"y\":[-0.8929328724843799,-1.159788458212006,-1.308454231752421,-1.3280688318964167,-0.8929328724843799,-1.159788458212006,-1.308454231752421,-1.3280688318964167,-0.8929328724843799,-1.159788458212006,-1.308454231752421,-1.3280688318964167,1.6281286839450786,1.5400566405247673,1.1751778728234967,0.5991316062727492,1.2850552495824559,1.635067569036437,2.035108868937641,2.459568323850931,1.2850552495824559,1.635067569036437,2.035108868937641,2.459568323850931,-2.545692131000237,-3.0378562374412468,-3.694601273587523,-4.4277078859157655,-2.545692131000237,-3.0378562374412468,-3.694601273587523,-4.4277078859157655,-1.8097652269028686,-2.858265256491336,-3.952415270807819,-5.061530481021691,-1.8097652269028686,-2.858265256491336,-3.952415270807819,-5.061530481021691,-1.8097652269028686,-2.858265256491336,-3.952415270807819,-5.061530481021691,-2.7522075502031385,-1.936341028462266,-0.9862335345532074,0.016519275946961898,5.955261911109119,6.147850731796552,6.318186838254178,6.604071062936782,5.955261911109119,6.147850731796552,6.318186838254178,6.604071062936782,5.955261911109119,6.147850731796552,6.318186838254178,6.604071062936782,-4.102578356331037,-4.931472133619991,-5.404288525943002,-5.601094376618107,-5.630925935901246,-1.1533060971693203,-0.6724891576379832,-0.06795129485749385,0.503072503010344,-1.1533060971693203,-0.6724891576379832,-0.06795129485749385,0.503072503010344,-1.1533060971693203,-0.6724891576379832,-0.06795129485749385,0.503072503010344,-1.1533060971693203,-0.6724891576379832,-0.06795129485749385,0.503072503010344,-0.42887833051588586,-0.877355734283924,-1.694213306931033,-2.851485389067193,0.7072521890189591,0.5776521622470909,0.3009542288467628,-0.13151114794641217],\"type\":\"scatter\"},{\"line\":{\"dash\":\"dot\"},\"mode\":\"lines\",\"name\":\"LSTM Predictions\",\"opacity\":0.8,\"y\":[-0.031191706657409668,-0.02363896369934082,0.027567803859710693,0.095173180103302,-0.031191706657409668,-0.02363896369934082,0.027567803859710693,0.095173180103302,-0.031191706657409668,-0.02363896369934082,0.027567803859710693,0.095173180103302,0.1314517855644226,0.11340868473052979,0.08416110277175903,0.03205984830856323,0.1462804079055786,0.04544675350189209,0.021587133407592773,0.08807802200317383,0.1462804079055786,0.04544675350189209,0.021587133407592773,0.08807802200317383,-0.04409688711166382,0.08318585157394409,0.09848272800445557,0.055703818798065186,-0.04409688711166382,0.08318585157394409,0.09848272800445557,0.055703818798065186,0.057504117488861084,0.04892373085021973,0.03894615173339844,-0.043122172355651855,0.057504117488861084,0.04892373085021973,0.03894615173339844,-0.043122172355651855,0.057504117488861084,0.04892373085021973,0.03894615173339844,-0.043122172355651855,-4.891411304473877,-3.777897834777832,-3.1119089126586914,-2.6014866828918457,4.596823692321777,5.103517055511475,5.841755390167236,6.4269843101501465,4.596823692321777,5.103517055511475,5.841755390167236,6.4269843101501465,4.596823692321777,5.103517055511475,5.841755390167236,6.4269843101501465,-0.7563457489013672,-1.552540898323059,-1.9879378080368042,-2.026305675506592,-1.7523990869522095,-1.6452184915542603,-2.016892910003662,-2.3870129585266113,-2.704672336578369,-1.6452184915542603,-2.016892910003662,-2.3870129585266113,-2.704672336578369,-1.6452184915542603,-2.016892910003662,-2.3870129585266113,-2.704672336578369,-1.6452184915542603,-2.016892910003662,-2.3870129585266113,-2.704672336578369,-0.07963836193084717,-0.11644625663757324,-0.12976586818695068,-0.09733891487121582,-0.09257519245147705,-0.058722853660583496,-0.028036534786224365,-0.00889277458190918],\"type\":\"scatter\"}],                        {\"template\":{\"data\":{\"barpolar\":[{\"marker\":{\"line\":{\"color\":\"#E5ECF6\",\"width\":0.5},\"pattern\":{\"fillmode\":\"overlay\",\"size\":10,\"solidity\":0.2}},\"type\":\"barpolar\"}],\"bar\":[{\"error_x\":{\"color\":\"#2a3f5f\"},\"error_y\":{\"color\":\"#2a3f5f\"},\"marker\":{\"line\":{\"color\":\"#E5ECF6\",\"width\":0.5},\"pattern\":{\"fillmode\":\"overlay\",\"size\":10,\"solidity\":0.2}},\"type\":\"bar\"}],\"carpet\":[{\"aaxis\":{\"endlinecolor\":\"#2a3f5f\",\"gridcolor\":\"white\",\"linecolor\":\"white\",\"minorgridcolor\":\"white\",\"startlinecolor\":\"#2a3f5f\"},\"baxis\":{\"endlinecolor\":\"#2a3f5f\",\"gridcolor\":\"white\",\"linecolor\":\"white\",\"minorgridcolor\":\"white\",\"startlinecolor\":\"#2a3f5f\"},\"type\":\"carpet\"}],\"choropleth\":[{\"colorbar\":{\"outlinewidth\":0,\"ticks\":\"\"},\"type\":\"choropleth\"}],\"contourcarpet\":[{\"colorbar\":{\"outlinewidth\":0,\"ticks\":\"\"},\"type\":\"contourcarpet\"}],\"contour\":[{\"colorbar\":{\"outlinewidth\":0,\"ticks\":\"\"},\"colorscale\":[[0.0,\"#0d0887\"],[0.1111111111111111,\"#46039f\"],[0.2222222222222222,\"#7201a8\"],[0.3333333333333333,\"#9c179e\"],[0.4444444444444444,\"#bd3786\"],[0.5555555555555556,\"#d8576b\"],[0.6666666666666666,\"#ed7953\"],[0.7777777777777778,\"#fb9f3a\"],[0.8888888888888888,\"#fdca26\"],[1.0,\"#f0f921\"]],\"type\":\"contour\"}],\"heatmapgl\":[{\"colorbar\":{\"outlinewidth\":0,\"ticks\":\"\"},\"colorscale\":[[0.0,\"#0d0887\"],[0.1111111111111111,\"#46039f\"],[0.2222222222222222,\"#7201a8\"],[0.3333333333333333,\"#9c179e\"],[0.4444444444444444,\"#bd3786\"],[0.5555555555555556,\"#d8576b\"],[0.6666666666666666,\"#ed7953\"],[0.7777777777777778,\"#fb9f3a\"],[0.8888888888888888,\"#fdca26\"],[1.0,\"#f0f921\"]],\"type\":\"heatmapgl\"}],\"heatmap\":[{\"colorbar\":{\"outlinewidth\":0,\"ticks\":\"\"},\"colorscale\":[[0.0,\"#0d0887\"],[0.1111111111111111,\"#46039f\"],[0.2222222222222222,\"#7201a8\"],[0.3333333333333333,\"#9c179e\"],[0.4444444444444444,\"#bd3786\"],[0.5555555555555556,\"#d8576b\"],[0.6666666666666666,\"#ed7953\"],[0.7777777777777778,\"#fb9f3a\"],[0.8888888888888888,\"#fdca26\"],[1.0,\"#f0f921\"]],\"type\":\"heatmap\"}],\"histogram2dcontour\":[{\"colorbar\":{\"outlinewidth\":0,\"ticks\":\"\"},\"colorscale\":[[0.0,\"#0d0887\"],[0.1111111111111111,\"#46039f\"],[0.2222222222222222,\"#7201a8\"],[0.3333333333333333,\"#9c179e\"],[0.4444444444444444,\"#bd3786\"],[0.5555555555555556,\"#d8576b\"],[0.6666666666666666,\"#ed7953\"],[0.7777777777777778,\"#fb9f3a\"],[0.8888888888888888,\"#fdca26\"],[1.0,\"#f0f921\"]],\"type\":\"histogram2dcontour\"}],\"histogram2d\":[{\"colorbar\":{\"outlinewidth\":0,\"ticks\":\"\"},\"colorscale\":[[0.0,\"#0d0887\"],[0.1111111111111111,\"#46039f\"],[0.2222222222222222,\"#7201a8\"],[0.3333333333333333,\"#9c179e\"],[0.4444444444444444,\"#bd3786\"],[0.5555555555555556,\"#d8576b\"],[0.6666666666666666,\"#ed7953\"],[0.7777777777777778,\"#fb9f3a\"],[0.8888888888888888,\"#fdca26\"],[1.0,\"#f0f921\"]],\"type\":\"histogram2d\"}],\"histogram\":[{\"marker\":{\"pattern\":{\"fillmode\":\"overlay\",\"size\":10,\"solidity\":0.2}},\"type\":\"histogram\"}],\"mesh3d\":[{\"colorbar\":{\"outlinewidth\":0,\"ticks\":\"\"},\"type\":\"mesh3d\"}],\"parcoords\":[{\"line\":{\"colorbar\":{\"outlinewidth\":0,\"ticks\":\"\"}},\"type\":\"parcoords\"}],\"pie\":[{\"automargin\":true,\"type\":\"pie\"}],\"scatter3d\":[{\"line\":{\"colorbar\":{\"outlinewidth\":0,\"ticks\":\"\"}},\"marker\":{\"colorbar\":{\"outlinewidth\":0,\"ticks\":\"\"}},\"type\":\"scatter3d\"}],\"scattercarpet\":[{\"marker\":{\"colorbar\":{\"outlinewidth\":0,\"ticks\":\"\"}},\"type\":\"scattercarpet\"}],\"scattergeo\":[{\"marker\":{\"colorbar\":{\"outlinewidth\":0,\"ticks\":\"\"}},\"type\":\"scattergeo\"}],\"scattergl\":[{\"marker\":{\"colorbar\":{\"outlinewidth\":0,\"ticks\":\"\"}},\"type\":\"scattergl\"}],\"scattermapbox\":[{\"marker\":{\"colorbar\":{\"outlinewidth\":0,\"ticks\":\"\"}},\"type\":\"scattermapbox\"}],\"scatterpolargl\":[{\"marker\":{\"colorbar\":{\"outlinewidth\":0,\"ticks\":\"\"}},\"type\":\"scatterpolargl\"}],\"scatterpolar\":[{\"marker\":{\"colorbar\":{\"outlinewidth\":0,\"ticks\":\"\"}},\"type\":\"scatterpolar\"}],\"scatter\":[{\"fillpattern\":{\"fillmode\":\"overlay\",\"size\":10,\"solidity\":0.2},\"type\":\"scatter\"}],\"scatterternary\":[{\"marker\":{\"colorbar\":{\"outlinewidth\":0,\"ticks\":\"\"}},\"type\":\"scatterternary\"}],\"surface\":[{\"colorbar\":{\"outlinewidth\":0,\"ticks\":\"\"},\"colorscale\":[[0.0,\"#0d0887\"],[0.1111111111111111,\"#46039f\"],[0.2222222222222222,\"#7201a8\"],[0.3333333333333333,\"#9c179e\"],[0.4444444444444444,\"#bd3786\"],[0.5555555555555556,\"#d8576b\"],[0.6666666666666666,\"#ed7953\"],[0.7777777777777778,\"#fb9f3a\"],[0.8888888888888888,\"#fdca26\"],[1.0,\"#f0f921\"]],\"type\":\"surface\"}],\"table\":[{\"cells\":{\"fill\":{\"color\":\"#EBF0F8\"},\"line\":{\"color\":\"white\"}},\"header\":{\"fill\":{\"color\":\"#C8D4E3\"},\"line\":{\"color\":\"white\"}},\"type\":\"table\"}]},\"layout\":{\"annotationdefaults\":{\"arrowcolor\":\"#2a3f5f\",\"arrowhead\":0,\"arrowwidth\":1},\"autotypenumbers\":\"strict\",\"coloraxis\":{\"colorbar\":{\"outlinewidth\":0,\"ticks\":\"\"}},\"colorscale\":{\"diverging\":[[0,\"#8e0152\"],[0.1,\"#c51b7d\"],[0.2,\"#de77ae\"],[0.3,\"#f1b6da\"],[0.4,\"#fde0ef\"],[0.5,\"#f7f7f7\"],[0.6,\"#e6f5d0\"],[0.7,\"#b8e186\"],[0.8,\"#7fbc41\"],[0.9,\"#4d9221\"],[1,\"#276419\"]],\"sequential\":[[0.0,\"#0d0887\"],[0.1111111111111111,\"#46039f\"],[0.2222222222222222,\"#7201a8\"],[0.3333333333333333,\"#9c179e\"],[0.4444444444444444,\"#bd3786\"],[0.5555555555555556,\"#d8576b\"],[0.6666666666666666,\"#ed7953\"],[0.7777777777777778,\"#fb9f3a\"],[0.8888888888888888,\"#fdca26\"],[1.0,\"#f0f921\"]],\"sequentialminus\":[[0.0,\"#0d0887\"],[0.1111111111111111,\"#46039f\"],[0.2222222222222222,\"#7201a8\"],[0.3333333333333333,\"#9c179e\"],[0.4444444444444444,\"#bd3786\"],[0.5555555555555556,\"#d8576b\"],[0.6666666666666666,\"#ed7953\"],[0.7777777777777778,\"#fb9f3a\"],[0.8888888888888888,\"#fdca26\"],[1.0,\"#f0f921\"]]},\"colorway\":[\"#636efa\",\"#EF553B\",\"#00cc96\",\"#ab63fa\",\"#FFA15A\",\"#19d3f3\",\"#FF6692\",\"#B6E880\",\"#FF97FF\",\"#FECB52\"],\"font\":{\"color\":\"#2a3f5f\"},\"geo\":{\"bgcolor\":\"white\",\"lakecolor\":\"white\",\"landcolor\":\"#E5ECF6\",\"showlakes\":true,\"showland\":true,\"subunitcolor\":\"white\"},\"hoverlabel\":{\"align\":\"left\"},\"hovermode\":\"closest\",\"mapbox\":{\"style\":\"light\"},\"paper_bgcolor\":\"white\",\"plot_bgcolor\":\"#E5ECF6\",\"polar\":{\"angularaxis\":{\"gridcolor\":\"white\",\"linecolor\":\"white\",\"ticks\":\"\"},\"bgcolor\":\"#E5ECF6\",\"radialaxis\":{\"gridcolor\":\"white\",\"linecolor\":\"white\",\"ticks\":\"\"}},\"scene\":{\"xaxis\":{\"backgroundcolor\":\"#E5ECF6\",\"gridcolor\":\"white\",\"gridwidth\":2,\"linecolor\":\"white\",\"showbackground\":true,\"ticks\":\"\",\"zerolinecolor\":\"white\"},\"yaxis\":{\"backgroundcolor\":\"#E5ECF6\",\"gridcolor\":\"white\",\"gridwidth\":2,\"linecolor\":\"white\",\"showbackground\":true,\"ticks\":\"\",\"zerolinecolor\":\"white\"},\"zaxis\":{\"backgroundcolor\":\"#E5ECF6\",\"gridcolor\":\"white\",\"gridwidth\":2,\"linecolor\":\"white\",\"showbackground\":true,\"ticks\":\"\",\"zerolinecolor\":\"white\"}},\"shapedefaults\":{\"line\":{\"color\":\"#2a3f5f\"}},\"ternary\":{\"aaxis\":{\"gridcolor\":\"white\",\"linecolor\":\"white\",\"ticks\":\"\"},\"baxis\":{\"gridcolor\":\"white\",\"linecolor\":\"white\",\"ticks\":\"\"},\"bgcolor\":\"#E5ECF6\",\"caxis\":{\"gridcolor\":\"white\",\"linecolor\":\"white\",\"ticks\":\"\"}},\"title\":{\"x\":0.05},\"xaxis\":{\"automargin\":true,\"gridcolor\":\"white\",\"linecolor\":\"white\",\"ticks\":\"\",\"title\":{\"standoff\":15},\"zerolinecolor\":\"white\",\"zerolinewidth\":2},\"yaxis\":{\"automargin\":true,\"gridcolor\":\"white\",\"linecolor\":\"white\",\"ticks\":\"\",\"title\":{\"standoff\":15},\"zerolinecolor\":\"white\",\"zerolinewidth\":2}}},\"title\":{\"text\":\"Predictions vs Actual Values for the dataset\"},\"xaxis\":{\"ticklen\":5,\"title\":{\"text\":\"Time\"},\"zeroline\":false},\"yaxis\":{\"ticklen\":5,\"title\":{\"text\":\"Right Knee Motor Velocity\"},\"zeroline\":false}},                        {\"responsive\": true}                    ).then(function(){\n                            \nvar gd = document.getElementById('007c8776-c378-4421-822c-845ccb1afc03');\nvar x = new MutationObserver(function (mutations, observer) {{\n        var display = window.getComputedStyle(gd).display;\n        if (!display || display === 'none') {{\n            console.log([gd, 'removed!']);\n            Plotly.purge(gd);\n            observer.disconnect();\n        }}\n}});\n\n// Listen for the removal of the full notebook cells\nvar notebookContainer = gd.closest('#notebook-container');\nif (notebookContainer) {{\n    x.observe(notebookContainer, {childList: true});\n}}\n\n// Listen for the clearing of the current output cell\nvar outputEl = gd.closest('.output');\nif (outputEl) {{\n    x.observe(outputEl, {childList: true});\n}}\n\n                        })                };                });            </script>        </div>"
     },
     "metadata": {},
     "output_type": "display_data"
    }
   ],
   "source": [
    "data = []\n",
    "\n",
    "value = go.Scatter(\n",
    "    y=y_1,\n",
    "    #y=df_result.value,\n",
    "    mode=\"lines\",\n",
    "    name=\"values\",\n",
    "    marker=dict(),\n",
    "   # text=df_result.index,\n",
    "    line=dict(color=\"rgba(0,0,0, 0.3)\"),\n",
    ")\n",
    "data.append(value)\n",
    "\n",
    "baseline = go.Scatter(\n",
    "    y=b_1,\n",
    "   # y=df_baseline.prediction,\n",
    "    mode=\"lines\",\n",
    "    line={\"dash\": \"dot\"},\n",
    "    name='Linear Regression Predictions',\n",
    "    marker=dict(),\n",
    "    #text=df_baseline.index,\n",
    "    opacity=0.8,\n",
    ")\n",
    "data.append(baseline)\n",
    "\n",
    "prediction = go.Scatter(\n",
    "     y=p_1,\n",
    "     mode=\"lines\",\n",
    "     line={\"dash\": \"dot\"},\n",
    "     name='LSTM Predictions',\n",
    "     marker=dict(),\n",
    "     #text=df_result.index,\n",
    "     opacity=0.8,\n",
    "     )\n",
    "data.append(prediction)\n",
    "layout = dict(\n",
    "    title=\"Predictions vs Actual Values for the dataset\",\n",
    "    xaxis=dict(title=\"Time\", ticklen=5, zeroline=False),\n",
    "    yaxis=dict(title=\"Right Knee Motor Velocity\", ticklen=5, zeroline=False),\n",
    ")\n",
    "\n",
    "fig = dict(data=data, layout=layout)\n",
    "pyo.iplot(fig)"
   ],
   "metadata": {
    "collapsed": false
   }
  },
  {
   "cell_type": "code",
   "execution_count": 349,
   "outputs": [
    {
     "data": {
      "text/plain": "[-0.26055479735860115,\n -0.25048955747071655,\n -0.19114718577526216,\n -0.1440775034390125,\n -0.26055479735860115,\n -0.25048955747071655,\n -0.19114718577526216,\n -0.1440775034390125,\n -0.26055479735860115,\n -0.25048955747071655,\n -0.19114718577526216,\n -0.1440775034390125,\n -0.49727273364068203,\n -0.6622887640791392,\n -0.7503221406476543,\n -0.7764009379021695,\n 0.13432827154237179,\n -0.036715170882026894,\n -0.15949266507095677,\n -0.206270030848638,\n 0.13432827154237179,\n -0.036715170882026894,\n -0.15949266507095677,\n -0.206270030848638,\n 0.038144679704148726,\n 0.2132372658109778,\n 0.1953334991729834,\n 0.06391230599109501,\n 0.038144679704148726,\n 0.2132372658109778,\n 0.1953334991729834,\n 0.06391230599109501,\n 0.02921824077989078,\n -0.12523543885434188,\n -0.36821154734291883,\n -0.6704676851186981,\n 0.02921824077989078,\n -0.12523543885434188,\n -0.36821154734291883,\n -0.6704676851186981,\n 0.02921824077989078,\n -0.12523543885434188,\n -0.36821154734291883,\n -0.6704676851186981,\n -5.07121477154731,\n -3.71848462226673,\n -2.0266016375545957,\n -0.25982520995756003,\n 4.147509613085527,\n 3.7971124255076503,\n 3.5062753663129658,\n 3.3304240485194376,\n 4.147509613085527,\n 3.7971124255076503,\n 3.5062753663129658,\n 3.3304240485194376,\n 4.147509613085527,\n 3.7971124255076503,\n 3.5062753663129658,\n 3.3304240485194376,\n -0.5179582565095469,\n -0.946589352339389,\n -1.081577861642847,\n -0.9903869921315126,\n -0.7541312299186069,\n -1.5455564647247566,\n -1.6655484202354094,\n -1.7830334558455443,\n -1.9898199396454108,\n -1.5455564647247566,\n -1.6655484202354094,\n -1.7830334558455443,\n -1.9898199396454108,\n -1.5455564647247566,\n -1.6655484202354094,\n -1.7830334558455443,\n -1.9898199396454108,\n -1.5455564647247566,\n -1.6655484202354094,\n -1.7830334558455443,\n -1.9898199396454108,\n -0.08289944721718522,\n -0.10212853135059384,\n -0.10324259042207577,\n -0.08829996598012961,\n -0.057850550891597394,\n -0.05473957445585432,\n -0.06082664834839095,\n -0.06691569611685909]"
     },
     "execution_count": 349,
     "metadata": {},
     "output_type": "execute_result"
    }
   ],
   "source": [
    "type(y_1)\n",
    "list(y_1)"
   ],
   "metadata": {
    "collapsed": false
   }
  },
  {
   "cell_type": "code",
   "execution_count": 354,
   "outputs": [
    {
     "ename": "Error",
     "evalue": "iterable expected, not numpy.float64",
     "output_type": "error",
     "traceback": [
      "\u001B[0;31m---------------------------------------------------------------------------\u001B[0m",
      "\u001B[0;31mError\u001B[0m                                     Traceback (most recent call last)",
      "\u001B[0;32m/tmp/ipykernel_24622/3371603814.py\u001B[0m in \u001B[0;36m<module>\u001B[0;34m\u001B[0m\n\u001B[1;32m      7\u001B[0m     \u001B[0mwrite\u001B[0m\u001B[0;34m.\u001B[0m\u001B[0mwriterow\u001B[0m\u001B[0;34m(\u001B[0m\u001B[0mdata_header\u001B[0m\u001B[0;34m)\u001B[0m\u001B[0;34m\u001B[0m\u001B[0;34m\u001B[0m\u001B[0m\n\u001B[1;32m      8\u001B[0m     \u001B[0ma\u001B[0m \u001B[0;34m=\u001B[0m \u001B[0mlist\u001B[0m\u001B[0;34m(\u001B[0m\u001B[0my_1\u001B[0m\u001B[0;34m)\u001B[0m\u001B[0;34m\u001B[0m\u001B[0;34m\u001B[0m\u001B[0m\n\u001B[0;32m----> 9\u001B[0;31m     \u001B[0mwrite\u001B[0m\u001B[0;34m.\u001B[0m\u001B[0mwriterows\u001B[0m\u001B[0;34m(\u001B[0m\u001B[0ma\u001B[0m\u001B[0;34m)\u001B[0m\u001B[0;34m\u001B[0m\u001B[0;34m\u001B[0m\u001B[0m\n\u001B[0m",
      "\u001B[0;31mError\u001B[0m: iterable expected, not numpy.float64"
     ]
    }
   ],
   "source": [
    "data_header = ['values']\n",
    "\n",
    "import csv\n",
    "\n",
    "with open('velocity_values.csv', 'w') as f:\n",
    "    write = csv.writer(f)\n",
    "    write.writerow(data_header)\n",
    "    a = list(y_1)\n",
    "    write.writerows(a)"
   ],
   "metadata": {
    "collapsed": false
   }
  },
  {
   "cell_type": "code",
   "execution_count": null,
   "outputs": [],
   "source": [
    "data_header = ['Linear Regression Predictions','LSTM Predictions']\n",
    "\n",
    "import csv\n",
    "\n",
    "with open('velocity_lr.csv', 'w') as f:\n",
    "    write = csv.writer(f)\n",
    "    write.writerow(data_header)\n",
    "    write.writerows(list(b_1))"
   ],
   "metadata": {
    "collapsed": false
   }
  },
  {
   "cell_type": "code",
   "execution_count": 337,
   "outputs": [
    {
     "data": {
      "text/plain": "Scatter({\n    'line': {'color': 'rgba(0,0,0, 0.3)'},\n    'mode': 'lines',\n    'name': 'values',\n    'y': [-0.26055479735860115, -0.25048955747071655, -0.19114718577526216,\n          -0.1440775034390125, -0.26055479735860115, -0.25048955747071655,\n          -0.19114718577526216, -0.1440775034390125, -0.26055479735860115,\n          -0.25048955747071655, -0.19114718577526216, -0.1440775034390125,\n          -0.49727273364068203, -0.6622887640791392, -0.7503221406476543,\n          -0.7764009379021695, 0.13432827154237179, -0.036715170882026894,\n          -0.15949266507095677, -0.206270030848638, 0.13432827154237179,\n          -0.036715170882026894, -0.15949266507095677, -0.206270030848638,\n          0.038144679704148726, 0.2132372658109778, 0.1953334991729834,\n          0.06391230599109501, 0.038144679704148726, 0.2132372658109778,\n          0.1953334991729834, 0.06391230599109501, 0.02921824077989078,\n          -0.12523543885434188, -0.36821154734291883, -0.6704676851186981,\n          0.02921824077989078, -0.12523543885434188, -0.36821154734291883,\n          -0.6704676851186981, 0.02921824077989078, -0.12523543885434188,\n          -0.36821154734291883, -0.6704676851186981, -5.07121477154731,\n          -3.71848462226673, -2.0266016375545957, -0.25982520995756003,\n          4.147509613085527, 3.7971124255076503, 3.5062753663129658,\n          3.3304240485194376, 4.147509613085527, 3.7971124255076503,\n          3.5062753663129658, 3.3304240485194376, 4.147509613085527,\n          3.7971124255076503, 3.5062753663129658, 3.3304240485194376,\n          -0.5179582565095469, -0.946589352339389, -1.081577861642847,\n          -0.9903869921315126, -0.7541312299186069, -1.5455564647247566,\n          -1.6655484202354094, -1.7830334558455443, -1.9898199396454108,\n          -1.5455564647247566, -1.6655484202354094, -1.7830334558455443,\n          -1.9898199396454108, -1.5455564647247566, -1.6655484202354094,\n          -1.7830334558455443, -1.9898199396454108, -1.5455564647247566,\n          -1.6655484202354094, -1.7830334558455443, -1.9898199396454108,\n          -0.08289944721718522, -0.10212853135059384, -0.10324259042207577,\n          -0.08829996598012961, -0.057850550891597394, -0.05473957445585432,\n          -0.06082664834839095, -0.06691569611685909]\n})"
     },
     "execution_count": 337,
     "metadata": {},
     "output_type": "execute_result"
    }
   ],
   "source": [
    "data_header = ['LSTM Predictions']\n",
    "\n",
    "import csv\n",
    "\n",
    "with open('velocity_lstm.csv', 'w') as f:\n",
    "    write = csv.writer(f)\n",
    "    write.writerow(data_header)\n",
    "    write.writerows(list(p_1))"
   ],
   "metadata": {
    "collapsed": false
   }
  },
  {
   "cell_type": "code",
   "execution_count": null,
   "outputs": [],
   "source": [
    "x_val_all_std = []\n",
    "for i in x_val_all:\n",
    "    temp = scalar.transform(i)\n",
    "    x_val_all_std.append(temp)"
   ],
   "metadata": {
    "collapsed": false
   }
  },
  {
   "cell_type": "code",
   "execution_count": null,
   "outputs": [],
   "source": [
    "from torch import nn"
   ],
   "metadata": {
    "collapsed": false
   }
  },
  {
   "cell_type": "code",
   "execution_count": null,
   "outputs": [],
   "source": [
    "seq_model = nn.Sequential(\n",
    "    nn.Linear(1, 13),\n",
    "    nn.Tanh(),\n",
    "    nn.Linear(13, 1))\n",
    "seq_model"
   ],
   "metadata": {
    "collapsed": false
   }
  },
  {
   "cell_type": "code",
   "execution_count": null,
   "outputs": [],
   "source": [
    "def training_loop(n_epochs, optimiser, model, loss_fn, X_train,  X_val, y_train, y_val):\n",
    "    for epoch in range(1, n_epochs + 1):\n",
    "        output_train = model(X_train) # forwards pass\n",
    "        loss_train = loss_fn(output_train, y_train) # calculate loss\n",
    "        output_val = model(X_val)\n",
    "        loss_val = loss_fn(output_val, y_val)\n",
    "\n",
    "        optimiser.zero_grad() # set gradients to zero\n",
    "        loss_train.backward() # backwards pass\n",
    "        optimiser.step() # update model parameters\n",
    "        if epoch == 1 or epoch % 10000 == 0:\n",
    "            print(f\"Epoch {epoch}, Training loss {loss_train.item():.4f},\"\n",
    "                  f\" Validation loss {loss_val.item():.4f}\")"
   ],
   "metadata": {
    "collapsed": false
   }
  },
  {
   "cell_type": "code",
   "execution_count": null,
   "outputs": [],
   "source": [
    "optimiser = torch.optim.SGD(seq_model.parameters(), lr=1e-3)\n",
    "training_loop(\n",
    "    n_epochs = 200,\n",
    "    optimiser = optimiser,\n",
    "    model = seq_model,\n",
    "    loss_fn = nn.MSELoss(),\n",
    "    X_train = x_train_all_std,\n",
    "    X_val = x_val_all_std,\n",
    "    y_train = y_train_all,\n",
    "    y_val = y_val_all)"
   ],
   "metadata": {
    "collapsed": false
   }
  },
  {
   "cell_type": "code",
   "execution_count": null,
   "outputs": [],
   "source": [],
   "metadata": {
    "collapsed": false
   }
  },
  {
   "cell_type": "code",
   "execution_count": null,
   "outputs": [],
   "source": [],
   "metadata": {
    "collapsed": false
   }
  },
  {
   "cell_type": "code",
   "execution_count": null,
   "outputs": [],
   "source": [],
   "metadata": {
    "collapsed": false
   }
  },
  {
   "cell_type": "code",
   "execution_count": null,
   "outputs": [],
   "source": [],
   "metadata": {
    "collapsed": false
   }
  },
  {
   "cell_type": "code",
   "execution_count": null,
   "outputs": [],
   "source": [],
   "metadata": {
    "collapsed": false
   }
  },
  {
   "cell_type": "code",
   "execution_count": null,
   "outputs": [],
   "source": [],
   "metadata": {
    "collapsed": false
   }
  },
  {
   "cell_type": "markdown",
   "source": [
    "Here is the evolution of a few features over time:"
   ],
   "metadata": {
    "collapsed": false
   }
  },
  {
   "cell_type": "markdown",
   "source": [
    "### Inspect and cleanup"
   ],
   "metadata": {
    "collapsed": false
   }
  },
  {
   "cell_type": "markdown",
   "source": [
    "Next, look at the statistics of the dataset:"
   ],
   "metadata": {
    "collapsed": false
   }
  },
  {
   "cell_type": "markdown",
   "source": [
    "### Normalize the data\n",
    "\n",
    "It is important to scale features before training a neural network. Normalization is a common way of doing this scaling: subtract the mean and divide by the standard deviation of each feature."
   ],
   "metadata": {
    "collapsed": false
   }
  },
  {
   "cell_type": "code",
   "execution_count": null,
   "outputs": [],
   "source": [
    "train_data = tf.data.Dataset.from_tensor_slices((x_train_all_std, y_train_all))\n",
    "val_data = tf.data.Dataset.from_tensor_slices((x_val_all_std, y_val_all))"
   ],
   "metadata": {
    "collapsed": false
   }
  },
  {
   "cell_type": "code",
   "execution_count": null,
   "outputs": [],
   "source": [
    "train_data"
   ],
   "metadata": {
    "collapsed": false
   }
  },
  {
   "cell_type": "code",
   "execution_count": null,
   "outputs": [],
   "source": [
    "for image_batch, label_batch in train_data.take(1):\n",
    "   pass\n",
    "\n"
   ],
   "metadata": {
    "collapsed": false
   }
  },
  {
   "cell_type": "code",
   "execution_count": null,
   "outputs": [],
   "source": [
    "print(image_batch.shape, label_batch.shape)"
   ],
   "metadata": {
    "collapsed": false
   }
  },
  {
   "cell_type": "code",
   "execution_count": null,
   "outputs": [],
   "source": [
    "train_data = train_data.shuffle(24).batch(32)\n",
    "val_data = val_data.shuffle(24).batch(16)"
   ],
   "metadata": {
    "collapsed": false
   }
  },
  {
   "cell_type": "markdown",
   "source": [
    "## BUILD MODELS AND EVALUATE THEM\n",
    "### Linear model\n",
    "\n",
    "\n",
    "A `tf.keras.layers.Dense` layer with no `activation` set is a linear model. The layer only transforms the last axis of the data from `(batch, time, inputs)` to `(batch, time, units)`; it is applied independently to every item across the `batch` and `time` axes."
   ],
   "metadata": {
    "collapsed": false
   }
  },
  {
   "cell_type": "code",
   "execution_count": null,
   "outputs": [],
   "source": [
    "MAX_EPOCHS = 20\n",
    "\n",
    "def compile_and_fit(model, train_data, val_data, patience=2):\n",
    "  early_stopping = tf.keras.callbacks.EarlyStopping(monitor='val_loss',\n",
    "                                                    patience=patience,\n",
    "                                                    mode='min')\n",
    "\n",
    "  model.compile(loss=tf.keras.losses.MeanSquaredError(),\n",
    "                optimizer=tf.keras.optimizers.Adam(),\n",
    "                metrics=[tf.keras.metrics.MeanAbsoluteError()])\n",
    "\n",
    "  history = model.fit(train_data, epochs=MAX_EPOCHS, batch_size=16,\n",
    "                      validation_data=val_data, shuffle=True,\n",
    "                      callbacks=[early_stopping])\n",
    "  return history"
   ],
   "metadata": {
    "collapsed": false
   }
  },
  {
   "cell_type": "code",
   "execution_count": null,
   "outputs": [],
   "source": [
    "# multi output\n",
    "linear_multi = tf.keras.Sequential([\n",
    "    tf.keras.layers.Dense(units=4)])\n"
   ],
   "metadata": {
    "collapsed": false
   }
  },
  {
   "cell_type": "code",
   "execution_count": null,
   "outputs": [],
   "source": [
    "history = compile_and_fit(linear_multi, train_data, val_data)\n",
    "#performance['Linear'] = linear.evaluate(single_step_window.test, verbose=0)"
   ],
   "metadata": {
    "collapsed": false
   }
  },
  {
   "cell_type": "code",
   "execution_count": null,
   "outputs": [],
   "source": [
    "val_performance = {}\n",
    "val_performance['Linear'] = linear_multi.evaluate(val_data)"
   ],
   "metadata": {
    "collapsed": false
   }
  },
  {
   "cell_type": "code",
   "execution_count": null,
   "outputs": [],
   "source": [
    "plt.bar(x = range(len(train_data.columns)),\n",
    "        height=linear_multi.layers[0].kernel[:,0].numpy())\n",
    "axis = plt.gca()\n",
    "axis.set_xticks(range(len(train_data.columns)))\n",
    "_ = axis.set_xticklabels(train_data.columns, rotation=90)"
   ],
   "metadata": {
    "collapsed": false
   }
  },
  {
   "cell_type": "markdown",
   "source": [
    "### Dense\n",
    "\n",
    "Before applying models that actually operate on multiple time-steps, it's worth checking the performance of deeper, more powerful, single input step models.\n",
    "\n",
    "Here's a model similar to the `linear` model, except it stacks several a few `Dense` layers between the input and the output:"
   ],
   "metadata": {
    "collapsed": false
   }
  },
  {
   "cell_type": "code",
   "execution_count": null,
   "outputs": [],
   "source": [
    "# MULTI OUTPUT\n",
    "dense = tf.keras.Sequential([\n",
    "    tf.keras.layers.Dense(units=40, activation='relu'),\n",
    "    tf.keras.layers.Dense(units=4)\n",
    "])\n",
    "\n",
    "history = compile_and_fit(dense, train_data, val_data)\n",
    "\n",
    "val_performance['Dense'] = dense.evaluate(val_data)"
   ],
   "metadata": {
    "collapsed": false
   }
  },
  {
   "cell_type": "markdown",
   "source": [
    "### Multi-step dense\n",
    "\n",
    "A single-time-step model has no context for the current values of its inputs. It can't see how the input features are changing over time. To address this issue the model needs access to multiple time steps when making predictions:\n",
    "\n",
    "![Three time steps are used for each prediction.](https://github.com/tensorflow/docs/blob/master/site/en/tutorials/structured_data/images/conv_window.png?raw=1)\n"
   ],
   "metadata": {
    "collapsed": false
   }
  },
  {
   "cell_type": "markdown",
   "source": [
    "You could train a `dense` model on a multiple-input-step window by adding a `tf.keras.layers.Flatten` as the first layer of the model:"
   ],
   "metadata": {
    "collapsed": false
   }
  },
  {
   "cell_type": "code",
   "execution_count": null,
   "outputs": [],
   "source": [
    "multi_step_dense_multioutput = tf.keras.Sequential([\n",
    "    # Shape: (time, features) => (time*features)\n",
    "    tf.keras.layers.Flatten(),\n",
    "    tf.keras.layers.Dense(units=40, activation='relu'),\n",
    "    tf.keras.layers.Dense(units=4),\n",
    "    # Add back the time dimension.\n",
    "    # Shape: (outputs) => (1, outputs)\n",
    "    tf.keras.layers.Reshape([1, -1]),\n",
    "])"
   ],
   "metadata": {
    "collapsed": false
   }
  },
  {
   "cell_type": "code",
   "execution_count": null,
   "outputs": [],
   "source": [
    "history = compile_and_fit(multi_step_dense_multioutput, train_data,val_data)\n",
    "\n",
    "IPython.display.clear_output()\n",
    "val_performance['Multi step dense'] = multi_step_dense_multioutput.evaluate(val_data)"
   ],
   "metadata": {
    "collapsed": false
   }
  },
  {
   "cell_type": "markdown",
   "source": [
    "The main down-side of this approach is that the resulting model can only be executed on input windows of exactly this shape."
   ],
   "metadata": {
    "collapsed": false
   }
  },
  {
   "cell_type": "markdown",
   "source": [
    "### Convolution neural network\n",
    "\n",
    "A convolution layer (`tf.keras.layers.Conv1D`) also takes multiple time steps as input to each prediction."
   ],
   "metadata": {
    "collapsed": false
   }
  },
  {
   "cell_type": "markdown",
   "source": [
    "Below is the **same** model as `multi_step_dense`, re-written with a convolution.\n",
    "\n",
    "Note the changes:\n",
    "* The `tf.keras.layers.Flatten` and the first `tf.keras.layers.Dense` are replaced by a `tf.keras.layers.Conv1D`.\n",
    "* The `tf.keras.layers.Reshape` is no longer necessary since the convolution keeps the time axis in its output."
   ],
   "metadata": {
    "collapsed": false
   }
  },
  {
   "cell_type": "code",
   "execution_count": null,
   "outputs": [],
   "source": [
    "CONV_WIDTH = 8\n",
    "conv_model_multi = tf.keras.Sequential([\n",
    "    tf.keras.layers.Conv1D(filters=32,\n",
    "                           kernel_size=(CONV_WIDTH,),\n",
    "                           activation='relu'),\n",
    "    tf.keras.layers.Dense(units=16, activation='relu'),\n",
    "    tf.keras.layers.Dense(units=4),\n",
    "])"
   ],
   "metadata": {
    "collapsed": false
   }
  },
  {
   "cell_type": "markdown",
   "source": [
    "Run it on an example batch to check that the model produces outputs with the expected shape:"
   ],
   "metadata": {
    "collapsed": false
   }
  },
  {
   "cell_type": "code",
   "execution_count": null,
   "outputs": [],
   "source": [
    "history = compile_and_fit(conv_model_multi, train_data,val_data)\n",
    "\n",
    "IPython.display.clear_output()\n",
    "val_performance['Conv'] = conv_model_multi.evaluate(val_data)"
   ],
   "metadata": {
    "collapsed": false
   }
  },
  {
   "cell_type": "markdown",
   "source": [
    "The difference between this `conv_model` and the `multi_step_dense` model is that the `conv_model` can be run on inputs of any length. The convolutional layer is applied to a sliding window of inputs:\n",
    "\n",
    "![Executing a convolutional model on a sequence](https://github.com/tensorflow/docs/blob/master/site/en/tutorials/structured_data/images/wide_conv_window.png?raw=1)\n",
    "\n",
    "If you run it on wider input, it produces wider output:"
   ],
   "metadata": {
    "collapsed": false
   }
  },
  {
   "cell_type": "markdown",
   "source": [
    "Note that the output is shorter than the input. To make training or plotting work, you need the labels, and prediction to have the same length. So build a `WindowGenerator` to produce wide windows with a few extra input time steps so the label and prediction lengths match:"
   ],
   "metadata": {
    "collapsed": false
   }
  },
  {
   "cell_type": "markdown",
   "source": [
    "### Recurrent neural network\n",
    "\n",
    "A Recurrent Neural Network (RNN) is a type of neural network well-suited to time series data. RNNs process a time series step-by-step, maintaining an internal state from time-step to time-step.\n",
    "\n",
    "You can learn more in the [Text generation with an RNN](https://www.tensorflow.org/text/tutorials/text_generation) tutorial and the [Recurrent Neural Networks (RNN) with Keras](https://www.tensorflow.org/guide/keras/rnn) guide.\n",
    "\n",
    "In this tutorial, you will use an RNN layer called Long Short-Term Memory (`tf.keras.layers.LSTM`)."
   ],
   "metadata": {
    "collapsed": false
   }
  },
  {
   "cell_type": "markdown",
   "source": [
    "An important constructor argument for all Keras RNN layers, such as `tf.keras.layers.LSTM`, is the `return_sequences` argument. This setting can configure the layer in one of two ways:\n",
    "\n",
    "1. If `False`, the default, the layer only returns the output of the final time step, giving the model time to warm up its internal state before making a single prediction:\n",
    "\n",
    "![An LSTM warming up and making a single prediction](https://github.com/tensorflow/docs/blob/master/site/en/tutorials/structured_data/images/lstm_1_window.png?raw=1)\n",
    "\n",
    "2. If `True`, the layer returns an output for each input. This is useful for:\n",
    "  * Stacking RNN layers.\n",
    "  * Training a model on multiple time steps simultaneously.\n",
    "\n",
    "![An LSTM making a prediction after every time step](https://github.com/tensorflow/docs/blob/master/site/en/tutorials/structured_data/images/lstm_many_window.png?raw=1)"
   ],
   "metadata": {
    "collapsed": false
   }
  },
  {
   "cell_type": "code",
   "execution_count": null,
   "outputs": [],
   "source": [
    "lstm_model_multi = tf.keras.models.Sequential([\n",
    "    # Shape [batch, time, features] => [batch, time, lstm_units]\n",
    "    tf.keras.layers.LSTM(32, return_sequences=True),\n",
    "    # Shape => [batch, time, features]\n",
    "    tf.keras.layers.Dense(units=4)\n",
    "])"
   ],
   "metadata": {
    "collapsed": false
   }
  },
  {
   "cell_type": "markdown",
   "source": [
    "With `return_sequences=True`, the model can be trained on 24 hours of data at a time.\n",
    "\n",
    "Note: This will give a pessimistic view of the model's performance. On the first time step, the model has no access to previous steps and, therefore, can't do any better than the simple `linear` and `dense` models shown earlier."
   ],
   "metadata": {
    "collapsed": false
   }
  },
  {
   "cell_type": "code",
   "execution_count": null,
   "outputs": [],
   "source": [
    "history = compile_and_fit(lstm_model_multi, train_data,val_data)\n",
    "\n",
    "IPython.display.clear_output()\n",
    "val_performance['LSTM'] = lstm_model_multi.evaluate(val_data)\n",
    "#performance['LSTM'] = lstm_model.evaluate(wide_window.test, verbose=0)"
   ],
   "metadata": {
    "collapsed": false
   }
  },
  {
   "cell_type": "markdown",
   "source": [
    "### Performance"
   ],
   "metadata": {
    "collapsed": false
   }
  },
  {
   "cell_type": "markdown",
   "source": [
    "With this dataset typically each of the models does slightly better than the one before it:"
   ],
   "metadata": {
    "collapsed": false
   }
  },
  {
   "cell_type": "code",
   "execution_count": null,
   "outputs": [],
   "source": [
    "x = np.arange(len(val_performance))\n",
    "width = 0.5\n",
    "metric_name = 'mean_absolute_error'\n",
    "metric_index = lstm_model_multi.metrics_names.index('mean_absolute_error')\n",
    "val_mae = [v[metric_index] for v in val_performance.values()]\n",
    "#test_mae = [v[metric_index] for v in performance.values()]\n",
    "\n",
    "plt.ylabel('mean_absolute_error position_1, normalized]')\n",
    "plt.bar(x - 0.17, val_mae, width, label='Validation')\n",
    "#plt.bar(x + 0.17, test_mae, width, label='Test')\n",
    "plt.xticks(ticks=x, labels=val_performance.keys(), rotation=45)\n",
    "_ = plt.legend()"
   ],
   "metadata": {
    "collapsed": false
   }
  },
  {
   "cell_type": "code",
   "execution_count": null,
   "outputs": [],
   "source": [
    "for name, value in val_performance.items():\n",
    "  print(f'{name:12s}: {value[1]:0.4f}')"
   ],
   "metadata": {
    "collapsed": false
   }
  },
  {
   "cell_type": "markdown",
   "source": [
    "### Multi-output models\n",
    "\n",
    "The models so far all predicted a single output feature, `T (degC)`, for a single time step.\n",
    "\n",
    "All of these models can be converted to predict multiple features just by changing the number of units in the output layer and adjusting the training windows to include all features in the `labels` (`example_labels`):"
   ],
   "metadata": {
    "collapsed": false
   }
  },
  {
   "cell_type": "code",
   "execution_count": null,
   "outputs": [],
   "source": [
    "single_step_window = WindowGenerator(\n",
    "    # `WindowGenerator` returns all features as labels if you\n",
    "    # don't set the `label_columns` argument.\n",
    "    input_width=1, label_width=1, shift=1 ,label_columns=['position_1','position_3','velocity_1','velocity_3']\n",
    "    )\n",
    "\n",
    "wide_window = WindowGenerator(\n",
    "    input_width=8, label_width=8, shift=1 ,label_columns=['position_1','position_3','velocity_1','velocity_3']\n",
    "    )\n",
    "\n",
    "for example_inputs, example_labels in wide_window.train.take(1):\n",
    "  print(f'Inputs shape (batch, time, features): {example_inputs.shape}')\n",
    "  print(f'Labels shape (batch, time, features): {example_labels.shape}')"
   ],
   "metadata": {
    "collapsed": false
   }
  },
  {
   "cell_type": "code",
   "execution_count": null,
   "outputs": [],
   "source": [
    "for example_inputs, example_labels in wide_window.val.take(1):\n",
    "  print(f'Inputs shape (batch, time, features): {example_inputs.shape}')\n",
    "  print(f'Labels shape (batch, time, features): {example_labels.shape}')"
   ],
   "metadata": {
    "collapsed": false
   }
  },
  {
   "cell_type": "code",
   "execution_count": null,
   "outputs": [],
   "source": [
    "for example_inputs, example_labels in single_step_window.train.take(1):\n",
    "  print(f'Inputs shape (batch, time, features): {example_inputs.shape}')\n",
    "  print(f'Labels shape (batch, time, features): {example_labels.shape}')"
   ],
   "metadata": {
    "collapsed": false
   }
  },
  {
   "cell_type": "markdown",
   "source": [
    "Note above that the `features` axis of the labels now has the same depth as the inputs, instead of `1`."
   ],
   "metadata": {
    "collapsed": false
   }
  },
  {
   "cell_type": "markdown",
   "source": [
    "#### Baseline\n",
    "\n",
    "The same baseline model (`Baseline`) can be used here, but this time repeating all features instead of selecting a specific `label_index`:"
   ],
   "metadata": {
    "collapsed": false
   }
  },
  {
   "cell_type": "code",
   "execution_count": null,
   "outputs": [],
   "source": [
    "baseline = Baseline()\n",
    "baseline.compile(loss=tf.keras.losses.MeanSquaredError(),\n",
    "                 metrics=[tf.keras.metrics.MeanAbsoluteError()])\n"
   ],
   "metadata": {
    "collapsed": false
   }
  },
  {
   "cell_type": "code",
   "execution_count": null,
   "outputs": [],
   "source": [
    "val_performance = {}\n",
    "#performance = {}\n",
    "val_performance['Baseline'] = baseline.evaluate(wide_window.val)"
   ],
   "metadata": {
    "collapsed": false
   }
  },
  {
   "cell_type": "markdown",
   "source": [
    "### trying to build the multioutput single step lstm's baseline here"
   ],
   "metadata": {
    "collapsed": false
   }
  },
  {
   "cell_type": "code",
   "execution_count": null,
   "outputs": [],
   "source": [
    "single_step_window = WindowGenerator(\n",
    "    # `WindowGenerator` returns all features as labels if you\n",
    "    # don't set the `label_columns` argument.\n",
    "    input_width=1, label_width=1, shift=1 ,label_columns=['position_1','position_3','velocity_1','velocity_3']\n",
    "    )"
   ],
   "metadata": {
    "collapsed": false
   }
  },
  {
   "cell_type": "markdown",
   "source": [
    "#### Dense"
   ],
   "metadata": {
    "collapsed": false
   }
  },
  {
   "cell_type": "code",
   "execution_count": null,
   "outputs": [],
   "source": [
    "#TESTING THE 4 OUTPUT FUNCTION\n",
    "FEATURES_NUM = 23\n",
    "OUTPUT_NUM = 4\n",
    "dense = tf.keras.Sequential([\n",
    "    tf.keras.layers.Dense(units=16, activation='relu'),\n",
    "    tf.keras.layers.Dense(units=OUTPUT_NUM),\n",
    "    tf.keras.layers.Reshape([1,-1]),\n",
    "])\n"
   ],
   "metadata": {
    "collapsed": false
   }
  },
  {
   "cell_type": "code",
   "execution_count": null,
   "outputs": [],
   "source": [
    "history = compile_and_fit(dense, single_step_window)\n",
    "\n",
    "IPython.display.clear_output()\n",
    "val_performance['Dense'] = dense.evaluate(single_step_window.val)"
   ],
   "metadata": {
    "collapsed": false
   }
  },
  {
   "cell_type": "markdown",
   "source": [
    "#### RNN\n"
   ],
   "metadata": {
    "collapsed": false
   }
  },
  {
   "cell_type": "code",
   "execution_count": null,
   "outputs": [],
   "source": [
    "%%time\n",
    "num_features = 23\n",
    "OUTPUT_NUM = 4\n",
    "wide_window = WindowGenerator(\n",
    "    input_width=8, label_width=8, shift=1#, label_columns=['position_1','position_3','velocity_1','velocity_3']\n",
    "    )\n",
    "\n",
    "lstm_model = tf.keras.models.Sequential([\n",
    "    # Shape [batch, time, features] => [batch, time, lstm_units]\n",
    "    tf.keras.layers.LSTM(32, return_sequences=True),\n",
    "    # Shape => [batch, time, features]\n",
    "    tf.keras.layers.Dense(units=num_features)\n",
    "])\n",
    "\n",
    "history = compile_and_fit(lstm_model, wide_window)\n",
    "\n",
    "IPython.display.clear_output()\n",
    "val_performance['LSTM'] = lstm_model.evaluate( wide_window.val)\n",
    "#performance['LSTM'] = lstm_model.evaluate( wide_window.test, verbose=0)\n",
    "\n",
    "print()"
   ],
   "metadata": {
    "collapsed": false
   }
  },
  {
   "cell_type": "code",
   "execution_count": null,
   "outputs": [],
   "source": [
    "%%time\n",
    "num_features = 23\n",
    "OUTPUT_NUM = 4\n",
    "wide_window = WindowGenerator(\n",
    "    input_width=8, label_width=8, shift=1, label_columns=['position_1','position_3','velocity_1','velocity_3']\n",
    "    )\n",
    "\n",
    "lstm_model = tf.keras.models.Sequential([\n",
    "    # Shape [batch, time, features] => [batch, time, lstm_units]\n",
    "    tf.keras.layers.LSTM(32, return_sequences=True),\n",
    "    # Shape => [batch, time, features]\n",
    "    tf.keras.layers.Dense(units=OUTPUT_NUM)\n",
    "])\n",
    "\n",
    "history = compile_and_fit(lstm_model, wide_window)\n",
    "\n",
    "IPython.display.clear_output()\n",
    "val_performance['LSTM'] = lstm_model.evaluate( wide_window.val)\n",
    "#performance['LSTM'] = lstm_model.evaluate( wide_window.test, verbose=0)\n",
    "\n",
    "print()"
   ],
   "metadata": {
    "collapsed": false
   }
  },
  {
   "cell_type": "markdown",
   "source": [
    "<a id=\"residual\"></a>\n",
    "\n",
    "#### Advanced: Residual connections\n",
    "\n",
    "The `Baseline` model from earlier took advantage of the fact that the sequence doesn't change drastically from time step to time step. Every model trained in this tutorial so far was randomly initialized, and then had to learn that the output is a a small change from the previous time step.\n",
    "\n",
    "While you can get around this issue with careful initialization, it's  simpler to build this into the model structure.\n",
    "\n",
    "It's common in time series analysis to build models that instead of predicting the next value, predict how the value will change in the next time step. Similarly, <a href=\"https://arxiv.org/abs/1512.03385\" class=\"external\">residual networks</a>—or ResNets—in deep learning refer to architectures where each layer adds to the model's accumulating result.\n",
    "\n",
    "That is how you take advantage of the knowledge that the change should be small.\n",
    "\n",
    "![A model with a residual connection](https://github.com/tensorflow/docs/blob/master/site/en/tutorials/structured_data/images/residual.png?raw=1)\n",
    "\n",
    "Essentially, this initializes the model to match the `Baseline`. For this task it helps models converge faster, with slightly better performance."
   ],
   "metadata": {
    "collapsed": false
   }
  },
  {
   "cell_type": "markdown",
   "source": [
    "This approach can be used in conjunction with any model discussed in this tutorial.\n",
    "\n",
    "Here, it is being applied to the LSTM model, note the use of the `tf.initializers.zeros` to ensure that the initial predicted changes are small, and don't overpower the residual connection. There are no symmetry-breaking concerns for the gradients here, since the `zeros` are only used on the last layer."
   ],
   "metadata": {
    "collapsed": false
   }
  },
  {
   "cell_type": "code",
   "execution_count": null,
   "outputs": [],
   "source": [
    "class ResidualWrapper(tf.keras.Model):\n",
    "  def __init__(self, model):\n",
    "    super().__init__()\n",
    "    self.model = model\n",
    "\n",
    "  def call(self, inputs, *args, **kwargs):\n",
    "    delta = self.model(inputs, *args, **kwargs)\n",
    "\n",
    "    # The prediction for each time step is the input\n",
    "    # from the previous time step plus the delta\n",
    "    # calculated by the model.\n",
    "    return inputs + delta"
   ],
   "metadata": {
    "collapsed": false
   }
  },
  {
   "cell_type": "code",
   "execution_count": null,
   "outputs": [],
   "source": [
    "%%time\n",
    "residual_lstm = ResidualWrapper(\n",
    "    tf.keras.Sequential([\n",
    "    tf.keras.layers.LSTM(32, return_sequences=True),\n",
    "    tf.keras.layers.Dense(\n",
    "        num_features,\n",
    "        # The predicted deltas should start small.\n",
    "        # Therefore, initialize the output layer with zeros.\n",
    "        kernel_initializer=tf.initializers.zeros()),\n",
    "\n",
    "]))\n",
    "\n",
    "history = compile_and_fit(residual_lstm, wide_window)\n",
    "\n",
    "IPython.display.clear_output()\n",
    "val_performance['Residual LSTM'] = residual_lstm.evaluate(wide_window.val)\n",
    "#performance['Residual LSTM'] = residual_lstm.evaluate(wide_window.test, verbose=0)\n",
    "print()"
   ],
   "metadata": {
    "collapsed": false
   }
  },
  {
   "cell_type": "code",
   "execution_count": null,
   "outputs": [],
   "source": [
    "%%time\n",
    "residual_lstm = ResidualWrapper(\n",
    "    tf.keras.Sequential([\n",
    "    tf.keras.layers.LSTM(32, return_sequences=True),\n",
    "    tf.keras.layers.Dense(\n",
    "        num_features,\n",
    "        # The predicted deltas should start small.\n",
    "        # Therefore, initialize the output layer with zeros.\n",
    "        kernel_initializer=tf.initializers.zeros()),\n",
    "\n",
    "]))\n",
    "\n",
    "history = compile_and_fit(residual_lstm, wide_window)\n",
    "\n",
    "IPython.display.clear_output()\n",
    "val_performance['Residual LSTM'] = residual_lstm.evaluate(wide_window.val)\n",
    "#performance['Residual LSTM'] = residual_lstm.evaluate(wide_window.test, verbose=0)\n",
    "print()"
   ],
   "metadata": {
    "collapsed": false
   }
  },
  {
   "cell_type": "markdown",
   "source": [
    "#### Performance"
   ],
   "metadata": {
    "collapsed": false
   }
  },
  {
   "cell_type": "markdown",
   "source": [
    "Here is the overall performance for these multi-output models."
   ],
   "metadata": {
    "collapsed": false
   }
  },
  {
   "cell_type": "code",
   "execution_count": null,
   "outputs": [],
   "source": [
    "x = np.arange(len(val_performance))\n",
    "width = 0.3\n",
    "\n",
    "metric_name = 'mean_absolute_error'\n",
    "metric_index = lstm_model.metrics_names.index('mean_absolute_error')\n",
    "val_mae = [v[metric_index] for v in val_performance.values()]\n",
    "#test_mae = [v[metric_index] for v in performance.values()]\n",
    "\n",
    "plt.bar(x - 0.17, val_mae, width, label='Validation')\n",
    "#plt.bar(x + 0.17, test_mae, width, label='Test')\n",
    "plt.xticks(ticks=x, labels=val_performance.keys(),\n",
    "           rotation=45)\n",
    "plt.ylabel('MAE (average over all outputs)')\n",
    "_ = plt.legend()"
   ],
   "metadata": {
    "collapsed": false
   }
  },
  {
   "cell_type": "code",
   "execution_count": null,
   "outputs": [],
   "source": [
    "for name, value in val_performance.items():\n",
    "  print(f'{name:15s}: {value[1]:0.4f}')"
   ],
   "metadata": {
    "collapsed": false
   }
  },
  {
   "cell_type": "code",
   "execution_count": null,
   "outputs": [],
   "source": [
    "def plot(self, model=None, plot_col='position_1', max_subplots=3):\n",
    "  inputs, labels = self.example\n",
    "  plt.figure(figsize=(12, 8))\n",
    "  plot_col_index = self.column_indices[plot_col]\n",
    "  max_n = min(max_subplots, len(inputs))\n",
    "  for n in range(max_n):\n",
    "    plt.subplot(max_n, 1, n+1)\n",
    "    plt.ylabel(f'{plot_col} [normed]')\n",
    "    plt.plot(self.input_indices, inputs[n, :, plot_col_index],\n",
    "             label='Inputs', marker='.', zorder=-10)\n",
    "\n",
    "    if self.label_columns:\n",
    "      label_col_index = self.label_columns_indices.get(plot_col, None)\n",
    "    else:\n",
    "      label_col_index = plot_col_index\n",
    "\n",
    "    if label_col_index is None:\n",
    "      continue\n",
    "\n",
    "    plt.scatter(self.label_indices, labels[n, :, label_col_index],\n",
    "                edgecolors='k', label='Labels', c='#2ca02c', s=64)\n",
    "    if model is not None:\n",
    "      predictions = model(inputs)\n",
    "      plt.scatter(self.label_indices, predictions[n, :, label_col_index],\n",
    "                  marker='X', edgecolors='k', label='Predictions',\n",
    "                  c='#ff7f0e', s=64)\n",
    "\n",
    "    if n == 0:\n",
    "      plt.legend()\n",
    "\n",
    "  plt.xlabel('Time')\n"
   ],
   "metadata": {
    "collapsed": false
   }
  },
  {
   "cell_type": "markdown",
   "source": [
    "The above performances are averaged across all model outputs."
   ],
   "metadata": {
    "collapsed": false
   }
  },
  {
   "cell_type": "markdown",
   "source": [
    "## Multi-step models\n",
    "\n",
    "Both the single-output and multiple-output models in the previous sections made **single time step predictions**, one hour into the future.\n",
    "\n",
    "This section looks at how to expand these models to make **multiple time step predictions**.\n",
    "\n",
    "In a multi-step prediction, the model needs to learn to predict a range of future values. Thus, unlike a single step model, where only a single future point is predicted, a multi-step model predicts a sequence of the future values.\n",
    "\n",
    "There are two rough approaches to this:\n",
    "\n",
    "1. Single shot predictions where the entire time series is predicted at once.\n",
    "2. Autoregressive predictions where the model only makes single step predictions and its output is fed back as its input.\n",
    "\n",
    "In this section all the models will predict **all the features across all output time steps**.\n"
   ],
   "metadata": {
    "collapsed": false
   }
  },
  {
   "cell_type": "markdown",
   "source": [
    "For the multi-step model, the training data again consists of hourly samples. However, here, the models will learn to predict 24 hours into the future, given 24 hours of the past.\n",
    "\n",
    "Here is a `Window` object that generates these slices from the dataset:"
   ],
   "metadata": {
    "collapsed": false
   }
  },
  {
   "cell_type": "code",
   "execution_count": null,
   "outputs": [],
   "source": [
    "OUT_STEPS = 24\n",
    "multi_window = WindowGenerator(input_width=24,\n",
    "                               label_width=OUT_STEPS,\n",
    "                               shift=OUT_STEPS)\n",
    "\n",
    "multi_window.plot()\n",
    "multi_window"
   ],
   "metadata": {
    "collapsed": false
   }
  },
  {
   "cell_type": "markdown",
   "source": [
    "### Baselines"
   ],
   "metadata": {
    "collapsed": false
   }
  },
  {
   "cell_type": "markdown",
   "source": [
    "A simple baseline for this task is to repeat the last input time step for the required number of output time steps:\n",
    "\n",
    "![Repeat the last input, for each output step](https://github.com/tensorflow/docs/blob/master/site/en/tutorials/structured_data/images/multistep_last.png?raw=1)"
   ],
   "metadata": {
    "collapsed": false
   }
  },
  {
   "cell_type": "code",
   "execution_count": null,
   "outputs": [],
   "source": [
    "class MultiStepLastBaseline(tf.keras.Model):\n",
    "  def call(self, inputs):\n",
    "    return tf.tile(inputs[:, -1:, :], [1, OUT_STEPS, 1])\n",
    "\n",
    "last_baseline = MultiStepLastBaseline()\n",
    "last_baseline.compile(loss=tf.keras.losses.MeanSquaredError(),\n",
    "                      metrics=[tf.keras.metrics.MeanAbsoluteError()])\n",
    "\n",
    "multi_val_performance = {}\n",
    "multi_performance = {}\n",
    "\n",
    "multi_val_performance['Last'] = last_baseline.evaluate(multi_window.val)\n",
    "multi_performance['Last'] = last_baseline.evaluate(multi_window.test, verbose=0)\n",
    "multi_window.plot(last_baseline)"
   ],
   "metadata": {
    "collapsed": false
   }
  },
  {
   "cell_type": "markdown",
   "source": [
    "Since this task is to predict 24 hours into the future, given 24 hours of the past, another simple approach is to repeat the previous day, assuming tomorrow will be similar:\n",
    "\n",
    "![Repeat the previous day](https://github.com/tensorflow/docs/blob/master/site/en/tutorials/structured_data/images/multistep_repeat.png?raw=1)"
   ],
   "metadata": {
    "collapsed": false
   }
  },
  {
   "cell_type": "code",
   "execution_count": null,
   "outputs": [],
   "source": [
    "class RepeatBaseline(tf.keras.Model):\n",
    "  def call(self, inputs):\n",
    "    return inputs\n",
    "\n",
    "repeat_baseline = RepeatBaseline()\n",
    "repeat_baseline.compile(loss=tf.keras.losses.MeanSquaredError(),\n",
    "                        metrics=[tf.keras.metrics.MeanAbsoluteError()])\n",
    "\n",
    "multi_val_performance['Repeat'] = repeat_baseline.evaluate(multi_window.val)\n",
    "multi_performance['Repeat'] = repeat_baseline.evaluate(multi_window.test, verbose=0)\n",
    "multi_window.plot(repeat_baseline)"
   ],
   "metadata": {
    "collapsed": false
   }
  },
  {
   "cell_type": "markdown",
   "source": [
    "### Single-shot models\n",
    "\n",
    "One high-level approach to this problem is to use a \"single-shot\" model, where the model makes the entire sequence prediction in a single step.\n",
    "\n",
    "This can be implemented efficiently as a `tf.keras.layers.Dense` with `OUT_STEPS*features` output units. The model just needs to reshape that output to the required `(OUTPUT_STEPS, features)`."
   ],
   "metadata": {
    "collapsed": false
   }
  },
  {
   "cell_type": "markdown",
   "source": [
    "#### Linear\n",
    "\n",
    "A simple linear model based on the last input time step does better than either baseline, but is underpowered. The model needs to predict `OUTPUT_STEPS` time steps, from a single input time step with a linear projection. It can only capture a low-dimensional slice of the behavior, likely based mainly on the time of day and time of year.\n",
    "\n",
    "![Predict all timesteps from the last time-step](https://github.com/tensorflow/docs/blob/master/site/en/tutorials/structured_data/images/multistep_dense.png?raw=1)"
   ],
   "metadata": {
    "collapsed": false
   }
  },
  {
   "cell_type": "code",
   "execution_count": null,
   "outputs": [],
   "source": [
    "multi_linear_model = tf.keras.Sequential([\n",
    "    # Take the last time-step.\n",
    "    # Shape [batch, time, features] => [batch, 1, features]\n",
    "    tf.keras.layers.Lambda(lambda x: x[:, -1:, :]),\n",
    "    # Shape => [batch, 1, out_steps*features]\n",
    "    tf.keras.layers.Dense(OUT_STEPS*num_features,\n",
    "                          kernel_initializer=tf.initializers.zeros()),\n",
    "    # Shape => [batch, out_steps, features]\n",
    "    tf.keras.layers.Reshape([OUT_STEPS, num_features])\n",
    "])\n",
    "\n",
    "history = compile_and_fit(multi_linear_model, multi_window)\n",
    "\n",
    "IPython.display.clear_output()\n",
    "multi_val_performance['Linear'] = multi_linear_model.evaluate(multi_window.val)\n",
    "multi_performance['Linear'] = multi_linear_model.evaluate(multi_window.test, verbose=0)\n",
    "multi_window.plot(multi_linear_model)"
   ],
   "metadata": {
    "collapsed": false
   }
  },
  {
   "cell_type": "markdown",
   "source": [
    "#### Dense\n",
    "\n",
    "Adding a `tf.keras.layers.Dense` between the input and output gives the linear model more power, but is still only based on a single input time step."
   ],
   "metadata": {
    "collapsed": false
   }
  },
  {
   "cell_type": "markdown",
   "source": [
    "#### CNN"
   ],
   "metadata": {
    "collapsed": false
   }
  },
  {
   "cell_type": "markdown",
   "source": [
    "A convolutional model makes predictions based on a fixed-width history, which may lead to better performance than the dense model since it can see how things are changing over time:\n",
    "\n",
    "![A convolutional model sees how things change over time](https://github.com/tensorflow/docs/blob/master/site/en/tutorials/structured_data/images/multistep_conv.png?raw=1)"
   ],
   "metadata": {
    "collapsed": false
   }
  },
  {
   "cell_type": "markdown",
   "source": [
    "#### RNN"
   ],
   "metadata": {
    "collapsed": false
   }
  },
  {
   "cell_type": "markdown",
   "source": [
    "A recurrent model can learn to use a long history of inputs, if it's relevant to the predictions the model is making. Here the model will accumulate internal state for 24 hours, before making a single prediction for the next 24 hours.\n",
    "\n",
    "In this single-shot format, the LSTM only needs to produce an output at the last time step, so set `return_sequences=False` in `tf.keras.layers.LSTM`.\n",
    "\n",
    "![The LSTM accumulates state over the input window, and makes a single prediction for the next 24 hours](https://github.com/tensorflow/docs/blob/master/site/en/tutorials/structured_data/images/multistep_lstm.png?raw=1)\n"
   ],
   "metadata": {
    "collapsed": false
   }
  },
  {
   "cell_type": "code",
   "execution_count": null,
   "outputs": [],
   "source": [
    "multi_lstm_model = tf.keras.Sequential([\n",
    "    # Shape [batch, time, features] => [batch, lstm_units].\n",
    "    # Adding more `lstm_units` just overfits more quickly.\n",
    "    tf.keras.layers.LSTM(32, return_sequences=False),\n",
    "    # Shape => [batch, out_steps*features].\n",
    "    tf.keras.layers.Dense(OUT_STEPS*num_features,\n",
    "                          kernel_initializer=tf.initializers.zeros()),\n",
    "    # Shape => [batch, out_steps, features].\n",
    "    tf.keras.layers.Reshape([OUT_STEPS, num_features])\n",
    "])\n",
    "\n",
    "history = compile_and_fit(multi_lstm_model, multi_window)\n",
    "\n",
    "IPython.display.clear_output()\n",
    "\n",
    "multi_val_performance['LSTM'] = multi_lstm_model.evaluate(multi_window.val)\n",
    "multi_performance['LSTM'] = multi_lstm_model.evaluate(multi_window.test, verbose=0)\n",
    "multi_window.plot(multi_lstm_model)"
   ],
   "metadata": {
    "collapsed": false
   }
  },
  {
   "cell_type": "markdown",
   "source": [
    "### Advanced: Autoregressive model\n",
    "\n",
    "The above models all predict the entire output sequence in a single step.\n",
    "\n",
    "In some cases it may be helpful for the model to decompose this prediction into individual time steps. Then, each model's output can be fed back into itself at each step and predictions can be made conditioned on the previous one, like in the classic <a href=\"https://arxiv.org/abs/1308.0850\" class=\"external\">Generating Sequences With Recurrent Neural Networks</a>.\n",
    "\n",
    "One clear advantage to this style of model is that it can be set up to produce output with a varying length.\n",
    "\n",
    "You could take any of the single-step multi-output models trained in the first half of this tutorial and run in an autoregressive feedback loop, but here you'll focus on building a model that's been explicitly trained to do that.\n",
    "\n",
    "![Feedback a model's output to its input](https://github.com/tensorflow/docs/blob/master/site/en/tutorials/structured_data/images/multistep_autoregressive.png?raw=1)"
   ],
   "metadata": {
    "collapsed": false
   }
  },
  {
   "cell_type": "markdown",
   "source": [
    "#### RNN\n",
    "\n",
    "This tutorial only builds an autoregressive RNN model, but this pattern could be applied to any model that was designed to output a single time step.\n",
    "\n",
    "The model will have the same basic form as the single-step LSTM models from earlier: a `tf.keras.layers.LSTM` layer followed by a `tf.keras.layers.Dense` layer that converts the `LSTM` layer's outputs to model predictions.\n",
    "\n",
    "A `tf.keras.layers.LSTM` is a `tf.keras.layers.LSTMCell` wrapped in the higher level `tf.keras.layers.RNN` that manages the state and sequence results for you (Check out the [Recurrent Neural Networks (RNN) with Keras](https://www.tensorflow.org/guide/keras/rnn) guide for details).\n",
    "\n",
    "In this case, the model has to manually manage the inputs for each step, so it uses `tf.keras.layers.LSTMCell` directly for the lower level, single time step interface."
   ],
   "metadata": {
    "collapsed": false
   }
  },
  {
   "cell_type": "code",
   "execution_count": null,
   "outputs": [],
   "source": [
    "class FeedBack(tf.keras.Model):\n",
    "  def __init__(self, units, out_steps):\n",
    "    super().__init__()\n",
    "    self.out_steps = out_steps\n",
    "    self.units = units\n",
    "    self.lstm_cell = tf.keras.layers.LSTMCell(units)\n",
    "    # Also wrap the LSTMCell in an RNN to simplify the `warmup` method.\n",
    "    self.lstm_rnn = tf.keras.layers.RNN(self.lstm_cell, return_state=True)\n",
    "    self.dense = tf.keras.layers.Dense(num_features)"
   ],
   "metadata": {
    "collapsed": false
   }
  },
  {
   "cell_type": "code",
   "execution_count": null,
   "outputs": [],
   "source": [
    "feedback_model = FeedBack(units=32, out_steps=OUT_STEPS)"
   ],
   "metadata": {
    "collapsed": false
   }
  },
  {
   "cell_type": "markdown",
   "source": [
    "The first method this model needs is a `warmup` method to initialize its internal state based on the inputs. Once trained, this state will capture the relevant parts of the input history. This is equivalent to the single-step `LSTM` model from earlier:"
   ],
   "metadata": {
    "collapsed": false
   }
  },
  {
   "cell_type": "code",
   "execution_count": null,
   "outputs": [],
   "source": [
    "def warmup(self, inputs):\n",
    "  # inputs.shape => (batch, time, features)\n",
    "  # x.shape => (batch, lstm_units)\n",
    "  x, *state = self.lstm_rnn(inputs)\n",
    "\n",
    "  # predictions.shape => (batch, features)\n",
    "  prediction = self.dense(x)\n",
    "  return prediction, state\n",
    "\n",
    "FeedBack.warmup = warmup"
   ],
   "metadata": {
    "collapsed": false
   }
  },
  {
   "cell_type": "markdown",
   "source": [
    "This method returns a single time-step prediction and the internal state of the `LSTM`:"
   ],
   "metadata": {
    "collapsed": false
   }
  },
  {
   "cell_type": "code",
   "execution_count": null,
   "outputs": [],
   "source": [
    "prediction, state = feedback_model.warmup(multi_window.example[0])\n",
    "prediction.shape\n"
   ],
   "metadata": {
    "collapsed": false
   }
  }
 ],
 "metadata": {
  "accelerator": "GPU",
  "colab": {
   "toc_visible": true,
   "provenance": [],
   "collapsed_sections": [
    "vtmu2IBPgPG8",
    "FYyEaqiD6j4s",
    "_8im1ttOWlRB",
    "tFZukGXrJoGo",
    "xCvD-UaUzYMw",
    "D1bbPiR3VAm_",
    "E4aOJScj52Yu",
    "W18e6da1cNbw",
    "j5dv_whJdswH",
    "CrpU6gwSJome",
    "H4crpOcoMlSe",
    "pYglOCKehi8F",
    "b5rUJ_2YMWzG",
    "9k7S5IHNhSNF",
    "dfbCrf5q3P6n",
    "dsc9pur_mHsx",
    "UwhY2f_Nn0_K",
    "I42Er9Du6co1",
    "5lg8SInh9Jzd",
    "tbndS-ct9C2Q",
    "NCKS4m1VKrDQ",
    "zi2TMHk2IRrh",
    "icsBAjCzMaMl",
    "weBjeZAFJOP4",
    "d5n-1cDW12Vo",
    "PKRreBbULRXY",
    "hGjcJsAQJUkI"
   ]
  },
  "kernelspec": {
   "display_name": "Python 3",
   "name": "python3"
  }
 },
 "nbformat": 4,
 "nbformat_minor": 0
}
